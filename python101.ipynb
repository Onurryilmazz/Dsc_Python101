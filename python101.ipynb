{
 "cells": [
  {
   "cell_type": "code",
   "execution_count": 3,
   "metadata": {},
   "outputs": [
    {
     "name": "stdout",
     "output_type": "stream",
     "text": [
      "Python 3.8.3\n"
     ]
    }
   ],
   "source": [
    "!python --version"
   ]
  },
  {
   "cell_type": "markdown",
   "metadata": {},
   "source": [
    "### Hello World"
   ]
  },
  {
   "cell_type": "code",
   "execution_count": 1,
   "metadata": {},
   "outputs": [
    {
     "name": "stdout",
     "output_type": "stream",
     "text": [
      "Hello World\n"
     ]
    }
   ],
   "source": [
    "print(\"Hello World\")"
   ]
  },
  {
   "cell_type": "code",
   "execution_count": 2,
   "metadata": {},
   "outputs": [
    {
     "name": "stdout",
     "output_type": "stream",
     "text": [
      "Hello World\n"
     ]
    }
   ],
   "source": [
    "print('Hello World')"
   ]
  },
  {
   "cell_type": "markdown",
   "metadata": {},
   "source": [
    "## Veri Tipleri"
   ]
  },
  {
   "cell_type": "markdown",
   "metadata": {},
   "source": [
    "1) String : karaker dizileri (harf, kelime veya cümleler) birer string ifadelerdir. Tırnak işaretleri arasında tanımlanır\n",
    "\n",
    "2) İnteger : Tam Sayılardır. (3 5 12 -2)\n",
    "\n",
    "3) Float : Ondalıklı Sayılar float olarak ifade edilir (2.6 5.0)\n",
    "\n",
    "4) Boolen : True ve False değerleri Boolen veri tipleridir.\n",
    "\n",
    "5) Comlex sayılar : 5 + 3j gibi karmaşık sayılardır. Normalde  matematikte i kullanılır ancak pythonda bu j dir. "
   ]
  },
  {
   "cell_type": "markdown",
   "metadata": {},
   "source": [
    "#### Örnek"
   ]
  },
  {
   "cell_type": "code",
   "execution_count": 3,
   "metadata": {},
   "outputs": [
    {
     "name": "stdout",
     "output_type": "stream",
     "text": [
      "Python\n",
      "A\n",
      "Python derslerine hoş geldiniz\n"
     ]
    }
   ],
   "source": [
    "print(\"Python\")\n",
    "print(\"A\")\n",
    "print(\"Python derslerine hoş geldiniz\")"
   ]
  },
  {
   "cell_type": "code",
   "execution_count": 6,
   "metadata": {},
   "outputs": [
    {
     "name": "stdout",
     "output_type": "stream",
     "text": [
      "<class 'str'>\n"
     ]
    }
   ],
   "source": [
    "print(type(\"python\"))"
   ]
  },
  {
   "cell_type": "code",
   "execution_count": 4,
   "metadata": {},
   "outputs": [
    {
     "name": "stdout",
     "output_type": "stream",
     "text": [
      "4\n",
      "3.5\n"
     ]
    }
   ],
   "source": [
    "print(4)\n",
    "print(3.5)"
   ]
  },
  {
   "cell_type": "code",
   "execution_count": 7,
   "metadata": {},
   "outputs": [
    {
     "name": "stdout",
     "output_type": "stream",
     "text": [
      "<class 'int'>\n",
      "<class 'float'>\n"
     ]
    }
   ],
   "source": [
    "print(type(3))\n",
    "print(type(3.0))"
   ]
  },
  {
   "cell_type": "code",
   "execution_count": 8,
   "metadata": {},
   "outputs": [
    {
     "name": "stdout",
     "output_type": "stream",
     "text": [
      "<class 'bool'>\n"
     ]
    }
   ],
   "source": [
    "print(type(True))"
   ]
  },
  {
   "cell_type": "code",
   "execution_count": 27,
   "metadata": {},
   "outputs": [
    {
     "name": "stdout",
     "output_type": "stream",
     "text": [
      "<class 'complex'>\n"
     ]
    }
   ],
   "source": [
    "print(type(4+ 6j))"
   ]
  },
  {
   "cell_type": "code",
   "execution_count": 28,
   "metadata": {},
   "outputs": [
    {
     "name": "stdout",
     "output_type": "stream",
     "text": [
      "(4+9j)\n",
      "<class 'complex'>\n"
     ]
    }
   ],
   "source": [
    "x= complex(4,9)\n",
    "print(x)\n",
    "print(type(x))"
   ]
  },
  {
   "cell_type": "markdown",
   "metadata": {},
   "source": [
    "#### Yorum Satırı"
   ]
  },
  {
   "cell_type": "code",
   "execution_count": 37,
   "metadata": {},
   "outputs": [],
   "source": [
    "#Merhabalar"
   ]
  },
  {
   "cell_type": "code",
   "execution_count": 1,
   "metadata": {},
   "outputs": [
    {
     "name": "stdout",
     "output_type": "stream",
     "text": [
      "yorum satırı\n"
     ]
    }
   ],
   "source": [
    "\"\"\"\n",
    "yazıcağımız yorum\n",
    "1'den çok satırı kapsıyorsa\n",
    "3 tırnak kullanırız\n",
    "\"\"\"\n",
    "print('yorum satırı')"
   ]
  },
  {
   "cell_type": "markdown",
   "metadata": {},
   "source": [
    "## Değişken Atamaları"
   ]
  },
  {
   "cell_type": "markdown",
   "metadata": {},
   "source": [
    "##### Değişken isimlendirmelerindeki kurallar\n",
    "\n",
    "1- Değişkenler sayı ile başlayamaz. Ancak değişken isminin içinde kullanılabilir.                                    \n",
    "2- _ dışındaki hiç bir ..... ifade değişken oluştururken kullanılmaz                                                    \n"
   ]
  },
  {
   "cell_type": "code",
   "execution_count": 6,
   "metadata": {},
   "outputs": [
    {
     "name": "stdout",
     "output_type": "stream",
     "text": [
      "istanbul Üniversitesi\n",
      "okul\n"
     ]
    }
   ],
   "source": [
    "okul = 'istanbul Üniversitesi'\n",
    "print(okul)\n",
    "print('okul')    #ikisinin farkına değin"
   ]
  },
  {
   "cell_type": "code",
   "execution_count": 10,
   "metadata": {},
   "outputs": [
    {
     "name": "stdout",
     "output_type": "stream",
     "text": [
      "20\n"
     ]
    }
   ],
   "source": [
    "yas= 20\n",
    "print(20)"
   ]
  },
  {
   "cell_type": "code",
   "execution_count": 38,
   "metadata": {},
   "outputs": [
    {
     "name": "stdout",
     "output_type": "stream",
     "text": [
      "istanbul\n"
     ]
    }
   ],
   "source": [
    "_sehir = 'istanbul'\n",
    "print(_sehir)"
   ]
  },
  {
   "cell_type": "code",
   "execution_count": 13,
   "metadata": {},
   "outputs": [
    {
     "ename": "SyntaxError",
     "evalue": "invalid syntax (<ipython-input-13-8f69660ebe8a>, line 1)",
     "output_type": "error",
     "traceback": [
      "\u001b[1;36m  File \u001b[1;32m\"<ipython-input-13-8f69660ebe8a>\"\u001b[1;36m, line \u001b[1;32m1\u001b[0m\n\u001b[1;33m    ders& = 'matematik'\u001b[0m\n\u001b[1;37m          ^\u001b[0m\n\u001b[1;31mSyntaxError\u001b[0m\u001b[1;31m:\u001b[0m invalid syntax\n"
     ]
    }
   ],
   "source": [
    "ders& = 'matematik'"
   ]
  },
  {
   "cell_type": "code",
   "execution_count": 14,
   "metadata": {},
   "outputs": [
    {
     "ename": "SyntaxError",
     "evalue": "invalid syntax (<ipython-input-14-51e05125e721>, line 1)",
     "output_type": "error",
     "traceback": [
      "\u001b[1;36m  File \u001b[1;32m\"<ipython-input-14-51e05125e721>\"\u001b[1;36m, line \u001b[1;32m1\u001b[0m\n\u001b[1;33m    3harf = 'xyz'\u001b[0m\n\u001b[1;37m     ^\u001b[0m\n\u001b[1;31mSyntaxError\u001b[0m\u001b[1;31m:\u001b[0m invalid syntax\n"
     ]
    }
   ],
   "source": [
    "3harf = 'xyz'"
   ]
  },
  {
   "cell_type": "code",
   "execution_count": 39,
   "metadata": {},
   "outputs": [
    {
     "name": "stdout",
     "output_type": "stream",
     "text": [
      "xyz\n"
     ]
    }
   ],
   "source": [
    "harf3 = 'xyz'\n",
    "print(harf3)"
   ]
  },
  {
   "cell_type": "markdown",
   "metadata": {},
   "source": [
    "###### bir den çok değişkeni aynı anda atayabiliyoruz"
   ]
  },
  {
   "cell_type": "code",
   "execution_count": 7,
   "metadata": {},
   "outputs": [],
   "source": [
    "a,b,c,d=10,20,30,40"
   ]
  },
  {
   "cell_type": "code",
   "execution_count": 8,
   "metadata": {},
   "outputs": [
    {
     "name": "stdout",
     "output_type": "stream",
     "text": [
      "10\n",
      "20\n",
      "30\n",
      "40\n"
     ]
    }
   ],
   "source": [
    "print(a)\n",
    "print(b)\n",
    "print(c)\n",
    "print(d)"
   ]
  },
  {
   "cell_type": "markdown",
   "metadata": {},
   "source": [
    "##### Değişkenleri Takas Edebiliyoruz"
   ]
  },
  {
   "cell_type": "code",
   "execution_count": 10,
   "metadata": {},
   "outputs": [],
   "source": [
    "a,b,c,d = d,c,b,a"
   ]
  },
  {
   "cell_type": "code",
   "execution_count": 45,
   "metadata": {},
   "outputs": [
    {
     "name": "stdout",
     "output_type": "stream",
     "text": [
      "40\n",
      "30\n",
      "20\n",
      "10\n"
     ]
    }
   ],
   "source": [
    "print(a)\n",
    "print(b)\n",
    "print(c)\n",
    "print(d)"
   ]
  },
  {
   "cell_type": "markdown",
   "metadata": {},
   "source": [
    "### Print Fonksiyonu"
   ]
  },
  {
   "cell_type": "markdown",
   "metadata": {},
   "source": [
    "print fonksiyonunu ayrınlı olarak ele alalım                                                                 \n"
   ]
  },
  {
   "cell_type": "code",
   "execution_count": 14,
   "metadata": {},
   "outputs": [
    {
     "name": "stdout",
     "output_type": "stream",
     "text": [
      "Onur Yılmaz\n"
     ]
    }
   ],
   "source": [
    "ad='Onur'\n",
    "soyad='Yılmaz'\n",
    "\n",
    "print(ad,soyad)"
   ]
  },
  {
   "cell_type": "code",
   "execution_count": 42,
   "metadata": {},
   "outputs": [
    {
     "name": "stdout",
     "output_type": "stream",
     "text": [
      "Python eğitimini Onur veriyor\n"
     ]
    }
   ],
   "source": [
    "print(\"Python eğitimini\", ad, \"veriyor\")"
   ]
  },
  {
   "cell_type": "code",
   "execution_count": 12,
   "metadata": {},
   "outputs": [
    {
     "name": "stdout",
     "output_type": "stream",
     "text": [
      " abc \n",
      " abc \n",
      " abc \n"
     ]
    }
   ],
   "source": [
    "print(' abc ')\n",
    "print(\" abc \")\n",
    "print(\"\"\" abc \"\"\")"
   ]
  },
  {
   "cell_type": "markdown",
   "metadata": {},
   "source": [
    "Peki çıktılarda hiçbir fark yoksa neden üç farklı tırnak çeşidi var ? Örnek üzerinden açıklayalım"
   ]
  },
  {
   "cell_type": "code",
   "execution_count": 15,
   "metadata": {},
   "outputs": [
    {
     "ename": "SyntaxError",
     "evalue": "invalid syntax (<ipython-input-15-3c6fc98575a3>, line 3)",
     "output_type": "error",
     "traceback": [
      "\u001b[1;36m  File \u001b[1;32m\"<ipython-input-15-3c6fc98575a3>\"\u001b[1;36m, line \u001b[1;32m3\u001b[0m\n\u001b[1;33m    print('İstanbul'un 5 günlük hava durumu tahmini nedir')\u001b[0m\n\u001b[1;37m                    ^\u001b[0m\n\u001b[1;31mSyntaxError\u001b[0m\u001b[1;31m:\u001b[0m invalid syntax\n"
     ]
    }
   ],
   "source": [
    "#İstanbul'un 5 günlük hava durumu tahmini  => Bunu yazdırmak istiyoruz\n",
    "\n",
    "print('İstanbul'un 5 günlük hava durumu tahmini nedir')\n",
    "      \n",
    "#Tırnak işaretlerinden dolayı hata alacağız"
   ]
  },
  {
   "cell_type": "code",
   "execution_count": 16,
   "metadata": {},
   "outputs": [
    {
     "name": "stdout",
     "output_type": "stream",
     "text": [
      "İstanbul'un 5 günlük hava durumu tahmini nedir\n"
     ]
    }
   ],
   "source": [
    "print(\"İstanbul'un 5 günlük hava durumu tahmini nedir\")"
   ]
  },
  {
   "cell_type": "code",
   "execution_count": 18,
   "metadata": {},
   "outputs": [
    {
     "name": "stdout",
     "output_type": "stream",
     "text": [
      "Benim adım Onur.\n",
      "Bugün Size Python eğitimi vereceğim.\n",
      "Şimdiden teşekkürler\n"
     ]
    }
   ],
   "source": [
    "#3'lü tırnağı her şekilde kullanabiliyor olsakta genellikle birden çok satıra yayılmış karakter dizilerini \n",
    "#tanımlamada kullanılır\n",
    "\n",
    "print(\"\"\"Benim adım Onur.\n",
    "Bugün Size Python eğitimi vereceğim.\n",
    "Şimdiden teşekkürler\"\"\")"
   ]
  },
  {
   "cell_type": "code",
   "execution_count": 17,
   "metadata": {},
   "outputs": [
    {
     "ename": "SyntaxError",
     "evalue": "EOL while scanning string literal (<ipython-input-17-4a0e87b2e6f1>, line 1)",
     "output_type": "error",
     "traceback": [
      "\u001b[1;36m  File \u001b[1;32m\"<ipython-input-17-4a0e87b2e6f1>\"\u001b[1;36m, line \u001b[1;32m1\u001b[0m\n\u001b[1;33m    print(\"sdfdsfsdf\u001b[0m\n\u001b[1;37m                    ^\u001b[0m\n\u001b[1;31mSyntaxError\u001b[0m\u001b[1;31m:\u001b[0m EOL while scanning string literal\n"
     ]
    }
   ],
   "source": [
    "print(\"sdfdsfsdf\n",
    "      sdfsdfsdf\n",
    "      sdfsdf\")"
   ]
  },
  {
   "cell_type": "markdown",
   "metadata": {},
   "source": [
    "#### Print Fonksiyonunun Parametreleri"
   ]
  },
  {
   "cell_type": "markdown",
   "metadata": {},
   "source": [
    "Parametreler fonksiyonlarımızın daha işlevsel hale gelmesini saplayan araçlardır"
   ]
  },
  {
   "cell_type": "code",
   "execution_count": 19,
   "metadata": {},
   "outputs": [
    {
     "name": "stdout",
     "output_type": "stream",
     "text": [
      "www. google. com\n"
     ]
    }
   ],
   "source": [
    "# 1-Sep  => separator (ayırıcı, ayraç) kelimesinin kısaltılmışıdır  (shift + tab yaparak bakabiliyoruz)\n",
    "\n",
    "print(\"www.\", \"google.\", \"com\")\n",
    "\n",
    "#Görüldüğü üzere print fonksiyonu verdiğimiz değerleri belirli bir düzen içersinde yani\n",
    "#aralarına boşluk koyarak birleştiriyor. İşte bu noktada print fonksiyonunun ön tanımlı davranışlarını değiştirebiliriz"
   ]
  },
  {
   "cell_type": "code",
   "execution_count": 16,
   "metadata": {},
   "outputs": [
    {
     "name": "stdout",
     "output_type": "stream",
     "text": [
      "T.C\n"
     ]
    }
   ],
   "source": [
    "print(\"T\", \"C\", sep=\".\")\n",
    "\n",
    "#sep parametresinin varsayılan değerini değiştirerek kelimeleri birleştirirken arasına nokta koymasını söyledik"
   ]
  },
  {
   "cell_type": "markdown",
   "metadata": {},
   "source": [
    "print(\"http://\", \"www.\", \"google.\", \"com\", sep=\" \") Python bu kodu bu şekilde anlıyor"
   ]
  },
  {
   "cell_type": "code",
   "execution_count": 21,
   "metadata": {},
   "outputs": [
    {
     "name": "stdout",
     "output_type": "stream",
     "text": [
      "Dsc\n",
      "IUC\n"
     ]
    }
   ],
   "source": [
    "print(\"Dsc\", \"IUC\", sep=\"\\n\")\n",
    "\n",
    "#\\n özel bir karakterdir. newline kısaltmasıdır ve yeni satıra geçirir"
   ]
  },
  {
   "cell_type": "code",
   "execution_count": 22,
   "metadata": {},
   "outputs": [
    {
     "name": "stdout",
     "output_type": "stream",
     "text": [
      "Python Eğitimi\n",
      "Onur\n"
     ]
    }
   ],
   "source": [
    "# 2-End print fonksiyonu çalıştığında 2 işlem gerçekleşir    \n",
    "\n",
    "#b-Öncelikle karakter dizisini ekrana yazdırır.                                                                 \n",
    "#a-Ardından otomatik olarak bir alt satıra geçer                                           \n",
    "\n",
    "#end parametresi print fonksiyonu çalıştıktan sonra(ekrana yazdırma yapıldıktan sonra) napılcağını söyler\n",
    "\n",
    "print('Python Eğitimi',end='\\n')   # varsayılan değeri budur\n",
    "print('Onur')"
   ]
  },
  {
   "cell_type": "code",
   "execution_count": 23,
   "metadata": {},
   "outputs": [
    {
     "name": "stdout",
     "output_type": "stream",
     "text": [
      "Bugün günlerden Salı-Yarın Günlerden Çarşamba\n"
     ]
    }
   ],
   "source": [
    "print(\"Bugün günlerden Salı\", end=\"-\")\n",
    "print('Yarın Günlerden Çarşamba')"
   ]
  },
  {
   "cell_type": "markdown",
   "metadata": {},
   "source": [
    "#### Pratik bilgi (Yıldızlı Parametreler)\n",
    "\n",
    "bir karakter dizisinin başına eklediğimiz yıldız işareti, bu karakter dizisini tek tek öğelerine ayırıp, bu öğeleri yine tek tek ve sanki her bir öğe ayrı bir parametreymiş gibi o fonksiyona gönderir\n",
    "\n"
   ]
  },
  {
   "cell_type": "code",
   "execution_count": 31,
   "metadata": {},
   "outputs": [],
   "source": [
    "# L.i.n.u.x Böyle bir çıktı vermek istiyor olalım"
   ]
  },
  {
   "cell_type": "code",
   "execution_count": 32,
   "metadata": {},
   "outputs": [
    {
     "name": "stdout",
     "output_type": "stream",
     "text": [
      "L.i.n.u.x\n",
      "L.i.n.u.x\n"
     ]
    }
   ],
   "source": [
    "print(\"L\", \"i\", \"n\", \"u\", \"x\", sep=\".\")\n",
    "print('L.i.n.u.x')\n"
   ]
  },
  {
   "cell_type": "code",
   "execution_count": 34,
   "metadata": {},
   "outputs": [
    {
     "name": "stdout",
     "output_type": "stream",
     "text": [
      "L.i.n.u.x\n"
     ]
    }
   ],
   "source": [
    "print(*\"Linux\", sep=\".\")\n",
    "\n",
    "#arka planda görülen print(\"L\", \"i\", \"n\", \"u\", \"x\", sep=\".\") oluyor her karakteri birbirinden ayırıyor"
   ]
  },
  {
   "cell_type": "code",
   "execution_count": 35,
   "metadata": {},
   "outputs": [
    {
     "name": "stdout",
     "output_type": "stream",
     "text": [
      "T.B.M.M\n"
     ]
    }
   ],
   "source": [
    "print(*\"TBMM\", sep=\".\")"
   ]
  },
  {
   "cell_type": "code",
   "execution_count": null,
   "metadata": {},
   "outputs": [],
   "source": []
  },
  {
   "cell_type": "markdown",
   "metadata": {},
   "source": [
    "#### Escape (kaçış) karakterleri"
   ]
  },
  {
   "cell_type": "code",
   "execution_count": 22,
   "metadata": {},
   "outputs": [],
   "source": [
    "#klavye tuşlarıyla direkt olarak yapamadığımız bize kolaylıklar sağlayan karakterlerdir"
   ]
  },
  {
   "cell_type": "code",
   "execution_count": 29,
   "metadata": {},
   "outputs": [
    {
     "name": "stdout",
     "output_type": "stream",
     "text": [
      "İstanbul'un 5 günlük hava durumu tahmini\n"
     ]
    }
   ],
   "source": [
    "# \\ bir kaçış karakteridir\n",
    "print('İstanbul\\'un 5 günlük hava durumu tahmini')"
   ]
  },
  {
   "cell_type": "code",
   "execution_count": 24,
   "metadata": {},
   "outputs": [
    {
     "name": "stdout",
     "output_type": "stream",
     "text": [
      "Bugün hava çok güzel\n",
      "Acaba yarın dışarı mı çıksak\n"
     ]
    }
   ],
   "source": [
    "print('Bugün hava çok güzel')\n",
    "print(\"Acaba yarın dışarı mı çıksak\")\n",
    "\n",
    "# Bunun yerine tek bir print ile yazdırmak istiyorsak  \\n kullanabiliriz"
   ]
  },
  {
   "cell_type": "code",
   "execution_count": 5,
   "metadata": {},
   "outputs": [
    {
     "name": "stdout",
     "output_type": "stream",
     "text": [
      "Bugün hava çok güzel.\n",
      "Acaba yarın dışarı mı çıksak ?\n"
     ]
    }
   ],
   "source": [
    "# Eğer satır atlamak istiyorsak \\n (new line anlamına geliyor)\n",
    "print('Bugün hava çok güzel.\\nAcaba yarın dışarı mı çıksak ?')"
   ]
  },
  {
   "cell_type": "code",
   "execution_count": 27,
   "metadata": {},
   "outputs": [
    {
     "name": "stdout",
     "output_type": "stream",
     "text": [
      "Bugün hava çok güzel.\tAcaba yarın dışarı mı çıksak ?\n"
     ]
    }
   ],
   "source": [
    "print('Bugün hava çok güzel.\\tAcaba yarın dışarı mı çıksak ?')   #bir tab yani 4 space kadar boşluk bırakır"
   ]
  },
  {
   "cell_type": "markdown",
   "metadata": {},
   "source": [
    "### İnput"
   ]
  },
  {
   "cell_type": "code",
   "execution_count": 41,
   "metadata": {},
   "outputs": [
    {
     "name": "stdout",
     "output_type": "stream",
     "text": [
      "Lütfen isminizi giriniz Ayse Aydemir\n"
     ]
    }
   ],
   "source": [
    "isim = input('Lütfen isminizi giriniz ')"
   ]
  },
  {
   "cell_type": "code",
   "execution_count": 42,
   "metadata": {},
   "outputs": [
    {
     "name": "stdout",
     "output_type": "stream",
     "text": [
      "Benim ismim Ayse Aydemir\n"
     ]
    }
   ],
   "source": [
    "print('Benim ismim', isim)"
   ]
  },
  {
   "cell_type": "code",
   "execution_count": 46,
   "metadata": {},
   "outputs": [
    {
     "name": "stdout",
     "output_type": "stream",
     "text": [
      "Lütfen dairenin çapını giriniz 13\n",
      "Alan :  132.665\n"
     ]
    }
   ],
   "source": [
    "#alan hesabı yapalım\n",
    "\n",
    "cap=input('Lütfen dairenin çapını giriniz ')    #input aldığı değeri string olarak saklar\n",
    "yarıcap=int(cap)/2    #int ne anlama geldiğini birazdan göreceğiz\n",
    "pi=3.14\n",
    "alan = pi * (yarıcap * yarıcap)\n",
    "print('Alan : ', alan)"
   ]
  },
  {
   "cell_type": "code",
   "execution_count": 48,
   "metadata": {},
   "outputs": [
    {
     "name": "stdout",
     "output_type": "stream",
     "text": [
      "Bir sayı giriniz 5\n"
     ]
    },
    {
     "data": {
      "text/plain": [
       "str"
      ]
     },
     "execution_count": 48,
     "metadata": {},
     "output_type": "execute_result"
    }
   ],
   "source": [
    "a = input('Bir sayı giriniz ')\n",
    "type(a)"
   ]
  },
  {
   "cell_type": "markdown",
   "metadata": {},
   "source": [
    "#### Tip dönüşümleri"
   ]
  },
  {
   "cell_type": "code",
   "execution_count": 30,
   "metadata": {},
   "outputs": [],
   "source": [
    "a=4"
   ]
  },
  {
   "cell_type": "code",
   "execution_count": 31,
   "metadata": {},
   "outputs": [
    {
     "name": "stdout",
     "output_type": "stream",
     "text": [
      "4\n"
     ]
    },
    {
     "data": {
      "text/plain": [
       "int"
      ]
     },
     "execution_count": 31,
     "metadata": {},
     "output_type": "execute_result"
    }
   ],
   "source": [
    "print(a)\n",
    "type(a)"
   ]
  },
  {
   "cell_type": "code",
   "execution_count": 32,
   "metadata": {},
   "outputs": [],
   "source": [
    "b = str(a)"
   ]
  },
  {
   "cell_type": "code",
   "execution_count": 33,
   "metadata": {},
   "outputs": [
    {
     "name": "stdout",
     "output_type": "stream",
     "text": [
      "4\n"
     ]
    },
    {
     "data": {
      "text/plain": [
       "str"
      ]
     },
     "execution_count": 33,
     "metadata": {},
     "output_type": "execute_result"
    }
   ],
   "source": [
    "print(b)\n",
    "type(b)"
   ]
  },
  {
   "cell_type": "code",
   "execution_count": 34,
   "metadata": {},
   "outputs": [
    {
     "data": {
      "text/plain": [
       "int"
      ]
     },
     "execution_count": 34,
     "metadata": {},
     "output_type": "execute_result"
    }
   ],
   "source": [
    "x=int(b)\n",
    "type(x)"
   ]
  },
  {
   "cell_type": "code",
   "execution_count": 35,
   "metadata": {},
   "outputs": [],
   "source": [
    "isim='onur'"
   ]
  },
  {
   "cell_type": "code",
   "execution_count": 36,
   "metadata": {},
   "outputs": [
    {
     "ename": "ValueError",
     "evalue": "invalid literal for int() with base 10: 'onur'",
     "output_type": "error",
     "traceback": [
      "\u001b[1;31m---------------------------------------------------------------------------\u001b[0m",
      "\u001b[1;31mValueError\u001b[0m                                Traceback (most recent call last)",
      "\u001b[1;32m<ipython-input-36-060e7f4a938f>\u001b[0m in \u001b[0;36m<module>\u001b[1;34m\u001b[0m\n\u001b[1;32m----> 1\u001b[1;33m \u001b[0mint\u001b[0m\u001b[1;33m(\u001b[0m\u001b[0misim\u001b[0m\u001b[1;33m)\u001b[0m\u001b[1;33m\u001b[0m\u001b[1;33m\u001b[0m\u001b[0m\n\u001b[0m",
      "\u001b[1;31mValueError\u001b[0m: invalid literal for int() with base 10: 'onur'"
     ]
    }
   ],
   "source": [
    "int(isim)"
   ]
  },
  {
   "cell_type": "code",
   "execution_count": 50,
   "metadata": {},
   "outputs": [
    {
     "name": "stdout",
     "output_type": "stream",
     "text": [
      "Bir sayı giriniz 6\n",
      "<class 'int'> 6\n",
      "<class 'float'> 6.0\n"
     ]
    }
   ],
   "source": [
    "x=int(input('Bir sayı giriniz '))\n",
    "print(type(x) , x)\n",
    "\n",
    "y=float(x)\n",
    "print(type(y) , y)"
   ]
  },
  {
   "cell_type": "markdown",
   "metadata": {},
   "source": [
    "##### len fonksiyonu stringlerin uzunluğunu veriyor"
   ]
  },
  {
   "cell_type": "code",
   "execution_count": 48,
   "metadata": {},
   "outputs": [
    {
     "data": {
      "text/plain": [
       "21"
      ]
     },
     "execution_count": 48,
     "metadata": {},
     "output_type": "execute_result"
    }
   ],
   "source": [
    "len(\"istanbul üniversitesi\")"
   ]
  },
  {
   "cell_type": "code",
   "execution_count": 49,
   "metadata": {},
   "outputs": [
    {
     "data": {
      "text/plain": [
       "3"
      ]
     },
     "execution_count": 49,
     "metadata": {},
     "output_type": "execute_result"
    }
   ],
   "source": [
    "club='dsc'\n",
    "len(club)"
   ]
  },
  {
   "cell_type": "code",
   "execution_count": 50,
   "metadata": {},
   "outputs": [
    {
     "ename": "TypeError",
     "evalue": "object of type 'int' has no len()",
     "output_type": "error",
     "traceback": [
      "\u001b[1;31m---------------------------------------------------------------------------\u001b[0m",
      "\u001b[1;31mTypeError\u001b[0m                                 Traceback (most recent call last)",
      "\u001b[1;32m<ipython-input-50-8ddb87effe17>\u001b[0m in \u001b[0;36m<module>\u001b[1;34m\u001b[0m\n\u001b[1;32m----> 1\u001b[1;33m \u001b[0mlen\u001b[0m\u001b[1;33m(\u001b[0m\u001b[1;36m6\u001b[0m\u001b[1;33m)\u001b[0m\u001b[1;33m\u001b[0m\u001b[1;33m\u001b[0m\u001b[0m\n\u001b[0m",
      "\u001b[1;31mTypeError\u001b[0m: object of type 'int' has no len()"
     ]
    }
   ],
   "source": [
    "len(6)"
   ]
  },
  {
   "cell_type": "markdown",
   "metadata": {},
   "source": [
    "#### Fstring yapısı (.format)"
   ]
  },
  {
   "cell_type": "code",
   "execution_count": 1,
   "metadata": {},
   "outputs": [],
   "source": [
    "club ='dsc'\n",
    "ders='Python'"
   ]
  },
  {
   "cell_type": "code",
   "execution_count": 3,
   "metadata": {},
   "outputs": [
    {
     "name": "stdout",
     "output_type": "stream",
     "text": [
      "Bu sene dsc tarafından Python eğitimi verilmektedir\n"
     ]
    }
   ],
   "source": [
    "print(\"Bu sene\",club,\"tarafından\",ders,\"eğitimi verilmektedir\")"
   ]
  },
  {
   "cell_type": "code",
   "execution_count": 21,
   "metadata": {},
   "outputs": [
    {
     "name": "stdout",
     "output_type": "stream",
     "text": [
      "Bu sene dsc tarafından Python eğitimi verilmektedir\n"
     ]
    }
   ],
   "source": [
    "print(\"Bu sene {} tarafından {} eğitimi verilmektedir\".format(club,ders))"
   ]
  },
  {
   "cell_type": "code",
   "execution_count": 22,
   "metadata": {},
   "outputs": [
    {
     "name": "stdout",
     "output_type": "stream",
     "text": [
      "Bu sene dsc tarafından Python eğitimi verilmektedir\n"
     ]
    }
   ],
   "source": [
    "print(\"Bu sene {0} tarafından {1} eğitimi verilmektedir\".format(club,ders))"
   ]
  },
  {
   "cell_type": "code",
   "execution_count": 23,
   "metadata": {},
   "outputs": [
    {
     "name": "stdout",
     "output_type": "stream",
     "text": [
      "Bu sene Python tarafından dsc eğitimi verilmektedir\n"
     ]
    }
   ],
   "source": [
    "print(\"Bu sene {1} tarafından {0} eğitimi verilmektedir\".format(club,ders))"
   ]
  },
  {
   "cell_type": "code",
   "execution_count": 24,
   "metadata": {},
   "outputs": [
    {
     "ename": "IndexError",
     "evalue": "Replacement index 2 out of range for positional args tuple",
     "output_type": "error",
     "traceback": [
      "\u001b[1;31m---------------------------------------------------------------------------\u001b[0m",
      "\u001b[1;31mIndexError\u001b[0m                                Traceback (most recent call last)",
      "\u001b[1;32m<ipython-input-24-8329f7e94ee8>\u001b[0m in \u001b[0;36m<module>\u001b[1;34m\u001b[0m\n\u001b[1;32m----> 1\u001b[1;33m \u001b[0mprint\u001b[0m\u001b[1;33m(\u001b[0m\u001b[1;34m\"Bu sene {1} tarafından {2} eğitimi verilmektedir\"\u001b[0m\u001b[1;33m.\u001b[0m\u001b[0mformat\u001b[0m\u001b[1;33m(\u001b[0m\u001b[0mclub\u001b[0m\u001b[1;33m,\u001b[0m\u001b[0mders\u001b[0m\u001b[1;33m)\u001b[0m\u001b[1;33m)\u001b[0m\u001b[1;33m\u001b[0m\u001b[1;33m\u001b[0m\u001b[0m\n\u001b[0m",
      "\u001b[1;31mIndexError\u001b[0m: Replacement index 2 out of range for positional args tuple"
     ]
    }
   ],
   "source": [
    "print(\"Bu sene {1} tarafından {2} eğitimi verilmektedir\".format(club,ders))"
   ]
  },
  {
   "cell_type": "code",
   "execution_count": 25,
   "metadata": {},
   "outputs": [
    {
     "name": "stdout",
     "output_type": "stream",
     "text": [
      "Bu sene dsc tarafından Python eğitimi verilmektedir\n"
     ]
    }
   ],
   "source": [
    "print(f\"Bu sene {club} tarafından {ders} eğitimi verilmektedir\")"
   ]
  },
  {
   "cell_type": "code",
   "execution_count": 43,
   "metadata": {},
   "outputs": [
    {
     "name": "stdout",
     "output_type": "stream",
     "text": [
      "Birinci sayıyı girin: 122\n",
      "İkinci sayıyı girin: 32\n",
      "Sayıların toplamı 154 eder.\n"
     ]
    }
   ],
   "source": [
    "print(f'Sayıların toplamı {int(input(\"Birinci sayıyı girin: \")) + int(input(\"İkinci sayıyı girin: \")) } eder.')"
   ]
  },
  {
   "cell_type": "markdown",
   "metadata": {},
   "source": [
    "### Koşul İfadeleri"
   ]
  },
  {
   "cell_type": "markdown",
   "metadata": {},
   "source": [
    "if\n",
    "\n",
    "elif\n",
    "\n",
    "else"
   ]
  },
  {
   "cell_type": "markdown",
   "metadata": {},
   "source": [
    "#### Karşılaştırma operatörleri \n",
    "== Eşit midir                                                                             \n",
    "!= Eşit Değil                                                                        \n",
    "<,>  küçüktür büyüktür                                                           \n",
    "<=,>= küçük eşit, büyük eşit                                                                       "
   ]
  },
  {
   "cell_type": "code",
   "execution_count": 2,
   "metadata": {},
   "outputs": [
    {
     "name": "stdout",
     "output_type": "stream",
     "text": [
      "yasınızı giriniz22\n"
     ]
    }
   ],
   "source": [
    "#İlk önce sadece if ile başlayalım\n",
    "\n",
    "yas=input('yasınızı giriniz ')\n",
    "\n",
    "if int(yas)<18 :\n",
    "    print('Mekana giremezsiniz')     #bunu iki noktadan hemen sonrada yazabilirdim ancak daha düzgün durması için böyle yazdık"
   ]
  },
  {
   "cell_type": "code",
   "execution_count": 6,
   "metadata": {},
   "outputs": [
    {
     "name": "stdout",
     "output_type": "stream",
     "text": [
      "yasınızı giriniz2\n",
      "Mekana giremezsiniz\n"
     ]
    }
   ],
   "source": [
    "yas=int(input('yasınızı giriniz'))\n",
    "if yas<18 :\n",
    "    print('Mekana giremezsiniz')\n",
    "else:                #else den sonra koşul yazılmaz\n",
    "    print('Mekana girebilirsiniz')"
   ]
  },
  {
   "cell_type": "code",
   "execution_count": 4,
   "metadata": {},
   "outputs": [
    {
     "name": "stdout",
     "output_type": "stream",
     "text": [
      "yasınızı giriniz17\n",
      "Halen gençsin\n"
     ]
    }
   ],
   "source": [
    "# eğer bir den çok kuşul yazmamız gerekiyorsa elif kullanırız\n",
    "\n",
    "yas=int(input('yasınızı giriniz'))\n",
    "\n",
    "if yas<18 :\n",
    "    print('Halen gençsin') \n",
    "elif yas <40:\n",
    "    print('Yetişkin bir bireysin')\n",
    "elif yas <100:\n",
    "    print('Yaşlandınız')"
   ]
  },
  {
   "cell_type": "code",
   "execution_count": 7,
   "metadata": {},
   "outputs": [
    {
     "name": "stdout",
     "output_type": "stream",
     "text": [
      "boyunuz kaç cm?180\n",
      "boyunuz uzun\n"
     ]
    }
   ],
   "source": [
    "boy = int(input(\"boyunuz kaç cm?\"))\n",
    "\n",
    "if boy < 170:\n",
    "    print(\"boyunuz kısa\")\n",
    "\n",
    "elif boy < 180:\n",
    "    print(\"boyunuz normal\")\n",
    "\n",
    "else:\n",
    "    print(\"boyunuz uzun\")"
   ]
  },
  {
   "cell_type": "markdown",
   "metadata": {},
   "source": [
    "#### tek satırda if yazılımı"
   ]
  },
  {
   "cell_type": "code",
   "execution_count": 78,
   "metadata": {},
   "outputs": [
    {
     "name": "stdout",
     "output_type": "stream",
     "text": [
      "2\n"
     ]
    }
   ],
   "source": [
    "print('2' if 1+1==2 else 'Bilinmiyor')  #if değeri doğruysa soldaki değer döner değilse else çalışır"
   ]
  },
  {
   "cell_type": "code",
   "execution_count": 80,
   "metadata": {},
   "outputs": [
    {
     "name": "stdout",
     "output_type": "stream",
     "text": [
      "yaşınızı giriniz2\n",
      "Giremezsin\n"
     ]
    }
   ],
   "source": [
    "yas=int(input('yaşınızı giriniz'))\n",
    "a = 'girebilirsin' if yas > 18 else 'Giremezsin'\n",
    "print(a)"
   ]
  },
  {
   "cell_type": "code",
   "execution_count": null,
   "metadata": {},
   "outputs": [],
   "source": []
  },
  {
   "cell_type": "markdown",
   "metadata": {},
   "source": [
    "### Örnek uygulama \n",
    "\n",
    "Diyelim ki sisteme kayıt için kullanıcı adı ve parola belirlenmesini isteyen bir program yazıyorsunuz. Yazacağınız bu programda, belirlenebilecek kullanıcı adı ve parolanın toplam uzunluğu 20 karakteri geçmeyecek."
   ]
  },
  {
   "cell_type": "code",
   "execution_count": 8,
   "metadata": {},
   "outputs": [
    {
     "name": "stdout",
     "output_type": "stream",
     "text": [
      "Kullanıcı adı ve şifrenizin toplam uzunluğu 20 karakteri geçmemelidir\n",
      "Kullanıcı adınız: onurylmzzzzzzz\n",
      "Parolanız       : 231232313213213123\n",
      "Kullanıcı adı ve parolanız toplam 32 karakterden oluşuyor!\n",
      "Kullanıcı adınız ile parolanızın  toplam uzunluğu 20 karakteri geçmemeli!\n"
     ]
    }
   ],
   "source": [
    "print('Kullanıcı adı ve şifrenizin toplam uzunluğu 20 karakteri geçmemelidir')\n",
    "\n",
    "kullanıcı_adı = input(\"Kullanıcı adınız: \")\n",
    "parola        = input(\"Parolanız       : \")\n",
    "\n",
    "toplam_uzunluk = len(kullanıcı_adı) + len(parola)\n",
    "\n",
    "\n",
    "\n",
    "print(\"Kullanıcı adı ve parolanız toplam {} karakterden oluşuyor!\" .format(toplam_uzunluk))\n",
    "\n",
    "if toplam_uzunluk > 20:\n",
    "    print(\"Kullanıcı adınız ile parolanızın \",\n",
    "          \"toplam uzunluğu 20 karakteri geçmemeli!\")\n",
    "else:\n",
    "    print(\"Sisteme hoşgeldiniz!\")"
   ]
  },
  {
   "cell_type": "markdown",
   "metadata": {},
   "source": [
    "### İşleçler"
   ]
  },
  {
   "cell_type": "markdown",
   "metadata": {},
   "source": [
    "#### Aritmatik öperatörler"
   ]
  },
  {
   "cell_type": "markdown",
   "metadata": {},
   "source": [
    "                                                        \n",
    "+,- Çıkarma                                                             \n",
    "\\* Çarpma                                                             \n",
    "** Üs alma                                                             \n",
    "/ Bölme                                                             \n",
    "//Kalansız Bölme                                                             \n",
    "% Mod alma                                                             "
   ]
  },
  {
   "cell_type": "code",
   "execution_count": 23,
   "metadata": {},
   "outputs": [
    {
     "name": "stdout",
     "output_type": "stream",
     "text": [
      "3\n",
      "2\n",
      "40\n",
      "25\n",
      "8.333333333333334\n",
      "10.0\n",
      "8\n",
      "2\n"
     ]
    }
   ],
   "source": [
    "print(1+2)\n",
    "print(5-3)\n",
    "print(10*4)\n",
    "print(5**2)\n",
    "print(100/12)\n",
    "print(100/10)  #tam bölünse bile bize float değer döndürür\n",
    "print(100//12)\n",
    "print(50%4)"
   ]
  },
  {
   "cell_type": "code",
   "execution_count": 28,
   "metadata": {},
   "outputs": [],
   "source": [
    "# Değer Atama işleçleri"
   ]
  },
  {
   "cell_type": "code",
   "execution_count": 80,
   "metadata": {},
   "outputs": [],
   "source": [
    "a=20"
   ]
  },
  {
   "cell_type": "code",
   "execution_count": 81,
   "metadata": {},
   "outputs": [
    {
     "name": "stdout",
     "output_type": "stream",
     "text": [
      "50\n"
     ]
    }
   ],
   "source": [
    "a = a + 30\n",
    "print(a)"
   ]
  },
  {
   "cell_type": "code",
   "execution_count": 82,
   "metadata": {},
   "outputs": [
    {
     "name": "stdout",
     "output_type": "stream",
     "text": [
      "75\n"
     ]
    }
   ],
   "source": [
    "a += 25\n",
    "print(a)"
   ]
  },
  {
   "cell_type": "code",
   "execution_count": 83,
   "metadata": {},
   "outputs": [
    {
     "name": "stdout",
     "output_type": "stream",
     "text": [
      "15\n"
     ]
    }
   ],
   "source": [
    "a //= 5 \n",
    "print(a)"
   ]
  },
  {
   "cell_type": "code",
   "execution_count": 25,
   "metadata": {},
   "outputs": [
    {
     "name": "stdout",
     "output_type": "stream",
     "text": [
      "istihza.com\n"
     ]
    }
   ],
   "source": [
    "#Toplama ve çarpma operatörünü bazı string ifadelerinde de kullanabiliyoruz\n",
    "print(\"istihza\" + \".com\")\n"
   ]
  },
  {
   "cell_type": "code",
   "execution_count": 10,
   "metadata": {},
   "outputs": [
    {
     "name": "stdout",
     "output_type": "stream",
     "text": [
      "hızlı hızlı \n"
     ]
    }
   ],
   "source": [
    "print(\"hızlı \" * 2)"
   ]
  },
  {
   "cell_type": "code",
   "execution_count": 20,
   "metadata": {},
   "outputs": [
    {
     "name": "stdout",
     "output_type": "stream",
     "text": [
      "3\n",
      "2\n"
     ]
    }
   ],
   "source": [
    "# Aritmatik operatörlerden bahsetmişken round() fonksiyonundan da bahsedelim. Bu fonksiyon değerleri yuvarlamamızı sağlar\n",
    "\n",
    "print(round(2.51)) \n",
    "print(round(2.3))"
   ]
  },
  {
   "cell_type": "code",
   "execution_count": 21,
   "metadata": {},
   "outputs": [
    {
     "name": "stdout",
     "output_type": "stream",
     "text": [
      "8\n"
     ]
    }
   ],
   "source": [
    "#Pow fonksiyonu\n",
    "\n",
    "print(pow(2,3))"
   ]
  },
  {
   "cell_type": "code",
   "execution_count": 23,
   "metadata": {},
   "outputs": [
    {
     "name": "stdout",
     "output_type": "stream",
     "text": [
      "0\n"
     ]
    },
    {
     "data": {
      "text/plain": [
       "0"
      ]
     },
     "execution_count": 23,
     "metadata": {},
     "output_type": "execute_result"
    }
   ],
   "source": [
    "#Not : pow fonksiyonunu 3 değer almış olarakta görebilirsiniz\n",
    "print(pow(25, 2, 5))\n",
    "\n",
    "# Bunun yaptığı işlem\n",
    "(25 ** 2) % 5 #budur"
   ]
  },
  {
   "cell_type": "markdown",
   "metadata": {},
   "source": [
    "#### Bool fonksiyonu\n",
    " \n",
    " 0 sayısının ve boş karakter dizilerinin bool değeri False’tur. Geri kalan her şey ise True’dur."
   ]
  },
  {
   "cell_type": "code",
   "execution_count": 26,
   "metadata": {},
   "outputs": [
    {
     "name": "stdout",
     "output_type": "stream",
     "text": [
      "True\n",
      "True\n",
      "False\n",
      "False\n"
     ]
    }
   ],
   "source": [
    "print(bool(\"fdsdfsdg\"))\n",
    "print(bool(\"0\"))\n",
    "print(bool(0))\n",
    "print(bool(\"\"))"
   ]
  },
  {
   "cell_type": "markdown",
   "metadata": {},
   "source": [
    "#### Mantıksal Operatörler\n",
    "\n",
    "and = ve operatörü                                                         \n",
    "or = veva operatörü                                                                   \n",
    "not = değil operatörü                                                                                                          \n",
    "\n"
   ]
  },
  {
   "cell_type": "markdown",
   "metadata": {},
   "source": [
    "and operatörü tüm durumların true olduğu koşulda bize yine true değeri döndürür. Ancak 1 tane bile False olursa dönecek cevap false olur"
   ]
  },
  {
   "cell_type": "code",
   "execution_count": 86,
   "metadata": {},
   "outputs": [
    {
     "data": {
      "text/plain": [
       "True"
      ]
     },
     "execution_count": 86,
     "metadata": {},
     "output_type": "execute_result"
    }
   ],
   "source": [
    "(1<5) and (2<4)"
   ]
  },
  {
   "cell_type": "code",
   "execution_count": 91,
   "metadata": {},
   "outputs": [
    {
     "data": {
      "text/plain": [
       "False"
      ]
     },
     "execution_count": 91,
     "metadata": {},
     "output_type": "execute_result"
    }
   ],
   "source": [
    "(9<5) or (7<4)"
   ]
  },
  {
   "cell_type": "markdown",
   "metadata": {},
   "source": [
    "not operatörü ismindende anlaşılacağı üzere değili yani tersini ifade ediyor"
   ]
  },
  {
   "cell_type": "code",
   "execution_count": 94,
   "metadata": {},
   "outputs": [
    {
     "name": "stdout",
     "output_type": "stream",
     "text": [
      "False\n",
      "True\n"
     ]
    }
   ],
   "source": [
    "print(not(True))\n",
    "print(not(False))"
   ]
  },
  {
   "cell_type": "code",
   "execution_count": 27,
   "metadata": {},
   "outputs": [
    {
     "name": "stdout",
     "output_type": "stream",
     "text": [
      "Kullanıcı adınız: aliveli\n",
      "Parolanız: 12345678\n",
      "Programa hoşgeldiniz\n"
     ]
    }
   ],
   "source": [
    "kullanıcı_adı = input(\"Kullanıcı adınız: \")\n",
    "parola = input(\"Parolanız: \")\n",
    "\n",
    "if kullanıcı_adı == \"aliveli\" and parola == \"12345678\":\n",
    "    print(\"Programa hoşgeldiniz\")\n",
    "\n",
    "else:\n",
    "    print(\"Yanlış kullanıcı adı veya parola!\")"
   ]
  },
  {
   "cell_type": "markdown",
   "metadata": {},
   "source": [
    "#### Aitlik işlec\n",
    "\n",
    "Python’da bir tane aitlik işleci bulunur. Bu işleç de in işlecidir."
   ]
  },
  {
   "cell_type": "code",
   "execution_count": 29,
   "metadata": {},
   "outputs": [
    {
     "name": "stdout",
     "output_type": "stream",
     "text": [
      "True\n"
     ]
    }
   ],
   "source": [
    "a = \"abcd\"\n",
    "print(\"a\" in a)  #a harfi a değişkeninin içinde var mı ?"
   ]
  },
  {
   "cell_type": "code",
   "execution_count": 30,
   "metadata": {},
   "outputs": [
    {
     "name": "stdout",
     "output_type": "stream",
     "text": [
      "False\n"
     ]
    }
   ],
   "source": [
    "print(\"f\" in a)"
   ]
  },
  {
   "cell_type": "markdown",
   "metadata": {},
   "source": [
    "### Örnek uygulama"
   ]
  },
  {
   "cell_type": "code",
   "execution_count": 36,
   "metadata": {},
   "outputs": [
    {
     "name": "stdout",
     "output_type": "stream",
     "text": [
      "\n",
      "(1) topla\n",
      "(2) çıkar\n",
      "(3) çarp\n",
      "(4) böl\n",
      "\n",
      "Yapmak istediğiniz işlemin numarasını girin: 4\n",
      " ilk sayıyı girin: 21\n",
      " ikinci sayıyı girin: 3\n",
      "21 / 3 = 7.0\n"
     ]
    }
   ],
   "source": [
    "islem = \"\"\"\n",
    "(1) topla\n",
    "(2) çıkar\n",
    "(3) çarp\n",
    "(4) böl\n",
    "\"\"\"\n",
    "\n",
    "print(islem)\n",
    "\n",
    "soru = input(\"Yapmak istediğiniz işlemin numarasını girin: \")\n",
    "\n",
    "sayı1 = int(input(\" ilk sayıyı girin: \"))\n",
    "sayı2 = int(input(\" ikinci sayıyı girin: \"))\n",
    "\n",
    "if soru == \"1\":\n",
    "    print(sayı1, \"+\", sayı2, \"=\", sayı1 + sayı2)\n",
    "\n",
    "elif soru == \"2\":\n",
    "    print(sayı1, \"-\", sayı2, \"=\", sayı1 - sayı2)\n",
    "\n",
    "elif soru == \"3\":\n",
    "    print(sayı1, \"x\", sayı2, \"=\", sayı1 * sayı2)\n",
    "\n",
    "elif soru == \"4\":\n",
    "    print(sayı1, \"/\", sayı2, \"=\", sayı1 / sayı2)\n",
    "\n",
    "else:\n",
    "    print(\"Yanlış giriş.\")\n",
    "    print(\"Aşağıdaki seçeneklerden birini giriniz:\", giriş)"
   ]
  },
  {
   "cell_type": "markdown",
   "metadata": {},
   "source": [
    "### Döngüler (Loops)"
   ]
  },
  {
   "cell_type": "code",
   "execution_count": 1,
   "metadata": {},
   "outputs": [],
   "source": [
    "#Tekrar eden işlemleri kolayca yapmamızı sağlayan fonksiyonlar"
   ]
  },
  {
   "cell_type": "markdown",
   "metadata": {},
   "source": [
    "### While Döngüsü\n",
    "\n",
    "while ingilizcede olduğu sürece gibi bir anlama geliyor. Pythonda da koşul sağlandıkça döngü devam eder"
   ]
  },
  {
   "cell_type": "code",
   "execution_count": 2,
   "metadata": {},
   "outputs": [],
   "source": [
    "a=0\n",
    "while a == 1:\n",
    "    print(\"bilgisayar çıldırdı!\")\n",
    "#koşul sağlanmadığı için döngü gerçekleştirmez. Not : Bu şekilde koşulu sağlayıp çalıştırma sonsuz döngüye girecektir"
   ]
  },
  {
   "cell_type": "code",
   "execution_count": 3,
   "metadata": {},
   "outputs": [
    {
     "name": "stdout",
     "output_type": "stream",
     "text": [
      "a : 2\n",
      "a : 3\n",
      "a : 4\n",
      "a : 5\n",
      "a : 6\n",
      "a : 7\n",
      "a : 8\n",
      "a : 9\n",
      "a : 10\n"
     ]
    }
   ],
   "source": [
    "a = 1\n",
    "\n",
    "while a < 10:\n",
    "    a += 1\n",
    "    print(\"a :\", a)"
   ]
  },
  {
   "cell_type": "code",
   "execution_count": 5,
   "metadata": {},
   "outputs": [],
   "source": [
    "# while True:\n",
    "#     print('') #bu şekilde de sonsuz döngü yapılabilir "
   ]
  },
  {
   "cell_type": "code",
   "execution_count": 6,
   "metadata": {},
   "outputs": [
    {
     "name": "stdout",
     "output_type": "stream",
     "text": [
      "2\n",
      "4\n",
      "6\n",
      "8\n",
      "10\n",
      "12\n",
      "14\n",
      "16\n",
      "18\n",
      "20\n"
     ]
    }
   ],
   "source": [
    "a = 0\n",
    "\n",
    "while a < 20:\n",
    "    a += 1\n",
    "    if a % 2 == 0:\n",
    "        print(a)"
   ]
  },
  {
   "cell_type": "markdown",
   "metadata": {},
   "source": [
    "### For döngüsü"
   ]
  },
  {
   "cell_type": "code",
   "execution_count": 3,
   "metadata": {},
   "outputs": [
    {
     "name": "stdout",
     "output_type": "stream",
     "text": [
      "a\n",
      "b\n",
      "c\n",
      "d\n",
      "e\n",
      "f\n",
      "g\n"
     ]
    }
   ],
   "source": [
    "#while ile kıyasla daha yetenekli bir döngü formatı diyebiliriz\n",
    "\n",
    "harfler = 'abcdefg'\n",
    "\n",
    "for i in harfler:\n",
    "    print(i)\n",
    "    \n",
    "# “harfler” karakter dizisi içinde i adını verdiğimiz her bir öğe için: i öğesini ekrana basma işlemi gerçekleştir!\n"
   ]
  },
  {
   "cell_type": "markdown",
   "metadata": {},
   "source": [
    "Türkçe olarak söz dizimi\n",
    "\n",
    "for değişken_adı in değişken:                                                            \n",
    "        yapılacak_işlem"
   ]
  },
  {
   "cell_type": "code",
   "execution_count": 2,
   "metadata": {},
   "outputs": [
    {
     "name": "stdout",
     "output_type": "stream",
     "text": [
      "ş\n",
      "ç\n",
      "ö\n",
      "ğ\n",
      "ü\n",
      "İ\n",
      "ı\n"
     ]
    }
   ],
   "source": [
    "tr_harfler = \"şçöğüİı\"\n",
    "print(*tr_harfler, sep=\"\\n\")   \n",
    "\n",
    "# For döngüsüyle yaptığımızı aynı şekilde print fonksiyonu ile yapabilirdik"
   ]
  },
  {
   "cell_type": "markdown",
   "metadata": {},
   "source": [
    "Bir tane örnek yapalım"
   ]
  },
  {
   "cell_type": "code",
   "execution_count": 8,
   "metadata": {},
   "outputs": [
    {
     "name": "stdout",
     "output_type": "stream",
     "text": [
      "Parolanız: wseqweişç\n",
      "parolada Türkçe karakter kullanılamaz\n",
      "parolada Türkçe karakter kullanılamaz\n"
     ]
    }
   ],
   "source": [
    "tr_harfler = \"şçöğüİı\"\n",
    "\n",
    "parola = input(\"Parolanız: \")\n",
    "\n",
    "for karakter in parola:\n",
    "    if karakter in tr_harfler:\n",
    "        print(\"parolada Türkçe karakter kullanılamaz\")\n",
    "\n",
    "#Döngülerle kullanılan önemli araçları birazdan öğreneceğiz o zaman bu kodu daha verimli şekilde yazacağız"
   ]
  },
  {
   "cell_type": "markdown",
   "metadata": {},
   "source": [
    "##### Kullanıcıdan parola belirlemesini isteyelim. Bu parola 8 den uzun 3 den kısa olamaz"
   ]
  },
  {
   "cell_type": "code",
   "execution_count": 2,
   "metadata": {},
   "outputs": [
    {
     "name": "stdout",
     "output_type": "stream",
     "text": [
      "Bir parola belirleyin: \n",
      "parola bölümü boş geçilemez!\n",
      "Bir parola belirleyin: 213\n",
      "Yeni parolanız 213\n"
     ]
    }
   ],
   "source": [
    "while True:    #sürekli dönen bir döngü yapalım\n",
    "    parola = input(\"Bir parola belirleyin: \")\n",
    "\n",
    "    if not parola:   #not değimi değil demek\n",
    "        print(\"parola bölümü boş geçilemez!\")\n",
    "\n",
    "    elif len(parola) > 8 or len(parola) < 3:\n",
    "        print(\"parola 8 karakterden uzun 3 karakterden kısa olmamalı\")\n",
    "\n",
    "    else:\n",
    "        print(\"Yeni parolanız\", parola)\n",
    "        break\n",
    "#break terimini birazdan göreceğiz"
   ]
  },
  {
   "cell_type": "code",
   "execution_count": 12,
   "metadata": {},
   "outputs": [
    {
     "ename": "TypeError",
     "evalue": "'int' object is not iterable",
     "output_type": "error",
     "traceback": [
      "\u001b[1;31m---------------------------------------------------------------------------\u001b[0m",
      "\u001b[1;31mTypeError\u001b[0m                                 Traceback (most recent call last)",
      "\u001b[1;32m<ipython-input-12-2d6102b87e69>\u001b[0m in \u001b[0;36m<module>\u001b[1;34m\u001b[0m\n\u001b[0;32m      2\u001b[0m \u001b[1;33m\u001b[0m\u001b[0m\n\u001b[0;32m      3\u001b[0m \u001b[0msayılar\u001b[0m \u001b[1;33m=\u001b[0m \u001b[1;36m123456789\u001b[0m\u001b[1;33m\u001b[0m\u001b[1;33m\u001b[0m\u001b[0m\n\u001b[1;32m----> 4\u001b[1;33m \u001b[1;32mfor\u001b[0m \u001b[0msayı\u001b[0m \u001b[1;32min\u001b[0m \u001b[0msayılar\u001b[0m\u001b[1;33m:\u001b[0m\u001b[1;33m\u001b[0m\u001b[1;33m\u001b[0m\u001b[0m\n\u001b[0m\u001b[0;32m      5\u001b[0m     \u001b[0mprint\u001b[0m\u001b[1;33m(\u001b[0m\u001b[0msayı\u001b[0m\u001b[1;33m)\u001b[0m\u001b[1;33m\u001b[0m\u001b[1;33m\u001b[0m\u001b[0m\n",
      "\u001b[1;31mTypeError\u001b[0m: 'int' object is not iterable"
     ]
    }
   ],
   "source": [
    "#for döngüsünde sayısal değerlerde gezinme\n",
    "\n",
    "sayılar = 123456789\n",
    "for sayı in sayılar:\n",
    "    print(sayı**2)\n",
    "\n",
    "    #bu şekilde hata alırız bunun sebebi integer değerler üzerinde gezinmemizin mümkün olmamasıdır\n",
    "    #bunu farklı şekillerde halledebiliriz"
   ]
  },
  {
   "cell_type": "code",
   "execution_count": 13,
   "metadata": {},
   "outputs": [
    {
     "name": "stdout",
     "output_type": "stream",
     "text": [
      "1\n",
      "4\n",
      "9\n",
      "16\n",
      "25\n",
      "36\n",
      "49\n",
      "64\n",
      "81\n"
     ]
    }
   ],
   "source": [
    "sayılar = \"123456789\"\n",
    "\n",
    "for i in sayılar:\n",
    "    print(int(i)**2)"
   ]
  },
  {
   "cell_type": "markdown",
   "metadata": {},
   "source": [
    "#### Döngülerde kullanılan ilgili araçlar"
   ]
  },
  {
   "cell_type": "markdown",
   "metadata": {},
   "source": [
    "##### Range\n",
    "\n",
    "İngilizcede aralık anlamına geliyor. Pythonda da belli aralıktaki sayıları göstermek için kullanılır"
   ]
  },
  {
   "cell_type": "code",
   "execution_count": 14,
   "metadata": {},
   "outputs": [
    {
     "name": "stdout",
     "output_type": "stream",
     "text": [
      "0\n",
      "1\n",
      "2\n",
      "3\n",
      "4\n",
      "5\n",
      "6\n",
      "7\n",
      "8\n",
      "9\n"
     ]
    }
   ],
   "source": [
    "for i in range(0,10):\n",
    "    print(i)"
   ]
  },
  {
   "cell_type": "markdown",
   "metadata": {},
   "source": [
    "range(ilk_sayı, son_sayı)                                                              \n",
    "kullanım şekli böyledir. Başlangıç değeri 0 ise yazmaya gerek yoktur. Ve son sayı ekrana yazılmaz\n",
    "                                                                                              \n",
    "Verdiğimiz aralıkta değerler varsayılan olarak birer birer artıyor. Bunu değiştirmek için 3. bir parametreyi değiştirebiliriz                                                     \n",
    "                                                                range(ilk_sayı, son_sayı, atlama_değeri)"
   ]
  },
  {
   "cell_type": "code",
   "execution_count": 15,
   "metadata": {},
   "outputs": [
    {
     "name": "stdout",
     "output_type": "stream",
     "text": [
      "0\n",
      "2\n",
      "4\n",
      "6\n",
      "8\n"
     ]
    }
   ],
   "source": [
    "for i in range(0, 10, 2):\n",
    "     print(i)\n",
    "\n",
    "    #Eğer 3. parametreyi kullanıcaksak başlangıç değeri 0 ise yinede belirtmemiz gerekir. Yoksa hiç bir değer elde edemeyiz"
   ]
  },
  {
   "cell_type": "code",
   "execution_count": 17,
   "metadata": {},
   "outputs": [],
   "source": [
    "for i in range(10, 2):\n",
    "     print(i)\n",
    "    \n",
    "    #python bunu 10 dan 2 ye kadar değerleri istiyoruz sanar. Ancak artış değeri bir olduğu için 10 dan 2 ye ulaşmak mümkün değildir"
   ]
  },
  {
   "cell_type": "code",
   "execution_count": 18,
   "metadata": {},
   "outputs": [
    {
     "name": "stdout",
     "output_type": "stream",
     "text": [
      "10\n",
      "9\n",
      "8\n",
      "7\n",
      "6\n",
      "5\n",
      "4\n",
      "3\n"
     ]
    }
   ],
   "source": [
    "#Eğer 10 dan başlayıp geri giderek 2 ye ulaşmak istiyorsak\n",
    "\n",
    "for i in range(10,2,-1):\n",
    "    print(i)"
   ]
  },
  {
   "cell_type": "markdown",
   "metadata": {},
   "source": [
    "#### Pass deyimi"
   ]
  },
  {
   "cell_type": "code",
   "execution_count": 1,
   "metadata": {},
   "outputs": [
    {
     "name": "stdout",
     "output_type": "stream",
     "text": [
      "Bir sayı girin: 12\n",
      "pozitif sayıdır\n"
     ]
    }
   ],
   "source": [
    "while True:\n",
    "    sayı = int(input(\"Bir sayı girin: \"))\n",
    "\n",
    "    if sayı < 0:\n",
    "        pass    #Henüz ne yapıcağımıza karar vermediğimiz için kullanmış olabiliriz. Boş bırakırsak hata alırız\n",
    "\n",
    "    else:\n",
    "        print('pozitif sayıdır')\n",
    "        break"
   ]
  },
  {
   "cell_type": "markdown",
   "metadata": {},
   "source": [
    "#### Break Deyimi\n",
    "\n",
    "Döngüleri bitirmek için kullanılır"
   ]
  },
  {
   "cell_type": "code",
   "execution_count": 2,
   "metadata": {},
   "outputs": [
    {
     "name": "stdout",
     "output_type": "stream",
     "text": [
      "Lütfen bir parola belirleyiniz:a\n",
      "Parola 5 karakterden az olmamalı!\n",
      "Lütfen bir parola belirleyiniz:a\n",
      "Parola 5 karakterden az olmamalı!\n",
      "Lütfen bir parola belirleyiniz:sd\n",
      "Parola 5 karakterden az olmamalı!\n",
      "Lütfen bir parola belirleyiniz:asasdasd\n",
      "Parolanız belirlendi!\n"
     ]
    }
   ],
   "source": [
    "while True:\n",
    "    parola = input(\"Lütfen bir parola belirleyiniz:\")\n",
    "    if len(parola) < 5:\n",
    "        print(\"Parola 5 karakterden az olmamalı!\")\n",
    "    else:\n",
    "        print(\"Parolanız belirlendi!\")\n",
    "        break\n",
    "        \n",
    "#break döngü içinde yer almazsa program bize hata verir"
   ]
  },
  {
   "cell_type": "markdown",
   "metadata": {},
   "source": [
    "#### Continue Deyimi"
   ]
  },
  {
   "cell_type": "code",
   "execution_count": 4,
   "metadata": {},
   "outputs": [
    {
     "name": "stdout",
     "output_type": "stream",
     "text": [
      "1\n",
      "2\n",
      "4\n",
      "5\n",
      "7\n",
      "8\n"
     ]
    }
   ],
   "source": [
    "for i in range(10):\n",
    "    if i % 3 == 0 :\n",
    "        continue\n",
    "    else:\n",
    "        print(i)"
   ]
  },
  {
   "cell_type": "markdown",
   "metadata": {},
   "source": [
    "### Örnekler "
   ]
  },
  {
   "cell_type": "code",
   "execution_count": 5,
   "metadata": {},
   "outputs": [
    {
     "name": "stdout",
     "output_type": "stream",
     "text": [
      "Sorgulamak istediğiniz harf: 9\n",
      "1\n"
     ]
    }
   ],
   "source": [
    "#Bir metinde istediğimiz harfin kaç kere geçtiğini bulmak istiyorsak naparız ? \n",
    "\n",
    "metin = \"\"\"Bu programlama dili Guido Van Rossum adlı Hollandalı bir programcı\n",
    "tarafından 90’lı yılların başında geliştirilmeye başlanmıştır. Çoğu insan,\n",
    "isminin Python olmasına aldanarak, bu programlama dilinin, adını piton\n",
    "yılanından aldığını düşünür. Ancak zannedildiğinin aksine bu programlama dilinin\n",
    "adı piton yılanından gelmez. Guido Van Rossum bu programlama dilini, The Monty\n",
    "Python adlı bir İngiliz komedi grubunun, Monty Python’s Flying Circus adlı\n",
    "gösterisinden esinlenerek adlandırmıştır. Ancak her ne kadar gerçek böyle olsa\n",
    "da, Python programlama dilinin pek çok yerde bir yılan figürü ile temsil\n",
    "edilmesi neredeyse bir gelenek halini almıştır.\"\"\"\n",
    "\n",
    "harf = input(\"Sorgulamak istediğiniz harf: \")\n",
    "\n",
    "sayac = 0\n",
    "\n",
    "for s in metin:\n",
    "    if harf == s:\n",
    "        sayac+= 1\n",
    "\n",
    "print(sayac)"
   ]
  },
  {
   "cell_type": "code",
   "execution_count": 9,
   "metadata": {},
   "outputs": [
    {
     "name": "stdout",
     "output_type": "stream",
     "text": [
      "\n",
      "    (1) topla\n",
      "    (2) çıkar\n",
      "    (3) çarp\n",
      "    (4) böl\n",
      "    (q) çıkış\n",
      "    \n",
      "Yapmak istediğiniz işlemin numarasını girin: q\n",
      "çıkış yapılıyor\n"
     ]
    }
   ],
   "source": [
    "#Hesap makinesi yapalım bu sefer çıkış tuşuda olsun\n",
    "while True:\n",
    "    islem = \"\"\"\n",
    "    (1) topla\n",
    "    (2) çıkar\n",
    "    (3) çarp\n",
    "    (4) böl\n",
    "    (q) çıkış\n",
    "    \"\"\"\n",
    "\n",
    "    print(islem)\n",
    "\n",
    "    soru = input(\"Yapmak istediğiniz işlemin numarasını girin: \")\n",
    "    \n",
    "    if soru == \"q\":\n",
    "        print('çıkış yapılıyor')\n",
    "        break\n",
    "\n",
    "    sayı1 = int(input(\" ilk sayıyı girin: \"))\n",
    "    sayı2 = int(input(\" ikinci sayıyı girin: \"))\n",
    "\n",
    "    if soru == \"1\":\n",
    "        print(sayı1, \"+\", sayı2, \"=\", sayı1 + sayı2)\n",
    "        continue\n",
    "\n",
    "    elif soru == \"2\":\n",
    "        print(sayı1, \"-\", sayı2, \"=\", sayı1 - sayı2)\n",
    "        continue\n",
    "\n",
    "    elif soru == \"3\":\n",
    "        print(sayı1, \"x\", sayı2, \"=\", sayı1 * sayı2)\n",
    "        continue\n",
    "\n",
    "    elif soru == \"4\":\n",
    "        print(sayı1, \"/\", sayı2, \"=\", sayı1 / sayı2)\n",
    "        continue\n",
    "\n",
    "    else:\n",
    "        print(\"Yanlış giriş. Tekrar deneyiniz\")\n",
    "        continue"
   ]
  },
  {
   "cell_type": "code",
   "execution_count": 8,
   "metadata": {},
   "outputs": [
    {
     "name": "stdout",
     "output_type": "stream",
     "text": [
      "Lütfen 1 ile 100 arasında tahmin ettiğiniz sayıyı giriniz2\n",
      "Daha yüksek bir sayı giriniz. Kalan canınız 4\n",
      "Lütfen 1 ile 100 arasında tahmin ettiğiniz sayıyı giriniz5\n",
      "Daha yüksek bir sayı giriniz. Kalan canınız 3\n",
      "Lütfen 1 ile 100 arasında tahmin ettiğiniz sayıyı giriniz7\n",
      "Daha yüksek bir sayı giriniz. Kalan canınız 2\n",
      "Lütfen 1 ile 100 arasında tahmin ettiğiniz sayıyı giriniz9\n",
      "Daha yüksek bir sayı giriniz. Kalan canınız 1\n",
      "Lütfen 1 ile 100 arasında tahmin ettiğiniz sayıyı giriniz57\n",
      "tebrikler doğru bildiniz\n",
      "Oyun sona erdi\n"
     ]
    }
   ],
   "source": [
    "#Sayı tahmin uygulaması\n",
    "\n",
    "sayi=57    #random olarak atayabiliriz ama onu modüller kısmında gösteririz\n",
    "can=5\n",
    "\n",
    "while can>0:\n",
    "    tahmin=int(input('Lütfen 1 ile 100 arasında tahmin ettiğiniz sayıyı giriniz'))\n",
    "    if sayi == tahmin:\n",
    "        print('tebrikler doğru bildiniz')\n",
    "        break\n",
    "    elif sayi > tahmin:\n",
    "        print('Daha yüksek bir sayı giriniz. Kalan canınız {}'.format(can-1))\n",
    "        can -= 1\n",
    "    else:\n",
    "        print('Daha küçük bir sayı giriniz. Kalan canınız {}'.format(can-1))\n",
    "        can -= 1\n",
    "    \n",
    "print('Oyun sona erdi')\n",
    "\n"
   ]
  },
  {
   "cell_type": "markdown",
   "metadata": {},
   "source": [
    "### Karakter Dizileri"
   ]
  },
  {
   "cell_type": "code",
   "execution_count": 96,
   "metadata": {},
   "outputs": [
    {
     "name": "stdout",
     "output_type": "stream",
     "text": [
      "Python\n"
     ]
    }
   ],
   "source": [
    "x='Python'\n",
    "print(x)"
   ]
  },
  {
   "cell_type": "code",
   "execution_count": 98,
   "metadata": {},
   "outputs": [
    {
     "name": "stdout",
     "output_type": "stream",
     "text": [
      "P\n"
     ]
    }
   ],
   "source": [
    "# karakter dizilerini bölebilir istediğimiz indexteki elemanına ulaşabiliriz\n",
    "\n",
    "print(x[0])  "
   ]
  },
  {
   "cell_type": "code",
   "execution_count": 101,
   "metadata": {},
   "outputs": [
    {
     "name": "stdout",
     "output_type": "stream",
     "text": [
      "isminiz: Onur\n",
      "isminizin 1. harfi: O\n",
      "isminizin 2. harfi: n\n",
      "isminizin 3. harfi: u\n",
      "isminizin 4. harfi: r\n"
     ]
    }
   ],
   "source": [
    "#Örnek  not olarak yolla\n",
    "isim = input(\"isminiz: \")\n",
    "\n",
    "for i in range(len(isim)):\n",
    "    print(\"isminizin {}. harfi: {}\".format(i+1, isim[i]))"
   ]
  },
  {
   "cell_type": "code",
   "execution_count": 102,
   "metadata": {},
   "outputs": [
    {
     "name": "stdout",
     "output_type": "stream",
     "text": [
      "ur yılm\n"
     ]
    }
   ],
   "source": [
    "#Karakter dizilerini dilimleyebiliriz\n",
    "isim='onur yılmaz'\n",
    "print(isim[2:9])  #son index alınmaz"
   ]
  },
  {
   "cell_type": "code",
   "execution_count": 106,
   "metadata": {},
   "outputs": [
    {
     "name": "stdout",
     "output_type": "stream",
     "text": [
      "zamlıy runo\n"
     ]
    }
   ],
   "source": [
    "#tersten yazdırmak\n",
    "print(isim[::-1])"
   ]
  },
  {
   "cell_type": "markdown",
   "metadata": {},
   "source": [
    "#### Karakter dizisini alfabe sırasına dizmek\n",
    "Bunun için sorted fonksiyonunu kullanacağız"
   ]
  },
  {
   "cell_type": "code",
   "execution_count": 108,
   "metadata": {},
   "outputs": [
    {
     "name": "stdout",
     "output_type": "stream",
     "text": [
      "['a', 'i', 'k', 'p', 't']\n"
     ]
    }
   ],
   "source": [
    "print(sorted('kitap'))  #bize bir liste döndürüyor. Listenin ne olduğuna birazdan gireceğiz. türkçe karakterleri düzgün sıralamaz"
   ]
  },
  {
   "cell_type": "markdown",
   "metadata": {},
   "source": [
    "türkçe karakterleride sıralamaya koymak için                                                       \n",
    "import locale                                                                  \n",
    "locale.setlocale(locale.LC_ALL, \"Turkish_Turkey.1254\") #Windows için                                                       \n",
    "locale.setlocale(locale.LC_ALL, \"tr_TR\") #GNU/Linux için                                                               \n",
    "sorted(\"çiçek\", key=locale.strxfr)"
   ]
  },
  {
   "cell_type": "markdown",
   "metadata": {},
   "source": [
    "#### 2 Önemli Fonksiyon"
   ]
  },
  {
   "cell_type": "code",
   "execution_count": 111,
   "metadata": {},
   "outputs": [
    {
     "name": "stdout",
     "output_type": "stream",
     "text": [
      "['__add__', '__class__', '__contains__', '__delattr__', '__dir__', '__doc__', '__eq__', '__format__', '__ge__', '__getattribute__', '__getitem__', '__getnewargs__', '__gt__', '__hash__', '__init__', '__init_subclass__', '__iter__', '__le__', '__len__', '__lt__', '__mod__', '__mul__', '__ne__', '__new__', '__reduce__', '__reduce_ex__', '__repr__', '__rmod__', '__rmul__', '__setattr__', '__sizeof__', '__str__', '__subclasshook__', 'capitalize', 'casefold', 'center', 'count', 'encode', 'endswith', 'expandtabs', 'find', 'format', 'format_map', 'index', 'isalnum', 'isalpha', 'isascii', 'isdecimal', 'isdigit', 'isidentifier', 'islower', 'isnumeric', 'isprintable', 'isspace', 'istitle', 'isupper', 'join', 'ljust', 'lower', 'lstrip', 'maketrans', 'partition', 'replace', 'rfind', 'rindex', 'rjust', 'rpartition', 'rsplit', 'rstrip', 'split', 'splitlines', 'startswith', 'strip', 'swapcase', 'title', 'translate', 'upper', 'zfill']\n"
     ]
    }
   ],
   "source": [
    "# 1- dir()   bize nesnelerin özellikleri hakkında bilgi verir. Hangi metodları sunduğunu görebiliriz\n",
    "\n",
    "print(dir(str))"
   ]
  },
  {
   "cell_type": "code",
   "execution_count": 4,
   "metadata": {},
   "outputs": [
    {
     "name": "stdout",
     "output_type": "stream",
     "text": [
      "1 O\n",
      "2 n\n",
      "3 u\n",
      "4 r\n"
     ]
    }
   ],
   "source": [
    "# 2- enumerate() programda numaralandırma işlemi yaparken kullanılır\n",
    "\n",
    "isim = 'Onur'\n",
    "for i,harf in enumerate(isim,1):   \n",
    "    print(i,harf)\n",
    "    \n",
    "#eğer ikinci parametre vermezsek 0 dan numaralandırmaya başlar"
   ]
  },
  {
   "cell_type": "markdown",
   "metadata": {},
   "source": [
    "### Karakter dizileri Metotları"
   ]
  },
  {
   "cell_type": "markdown",
   "metadata": {},
   "source": [
    "##### 1- Replace() verdiğimiz ilk parametrenin ikinci değerle değişmesini sağlar"
   ]
  },
  {
   "cell_type": "code",
   "execution_count": 9,
   "metadata": {},
   "outputs": [],
   "source": [
    "okul=\"memleket\""
   ]
  },
  {
   "cell_type": "code",
   "execution_count": 12,
   "metadata": {},
   "outputs": [
    {
     "data": {
      "text/plain": [
       "'mamlakat'"
      ]
     },
     "execution_count": 12,
     "metadata": {},
     "output_type": "execute_result"
    }
   ],
   "source": [
    "okul.replace(\"e\",\"a\")  #kalıcı değişiklik yapmıyor. istersek tekraradan üstüne yazabiliriz"
   ]
  },
  {
   "cell_type": "code",
   "execution_count": 14,
   "metadata": {},
   "outputs": [
    {
     "data": {
      "text/plain": [
       "'mmlkt'"
      ]
     },
     "execution_count": 14,
     "metadata": {},
     "output_type": "execute_result"
    }
   ],
   "source": [
    "okul.replace(\"e\",\"\") #a harflerini silmiş oluyoruz"
   ]
  },
  {
   "cell_type": "code",
   "execution_count": 16,
   "metadata": {},
   "outputs": [
    {
     "data": {
      "text/plain": [
       "'mmleket'"
      ]
     },
     "execution_count": 16,
     "metadata": {},
     "output_type": "execute_result"
    }
   ],
   "source": [
    "okul.replace(\"e\", \"\", 1)  #3. parametreyi verdiğimizde sadece 1 tane harf sildi. Bunu değiştirebiliriz"
   ]
  },
  {
   "cell_type": "markdown",
   "metadata": {},
   "source": [
    "#### 2-split"
   ]
  },
  {
   "cell_type": "code",
   "execution_count": 18,
   "metadata": {},
   "outputs": [
    {
     "name": "stdout",
     "output_type": "stream",
     "text": [
      "İstanbul Büyükşehir Belediyesi\n",
      "['İstanbul', 'Büyükşehir', 'Belediyesi']\n"
     ]
    }
   ],
   "source": [
    "#split bizim karakter dizilerini bölmemizi yarayan bir fonksiyondur\n",
    "\n",
    "name=\"İstanbul Büyükşehir Belediyesi\"\n",
    "print(name)\n",
    "\n",
    "print(name.split()) #split fonksiyonuna parametre vermediğimizde boşluk değerlerinden ayırır"
   ]
  },
  {
   "cell_type": "code",
   "execution_count": 1,
   "metadata": {
    "scrolled": true
   },
   "outputs": [
    {
     "name": "stdout",
     "output_type": "stream",
     "text": [
      "elma,armut,çilek\n"
     ]
    }
   ],
   "source": [
    "meyveler = 'elma,armut,çilek'\n",
    "print(meyveler)"
   ]
  },
  {
   "cell_type": "code",
   "execution_count": 35,
   "metadata": {
    "scrolled": true
   },
   "outputs": [
    {
     "name": "stdout",
     "output_type": "stream",
     "text": [
      "['elma', 'armut', 'çilek']\n",
      "<class 'list'>\n"
     ]
    }
   ],
   "source": [
    "meyve_list = meyveler.split(',')  # split fonksiyonuna hangi değerlerden ayırma\\parçalama yapmasını istiyorsak o değeri veriyoruz\n",
    "\n",
    "print(meyve_list)\n",
    "print(type(meyve_list))"
   ]
  },
  {
   "cell_type": "code",
   "execution_count": 14,
   "metadata": {},
   "outputs": [
    {
     "name": "stdout",
     "output_type": "stream",
     "text": [
      "Kısaltmasını öğrenmek istediğiniz kurum adını girin: istanbul büyükşehir belediyesi\n",
      "ibb"
     ]
    }
   ],
   "source": [
    "#Örnek Kurum adımı kısaltması yapalım\n",
    "kurum = input(\"Kısaltmasını öğrenmek istediğiniz kurum adını girin: \")\n",
    "#kurum.spliti göster istersen\n",
    "for i in kurum.split():\n",
    "    print(i[0], end=\"\")"
   ]
  },
  {
   "cell_type": "markdown",
   "metadata": {},
   "source": [
    "#### 3-lower"
   ]
  },
  {
   "cell_type": "code",
   "execution_count": 23,
   "metadata": {},
   "outputs": [
    {
     "name": "stdout",
     "output_type": "stream",
     "text": [
      "PYTHON\n",
      "python\n"
     ]
    }
   ],
   "source": [
    "#karakterlerin küçük yazılmasını sağlar\n",
    "\n",
    "deger=\"PYTHON\"\n",
    "print(deger)\n",
    "print(deger.lower())"
   ]
  },
  {
   "cell_type": "markdown",
   "metadata": {},
   "source": [
    "#### 4-upper"
   ]
  },
  {
   "cell_type": "code",
   "execution_count": 25,
   "metadata": {},
   "outputs": [
    {
     "name": "stdout",
     "output_type": "stream",
     "text": [
      "python\n",
      "PYTHON\n"
     ]
    }
   ],
   "source": [
    "#karakterlerin büyük yazılmasını sağlar\n",
    "deger=\"python\"\n",
    "print(deger)\n",
    "print(deger.upper())"
   ]
  },
  {
   "cell_type": "markdown",
   "metadata": {},
   "source": [
    "##### islower(),isupper() bunlar sorgulayıdı metotlardır"
   ]
  },
  {
   "cell_type": "code",
   "execution_count": 26,
   "metadata": {},
   "outputs": [],
   "source": [
    "#karakter dizisinin tamamen küçük veya büyük harflerden oluşup oluşmadığını sorgular"
   ]
  },
  {
   "cell_type": "code",
   "execution_count": 29,
   "metadata": {},
   "outputs": [
    {
     "name": "stdout",
     "output_type": "stream",
     "text": [
      "False\n",
      "True\n"
     ]
    }
   ],
   "source": [
    "isim = 'ONUR'\n",
    "print(isim.islower())\n",
    "print(isim.isupper())"
   ]
  },
  {
   "cell_type": "code",
   "execution_count": 30,
   "metadata": {},
   "outputs": [
    {
     "name": "stdout",
     "output_type": "stream",
     "text": [
      "Adınız: oNur\n",
      "Lütfen isminizi sadece küçük harflerle yazın\n"
     ]
    }
   ],
   "source": [
    "#Örnek\n",
    "veri = input(\"Adınız: \")\n",
    "\n",
    "if not veri.islower():\n",
    "    print(\"Lütfen isminizi sadece küçük harflerle yazın\")"
   ]
  },
  {
   "cell_type": "markdown",
   "metadata": {},
   "source": [
    "##### endswith()  bu da sorgulayıcı metotdur. Karakter dizisinin hangi harfle bitip bitmediğini sorgulayabiliriz"
   ]
  },
  {
   "cell_type": "code",
   "execution_count": 33,
   "metadata": {},
   "outputs": [
    {
     "name": "stdout",
     "output_type": "stream",
     "text": [
      "True\n",
      "False\n"
     ]
    }
   ],
   "source": [
    "isim = 'Google'\n",
    "print(isim.endswith('e'))\n",
    "print(isim.endswith('E'))   #Python büyük ve küçük harfe duyarlıdır"
   ]
  },
  {
   "cell_type": "markdown",
   "metadata": {},
   "source": [
    "#### startswith() yukarıdakinin tam tersi karakter dizisinin başlangıcını sorgular"
   ]
  },
  {
   "cell_type": "code",
   "execution_count": 35,
   "metadata": {},
   "outputs": [
    {
     "name": "stdout",
     "output_type": "stream",
     "text": [
      "True\n",
      "False\n"
     ]
    }
   ],
   "source": [
    "isim = 'Google'\n",
    "print(isim.startswith('G'))\n",
    "print(isim.startswith('f'))"
   ]
  },
  {
   "cell_type": "markdown",
   "metadata": {},
   "source": [
    "#### capitalize () karakter dizinin ilk harfini büyük yapar"
   ]
  },
  {
   "cell_type": "code",
   "execution_count": 36,
   "metadata": {},
   "outputs": [
    {
     "name": "stdout",
     "output_type": "stream",
     "text": [
      "Google\n"
     ]
    }
   ],
   "source": [
    "isim = 'google'\n",
    "print(isim.capitalize())"
   ]
  },
  {
   "cell_type": "markdown",
   "metadata": {},
   "source": [
    "#### title() başlık formatına getirir yani her kelimenin baş harfini büyütür"
   ]
  },
  {
   "cell_type": "code",
   "execution_count": 38,
   "metadata": {},
   "outputs": [
    {
     "name": "stdout",
     "output_type": "stream",
     "text": [
      "Istanbul Üniversitesi Cerrahapasa\n"
     ]
    }
   ],
   "source": [
    "okul= 'istanbul üniversitesi cerrahapasa'\n",
    "print(okul.title())"
   ]
  },
  {
   "cell_type": "markdown",
   "metadata": {},
   "source": [
    "#### strip() istenmeyen karakterleri siler"
   ]
  },
  {
   "cell_type": "code",
   "execution_count": 30,
   "metadata": {},
   "outputs": [
    {
     "name": "stdout",
     "output_type": "stream",
     "text": [
      "  onur  \n",
      "onur\n"
     ]
    }
   ],
   "source": [
    "isim='  onur  '\n",
    "print(isim)\n",
    "print(isim.strip())   #parametre vermezsek boşlukları siler. Ama kalıcı değildir. Kalıcı olması için tekrardan değişkene atamalısın"
   ]
  },
  {
   "cell_type": "code",
   "execution_count": 28,
   "metadata": {},
   "outputs": [
    {
     "name": "stdout",
     "output_type": "stream",
     "text": [
      "python\n",
      "ython\n",
      "python\n"
     ]
    }
   ],
   "source": [
    "name='python'\n",
    "print(name)\n",
    "print(name.strip('p'))"
   ]
  },
  {
   "cell_type": "code",
   "execution_count": null,
   "metadata": {},
   "outputs": [],
   "source": [
    "#bunlar böyle devam ediyor araştırıp bakabilirsiniz"
   ]
  },
  {
   "cell_type": "markdown",
   "metadata": {},
   "source": [
    "## Listeler ve Tupple(Demetler)\n",
    "Şimdiye kadar sayılar ve karakter dizilerini gördük. Şimdi 2 tane daha veri tipi göreceğiz"
   ]
  },
  {
   "cell_type": "markdown",
   "metadata": {},
   "source": [
    "### 1-Listeler"
   ]
  },
  {
   "cell_type": "code",
   "execution_count": 10,
   "metadata": {},
   "outputs": [],
   "source": [
    "liste = [\"öğe1\", \"öğe2\", \"öğe3\"]\n",
    "bos=[]   #boş listeyi böyle tanımlayabiliriz\n",
    "\n",
    "#listeleri tanımlarken köşeli parantez arasına öğelerimizi yazıyoruz"
   ]
  },
  {
   "cell_type": "code",
   "execution_count": 11,
   "metadata": {},
   "outputs": [
    {
     "data": {
      "text/plain": [
       "list"
      ]
     },
     "execution_count": 11,
     "metadata": {},
     "output_type": "execute_result"
    }
   ],
   "source": [
    "type(liste)"
   ]
  },
  {
   "cell_type": "code",
   "execution_count": 15,
   "metadata": {},
   "outputs": [
    {
     "name": "stdout",
     "output_type": "stream",
     "text": [
      "['Dsc', [1, 2, 3], 'İUC']\n"
     ]
    }
   ],
   "source": [
    "liste = [\"Onur\", \"Yılmaz\", 23, 65, True]\n",
    "#İstediğimiz değerleri listeye verebiliriz. Hatta Liste içinde listede bulundurabiliriz\n",
    "\n",
    "liste=['Dsc',[1,2,3],'İUC']\n",
    "print(liste)"
   ]
  },
  {
   "cell_type": "markdown",
   "metadata": {},
   "source": [
    "Liste içerisindeki değerlere döngüler sayesinde ulaşabiliriz"
   ]
  },
  {
   "cell_type": "code",
   "execution_count": 17,
   "metadata": {},
   "outputs": [
    {
     "name": "stdout",
     "output_type": "stream",
     "text": [
      "Dsc adlı öğenin veri tipi: <class 'str'>\n",
      "[1, 2, 3] adlı öğenin veri tipi: <class 'list'>\n",
      "İUC adlı öğenin veri tipi: <class 'str'>\n"
     ]
    }
   ],
   "source": [
    "for i in liste:\n",
    "    print(\"{} adlı öğenin veri tipi: {}\".format(i, type(i)))"
   ]
  },
  {
   "cell_type": "markdown",
   "metadata": {},
   "source": [
    "#### Listelerin ögelerine erişmek"
   ]
  },
  {
   "cell_type": "code",
   "execution_count": 19,
   "metadata": {},
   "outputs": [
    {
     "name": "stdout",
     "output_type": "stream",
     "text": [
      "İUC\n",
      "İTU\n",
      "ODTU\n"
     ]
    },
    {
     "ename": "IndexError",
     "evalue": "list index out of range",
     "output_type": "error",
     "traceback": [
      "\u001b[1;31m---------------------------------------------------------------------------\u001b[0m",
      "\u001b[1;31mIndexError\u001b[0m                                Traceback (most recent call last)",
      "\u001b[1;32m<ipython-input-19-ec415de5ded0>\u001b[0m in \u001b[0;36m<module>\u001b[1;34m\u001b[0m\n\u001b[0;32m      3\u001b[0m \u001b[0mprint\u001b[0m\u001b[1;33m(\u001b[0m\u001b[0mokul\u001b[0m\u001b[1;33m[\u001b[0m\u001b[1;36m1\u001b[0m\u001b[1;33m]\u001b[0m\u001b[1;33m)\u001b[0m\u001b[1;33m\u001b[0m\u001b[1;33m\u001b[0m\u001b[0m\n\u001b[0;32m      4\u001b[0m \u001b[0mprint\u001b[0m\u001b[1;33m(\u001b[0m\u001b[0mokul\u001b[0m\u001b[1;33m[\u001b[0m\u001b[1;36m2\u001b[0m\u001b[1;33m]\u001b[0m\u001b[1;33m)\u001b[0m\u001b[1;33m\u001b[0m\u001b[1;33m\u001b[0m\u001b[0m\n\u001b[1;32m----> 5\u001b[1;33m \u001b[0mprint\u001b[0m\u001b[1;33m(\u001b[0m\u001b[0mokul\u001b[0m\u001b[1;33m[\u001b[0m\u001b[1;36m3\u001b[0m\u001b[1;33m]\u001b[0m\u001b[1;33m)\u001b[0m\u001b[1;33m\u001b[0m\u001b[1;33m\u001b[0m\u001b[0m\n\u001b[0m",
      "\u001b[1;31mIndexError\u001b[0m: list index out of range"
     ]
    }
   ],
   "source": [
    "okul=['İUC','İTU','ODTU']\n",
    "print(okul[0])\n",
    "print(okul[1])\n",
    "print(okul[2])\n",
    "print(okul[3])    #olmayan bir indexi yazdırmaya çalışırsak hata alırız"
   ]
  },
  {
   "cell_type": "code",
   "execution_count": 42,
   "metadata": {},
   "outputs": [
    {
     "name": "stdout",
     "output_type": "stream",
     "text": [
      "ODTU\n"
     ]
    }
   ],
   "source": [
    "print(okul[-1])   # - değerler verirsek sondan başa doğru gelmeye başlar"
   ]
  },
  {
   "cell_type": "code",
   "execution_count": 21,
   "metadata": {},
   "outputs": [
    {
     "name": "stdout",
     "output_type": "stream",
     "text": [
      "C\n"
     ]
    }
   ],
   "source": [
    "print(okul[0][2])\n",
    "\n",
    "#listedeki birinci elemanın 2.indexine (3.karakterine) bu şekilde ulaşabiliriz"
   ]
  },
  {
   "cell_type": "markdown",
   "metadata": {},
   "source": [
    "Listelerde Dilimleme işlemi yapabiliriz. Bunu karakter dizilerinde de yapabiliriz"
   ]
  },
  {
   "cell_type": "code",
   "execution_count": 43,
   "metadata": {},
   "outputs": [
    {
     "name": "stdout",
     "output_type": "stream",
     "text": [
      "['elma', 'armut']\n"
     ]
    }
   ],
   "source": [
    "meyveler = [\"elma\", \"armut\", \"çilek\", \"kiraz\"]\n",
    "\n",
    "print(meyveler[0:2])    #0 dan başla 2 ye kadar olan değerleri bize getir diyoruz. Ancak hatırlayacağınız üzere son değer alınmaz"
   ]
  },
  {
   "cell_type": "code",
   "execution_count": 45,
   "metadata": {},
   "outputs": [
    {
     "name": "stdout",
     "output_type": "stream",
     "text": [
      "['kiraz', 'çilek', 'armut', 'elma']\n"
     ]
    }
   ],
   "source": [
    "#Tersten yazdırmak istersel\n",
    "\n",
    "print(meyveler[::-1])   #hepsini al diyoruz ancak - 1 ile sondan başlaması gerektiğini gösteriyoruz"
   ]
  },
  {
   "cell_type": "code",
   "execution_count": null,
   "metadata": {},
   "outputs": [],
   "source": []
  },
  {
   "cell_type": "markdown",
   "metadata": {},
   "source": [
    "#### enumerate() fonksiyonu\n",
    "\n",
    "karakter dizilerinde görmüştük. Listelerde de kullanabiliriz\n",
    "programamızda numaralandırmaya dayalı işlemler yapmamız gerekiyorsa bunu kullanırız"
   ]
  },
  {
   "cell_type": "code",
   "execution_count": 49,
   "metadata": {},
   "outputs": [
    {
     "name": "stdout",
     "output_type": "stream",
     "text": [
      "1 sıradaki şehir : istanbul\n",
      "2 sıradaki şehir : adana\n",
      "3 sıradaki şehir : Sivas\n",
      "4 sıradaki şehir : Trabzon\n"
     ]
    }
   ],
   "source": [
    "Sehirler=['istanbul','adana','Sivas','Trabzon']\n",
    "\n",
    "for number,sehir in enumerate(Sehirler,1):    #ikinci değer başlangıç sayısı\n",
    "    print(f'{number} sıradaki şehir : {sehir}')\n",
    "\n",
    "#enumerate fonksiyonunu sadece sıralanması istediğimiz parametreyi verirsek onun numaralarını sıfırdan başlatır. Değiştirebiliriz"
   ]
  },
  {
   "cell_type": "markdown",
   "metadata": {},
   "source": [
    "###### len fonksiyonunu listelerde de kullanabiliz"
   ]
  },
  {
   "cell_type": "code",
   "execution_count": 22,
   "metadata": {},
   "outputs": [
    {
     "name": "stdout",
     "output_type": "stream",
     "text": [
      "3\n"
     ]
    }
   ],
   "source": [
    "print(len(okul))"
   ]
  },
  {
   "cell_type": "markdown",
   "metadata": {},
   "source": [
    "#### Örnek  (not olarak yolla)\n",
    "\n",
    "[0, 10], [12, 34], [80, 94] dışarıdan bu değerler gelsin ve istenilen aralıktaki sayıları yazdıralım"
   ]
  },
  {
   "cell_type": "code",
   "execution_count": 24,
   "metadata": {
    "scrolled": true
   },
   "outputs": [
    {
     "name": "stdout",
     "output_type": "stream",
     "text": [
      "range(0, 10)\n",
      "range(12, 34)\n",
      "range(80, 94)\n"
     ]
    }
   ],
   "source": [
    "sayılar = [[0, 10], [12, 34], [80, 94]]\n",
    "\n",
    "for i in sayılar:\n",
    "    print(range(i[0], i[1]))   #direkt range fonksiyonunu yazdırmak istediğimizde python tüm değerleri göstermez range() olarak gösterir"
   ]
  },
  {
   "cell_type": "markdown",
   "metadata": {},
   "source": [
    "Eğer Tüm sayıları göstermek istiyorsak print fonksiyonunu öğrenirken kullandığımız * yapısını kullanabiliriz"
   ]
  },
  {
   "cell_type": "code",
   "execution_count": 26,
   "metadata": {},
   "outputs": [
    {
     "name": "stdout",
     "output_type": "stream",
     "text": [
      "0 1 2 3 4 5 6 7 8 9\n",
      "12 13 14 15 16 17 18 19 20 21 22 23 24 25 26 27 28 29 30 31 32 33\n",
      "80 81 82 83 84 85 86 87 88 89 90 91 92 93\n"
     ]
    }
   ],
   "source": [
    "sayılar = [[0, 10], [12, 34], [80, 94]]\n",
    "\n",
    "for i in sayılar:\n",
    "    print(*range(i[0], i[1]))\n",
    "\n",
    "#Bu kodu daha da temiz hale getirebiliriz. i[0], i[1] yerine yıldız parametresini kullanabiliriz"
   ]
  },
  {
   "cell_type": "code",
   "execution_count": 27,
   "metadata": {},
   "outputs": [
    {
     "name": "stdout",
     "output_type": "stream",
     "text": [
      "0 1 2 3 4 5 6 7 8 9\n",
      "12 13 14 15 16 17 18 19 20 21 22 23 24 25 26 27 28 29 30 31 32 33\n",
      "80 81 82 83 84 85 86 87 88 89 90 91 92 93\n"
     ]
    }
   ],
   "source": [
    "sayılar = [[0, 10], [12, 34], [80, 94]]\n",
    "\n",
    "for i in sayılar:\n",
    "    print(*range(*i))  \n",
    "\n",
    "#i ye de yıldız koyduğumuzda bize gelen değerleri ,[0,10] gibi, bunu birbirinden ayırıyor ve range metoduna veriyor\n",
    "#sonunda olan şey ise range(0,10) oluyor"
   ]
  },
  {
   "cell_type": "markdown",
   "metadata": {},
   "source": [
    "#### List fonksiyonu\n",
    "\n",
    "köşeli parantezlere almak dışında liste oluşturmanın bir yolu daha mevcut"
   ]
  },
  {
   "cell_type": "code",
   "execution_count": 31,
   "metadata": {},
   "outputs": [
    {
     "name": "stdout",
     "output_type": "stream",
     "text": [
      "<class 'list'>\n",
      "['Elma', 'Armut']\n"
     ]
    }
   ],
   "source": [
    "liste= list(('Elma','Armut'))\n",
    "print(type(liste))\n",
    "print(liste)"
   ]
  },
  {
   "cell_type": "markdown",
   "metadata": {},
   "source": [
    "List fonksiyonunu kullanırken bunun yanında bir metod daha kullanabiliriz ve bu bize çok yardımcı olur."
   ]
  },
  {
   "cell_type": "code",
   "execution_count": 39,
   "metadata": {},
   "outputs": [
    {
     "name": "stdout",
     "output_type": "stream",
     "text": [
      "abcçdefgğhıijklmnoöprsştuüvyz\n"
     ]
    }
   ],
   "source": [
    "alfabe='abcçdefgğhıijklmnoöprsştuüvyz'\n",
    "\n",
    "alfabe_list=list(alfabe)\n",
    "print(alfabe)"
   ]
  },
  {
   "cell_type": "code",
   "execution_count": 40,
   "metadata": {},
   "outputs": [
    {
     "name": "stdout",
     "output_type": "stream",
     "text": [
      "['abcçdefgğhı', 'jklmnoöprsştuüvyz']\n"
     ]
    }
   ],
   "source": [
    "alfabe=list(alfabe.split('i'))\n",
    "print(alfabe)"
   ]
  },
  {
   "cell_type": "markdown",
   "metadata": {},
   "source": [
    "#### Liste Ögelerini değiştirmek"
   ]
  },
  {
   "cell_type": "code",
   "execution_count": 53,
   "metadata": {},
   "outputs": [
    {
     "name": "stdout",
     "output_type": "stream",
     "text": [
      "['kırmızı', 'sarı', 'mavi', 'yeşil', 'beyaz']\n"
     ]
    }
   ],
   "source": [
    "renkler = [\"kırmızı\", \"sarı\", \"mavi\", \"yeşil\", \"beyaz\"]\n",
    "print(renkler)"
   ]
  },
  {
   "cell_type": "code",
   "execution_count": 54,
   "metadata": {},
   "outputs": [
    {
     "name": "stdout",
     "output_type": "stream",
     "text": [
      "['kırmızı', 'sarı', 'mor', 'yeşil', 'beyaz']\n"
     ]
    }
   ],
   "source": [
    "#Değiştirmek istediğimiz değere yeni değer atayınca otomatik değişiyor\n",
    "\n",
    "renkler[2]='mor'\n",
    "print(renkler)"
   ]
  },
  {
   "cell_type": "code",
   "execution_count": 56,
   "metadata": {},
   "outputs": [
    {
     "name": "stdout",
     "output_type": "stream",
     "text": [
      "['Ocak', 'Şubat', 'Mart', 'Nisan', 'Mayıs', 'Haziran']\n",
      "['Ocak', 'Ekim', 'Kasım', 'Aralık', 'Mayıs', 'Haziran']\n"
     ]
    }
   ],
   "source": [
    "#Belirli aralıktaki değerleride değişebiliriz\n",
    "\n",
    "aylar=['Ocak','Şubat','Mart','Nisan','Mayıs','Haziran']\n",
    "print(aylar)\n",
    "\n",
    "aylar[1:4] ='Ekim','Kasım','Aralık'\n",
    "print(aylar)"
   ]
  },
  {
   "cell_type": "code",
   "execution_count": 57,
   "metadata": {},
   "outputs": [
    {
     "name": "stdout",
     "output_type": "stream",
     "text": [
      "[1, 2, 3, 4, 5, 6]\n"
     ]
    }
   ],
   "source": [
    "#Tüm değerlerini değiştirmek istersek\n",
    "\n",
    "aylar[:]=1,2,3,4,5,6\n",
    "print(aylar)"
   ]
  },
  {
   "cell_type": "code",
   "execution_count": 61,
   "metadata": {},
   "outputs": [
    {
     "data": {
      "text/plain": [
       "[1, 2, 3, 4, 5, 6, 7]"
      ]
     },
     "execution_count": 61,
     "metadata": {},
     "output_type": "execute_result"
    }
   ],
   "source": [
    "#yeni bir veride ekleyebiliriz\n",
    "\n",
    "aylar + [7]   #ekleme yapmak için eklenilcek şeyinde liste olması gerekiyor"
   ]
  },
  {
   "cell_type": "markdown",
   "metadata": {},
   "source": [
    "#### Örnek not ortalaması hesaplama\n",
    "\n",
    "5 farklı öğrencinin hepsinin notlarını ve ortalamayı ekrana yazdıracağız"
   ]
  },
  {
   "cell_type": "code",
   "execution_count": 62,
   "metadata": {},
   "outputs": [
    {
     "name": "stdout",
     "output_type": "stream",
     "text": [
      "1. not: 10\n",
      "2. not: 20\n",
      "3. not: 1\n",
      "4. not: 22\n",
      "5. not: 3\n",
      "Girdiğiniz notlar:  10 20 1 22 3\n",
      "Not ortalamanız:  11.2\n"
     ]
    }
   ],
   "source": [
    "ortalama = 0\n",
    "notlar = []\n",
    "\n",
    "for i in range(5):\n",
    "    veri = int(input(\"{}. not: \".format(i+1)))\n",
    "    ortalama += veri\n",
    "    notlar += [veri]\n",
    "\n",
    "print(\"Girdiğiniz notlar: \", *notlar)  #* ile notları tek tek yazdırıyoruz yani birbirinden ayırıyoruz\n",
    "print(\"Not ortalamanız: \", ortalama/5)"
   ]
  },
  {
   "cell_type": "markdown",
   "metadata": {},
   "source": [
    "#### Liste ögesi veya listeyi silmek"
   ]
  },
  {
   "cell_type": "code",
   "execution_count": 63,
   "metadata": {},
   "outputs": [
    {
     "name": "stdout",
     "output_type": "stream",
     "text": [
      "[1, 5, 3, 2]\n"
     ]
    }
   ],
   "source": [
    "liste = [1, 5, 3, 2, 9]\n",
    "del liste[-1]  #istediğimiz verinin indexini verip onu siliyoruz\n",
    "print(liste)"
   ]
  },
  {
   "cell_type": "code",
   "execution_count": 65,
   "metadata": {},
   "outputs": [
    {
     "ename": "NameError",
     "evalue": "name 'liste' is not defined",
     "output_type": "error",
     "traceback": [
      "\u001b[1;31m---------------------------------------------------------------------------\u001b[0m",
      "\u001b[1;31mNameError\u001b[0m                                 Traceback (most recent call last)",
      "\u001b[1;32m<ipython-input-65-3f9640f63032>\u001b[0m in \u001b[0;36m<module>\u001b[1;34m\u001b[0m\n\u001b[0;32m      1\u001b[0m \u001b[0mliste\u001b[0m \u001b[1;33m=\u001b[0m \u001b[1;33m[\u001b[0m\u001b[1;36m1\u001b[0m\u001b[1;33m,\u001b[0m \u001b[1;36m5\u001b[0m\u001b[1;33m,\u001b[0m \u001b[1;36m3\u001b[0m\u001b[1;33m,\u001b[0m \u001b[1;36m2\u001b[0m\u001b[1;33m,\u001b[0m \u001b[1;36m9\u001b[0m\u001b[1;33m]\u001b[0m\u001b[1;33m\u001b[0m\u001b[1;33m\u001b[0m\u001b[0m\n\u001b[0;32m      2\u001b[0m \u001b[1;32mdel\u001b[0m \u001b[0mliste\u001b[0m\u001b[1;33m\u001b[0m\u001b[1;33m\u001b[0m\u001b[0m\n\u001b[1;32m----> 3\u001b[1;33m \u001b[0mprint\u001b[0m\u001b[1;33m(\u001b[0m\u001b[0mliste\u001b[0m\u001b[1;33m)\u001b[0m  \u001b[1;31m#sildik bu yüzden liste bulunamıcak hata vericek\u001b[0m\u001b[1;33m\u001b[0m\u001b[1;33m\u001b[0m\u001b[0m\n\u001b[0m",
      "\u001b[1;31mNameError\u001b[0m: name 'liste' is not defined"
     ]
    }
   ],
   "source": [
    "liste = [1, 5, 3, 2, 9]\n",
    "del liste\n",
    "print(liste)  #sildik bu yüzden liste bulunamıcak hata vericek"
   ]
  },
  {
   "cell_type": "markdown",
   "metadata": {},
   "source": [
    "#### Listeleri Kopyalamak"
   ]
  },
  {
   "cell_type": "code",
   "execution_count": 66,
   "metadata": {},
   "outputs": [],
   "source": [
    "li1 = [\"elma\", \"armut\", \"erik\"]"
   ]
  },
  {
   "cell_type": "code",
   "execution_count": 67,
   "metadata": {},
   "outputs": [
    {
     "name": "stdout",
     "output_type": "stream",
     "text": [
      "['elma', 'armut', 'erik']\n",
      "['elma', 'armut', 'erik']\n"
     ]
    }
   ],
   "source": [
    "li2=li1\n",
    "print(li1)\n",
    "print(li2)"
   ]
  },
  {
   "cell_type": "code",
   "execution_count": 69,
   "metadata": {},
   "outputs": [],
   "source": [
    "#şimdi li1 üzerinde bir değişiklik yapalım\n",
    "\n",
    "li1[0]='karpuz'"
   ]
  },
  {
   "cell_type": "code",
   "execution_count": 70,
   "metadata": {},
   "outputs": [
    {
     "name": "stdout",
     "output_type": "stream",
     "text": [
      "['karpuz', 'armut', 'erik']\n",
      "['karpuz', 'armut', 'erik']\n"
     ]
    }
   ],
   "source": [
    "print(li1)\n",
    "print(li2)"
   ]
  },
  {
   "cell_type": "markdown",
   "metadata": {},
   "source": [
    "li1 değiştirdiğimizde li2 de değişti. Bunun sebebi karakter dizilerinde kopyalama yaparken direkt değer kopyalanır.\n",
    "Ancak listelerde durum farklıdır. Listelerde birbirine kopyaladığımızda onun değerlerini değil id(kimliğini) , bir başka deyişle bilgisayardaki o verinin tutulduğu konumu eşitlemiş oluyoruz. Yani birisi değiştirildiğinde ikiside aynı id sahip olduğu için ikiside bu durumdan etkilencektir"
   ]
  },
  {
   "cell_type": "code",
   "execution_count": 71,
   "metadata": {},
   "outputs": [
    {
     "data": {
      "text/plain": [
       "True"
      ]
     },
     "execution_count": 71,
     "metadata": {},
     "output_type": "execute_result"
    }
   ],
   "source": [
    "id(li1) == id(li2)"
   ]
  },
  {
   "cell_type": "markdown",
   "metadata": {},
   "source": [
    "###### Bu durumun önüne geçmenin bir kaç yolu var"
   ]
  },
  {
   "cell_type": "code",
   "execution_count": 73,
   "metadata": {},
   "outputs": [
    {
     "name": "stdout",
     "output_type": "stream",
     "text": [
      "['onur', 'yılmaz', 'ayse']\n",
      "['onur', 'yılmaz', 'ayse']\n"
     ]
    }
   ],
   "source": [
    "isimler=['onur','yılmaz','ayse']\n",
    "liste=isimler[:]   #burada isimmler listesindeki değerleri liste'ye yolladık\n",
    "print(isimler)\n",
    "print(liste)"
   ]
  },
  {
   "cell_type": "code",
   "execution_count": 74,
   "metadata": {},
   "outputs": [
    {
     "name": "stdout",
     "output_type": "stream",
     "text": [
      "['Ahmet', 'yılmaz', 'ayse']\n",
      "['onur', 'yılmaz', 'ayse']\n"
     ]
    }
   ],
   "source": [
    "isimler[0]='Ahmet'\n",
    "\n",
    "print(isimler)\n",
    "print(liste)"
   ]
  },
  {
   "cell_type": "code",
   "execution_count": null,
   "metadata": {},
   "outputs": [],
   "source": [
    "#Bunun yerine yukarıda gördüğümüz list fonksiyonunu da kullanabiliriz"
   ]
  },
  {
   "cell_type": "code",
   "execution_count": 75,
   "metadata": {},
   "outputs": [
    {
     "name": "stdout",
     "output_type": "stream",
     "text": [
      "['onur', 'yılmaz', 'ayse']\n",
      "['onur', 'yılmaz', 'ayse']\n"
     ]
    }
   ],
   "source": [
    "isimler=['onur','yılmaz','ayse']\n",
    "liste=list(isimler)\n",
    "print(isimler)\n",
    "print(liste)"
   ]
  },
  {
   "cell_type": "code",
   "execution_count": 76,
   "metadata": {},
   "outputs": [
    {
     "name": "stdout",
     "output_type": "stream",
     "text": [
      "['Ahmet', 'yılmaz', 'ayse']\n",
      "['onur', 'yılmaz', 'ayse']\n"
     ]
    }
   ],
   "source": [
    "isimler[0]='Ahmet'\n",
    "\n",
    "print(isimler)\n",
    "print(liste)"
   ]
  },
  {
   "cell_type": "markdown",
   "metadata": {},
   "source": [
    "#### Liste üreteçleri (tek satırda for yazılımı)"
   ]
  },
  {
   "cell_type": "code",
   "execution_count": 81,
   "metadata": {},
   "outputs": [],
   "source": [
    "liste = [i for i in range(100)]   #for döngüsü her döndüğünde listeye i elemanı eklencek"
   ]
  },
  {
   "cell_type": "code",
   "execution_count": 82,
   "metadata": {},
   "outputs": [],
   "source": [
    "#arka planda olan olay budur\n",
    "liste = []\n",
    "\n",
    "for i in range(1000):\n",
    "    liste += [i]\n"
   ]
  },
  {
   "cell_type": "code",
   "execution_count": 84,
   "metadata": {},
   "outputs": [],
   "source": [
    "#kodumuzu biraz daha güzelleştirelim\n",
    "\n",
    "liste = [i for i in range(1000) if i % 2 == 0]  # çift sayıları buluyoruz"
   ]
  },
  {
   "cell_type": "code",
   "execution_count": null,
   "metadata": {},
   "outputs": [],
   "source": [
    "#Yukarıdaki kodun daha anlaşılır hali\n",
    "liste = []\n",
    "for i in range(1000):\n",
    "    if i % 2 == 0:\n",
    "        liste += [i]"
   ]
  },
  {
   "cell_type": "code",
   "execution_count": 85,
   "metadata": {},
   "outputs": [
    {
     "name": "stdout",
     "output_type": "stream",
     "text": [
      "[1, 2, 3, 4, 5, 6, 7, 8, 9, 10, 11, 12]\n"
     ]
    }
   ],
   "source": [
    "#iki tane for kullanabiliriz\n",
    "liste = [[1, 2, 3],\n",
    "         [4, 5, 6],\n",
    "         [7, 8, 9],\n",
    "         [10, 11, 12]]\n",
    "\n",
    "değerler = [z for i in liste for z in i]\n",
    "print(değerler)"
   ]
  },
  {
   "cell_type": "code",
   "execution_count": 86,
   "metadata": {},
   "outputs": [],
   "source": [
    "#### Ödev X-O-X Oyunu"
   ]
  },
  {
   "cell_type": "markdown",
   "metadata": {},
   "source": [
    "### Demetler(Tuple)\n",
    "\n",
    "Listelere çok benzerler. Birbirlerinden ayrıldıkları bir kaç nokta vardır"
   ]
  },
  {
   "cell_type": "code",
   "execution_count": 88,
   "metadata": {},
   "outputs": [
    {
     "data": {
      "text/plain": [
       "tuple"
      ]
     },
     "execution_count": 88,
     "metadata": {},
     "output_type": "execute_result"
    }
   ],
   "source": [
    "d=(1,2,3,'Onur',True)   #bu sefer köşeli parantez yerine normal parantez kullanıyoruz\n",
    "type(d)"
   ]
  },
  {
   "cell_type": "code",
   "execution_count": 89,
   "metadata": {},
   "outputs": [
    {
     "name": "stdout",
     "output_type": "stream",
     "text": [
      "('a', 'b', 'c', 'd', 'e', 'f')\n"
     ]
    }
   ],
   "source": [
    "x=tuple('abcdef')\n",
    "print(x)"
   ]
  },
  {
   "cell_type": "code",
   "execution_count": 91,
   "metadata": {},
   "outputs": [
    {
     "name": "stdout",
     "output_type": "stream",
     "text": [
      "<class 'tuple'>\n"
     ]
    }
   ],
   "source": [
    "#bu fonksiyonu kullanarak başka veri tiplerinide tupple dönüştürebiliriz\n",
    "isimler=['Onur','Beyza','Caner']\n",
    "t=tuple(isimler)\n",
    "print(type(t))"
   ]
  },
  {
   "cell_type": "markdown",
   "metadata": {},
   "source": [
    "Listedekilerdeki gibi demetlerde de aynı şekilde elemanlara erişebilirsiniz"
   ]
  },
  {
   "cell_type": "markdown",
   "metadata": {},
   "source": [
    "##### Liste ve demetlerin en büyük farkı listeler  değiştirilebilir veri tipiyken demetler değiştirilemez. Demetler tanımlandıktan sonra üzerinde değişiklik yapılamaz"
   ]
  },
  {
   "cell_type": "code",
   "execution_count": 92,
   "metadata": {},
   "outputs": [
    {
     "ename": "TypeError",
     "evalue": "'tuple' object does not support item assignment",
     "output_type": "error",
     "traceback": [
      "\u001b[1;31m---------------------------------------------------------------------------\u001b[0m",
      "\u001b[1;31mTypeError\u001b[0m                                 Traceback (most recent call last)",
      "\u001b[1;32m<ipython-input-92-5145ab7d61c1>\u001b[0m in \u001b[0;36m<module>\u001b[1;34m\u001b[0m\n\u001b[0;32m      1\u001b[0m \u001b[0mdemet\u001b[0m \u001b[1;33m=\u001b[0m \u001b[1;33m(\u001b[0m\u001b[1;34m'elma'\u001b[0m\u001b[1;33m,\u001b[0m \u001b[1;34m'armut'\u001b[0m\u001b[1;33m,\u001b[0m \u001b[1;34m'kiraz'\u001b[0m\u001b[1;33m)\u001b[0m\u001b[1;33m\u001b[0m\u001b[1;33m\u001b[0m\u001b[0m\n\u001b[1;32m----> 2\u001b[1;33m \u001b[0mdemet\u001b[0m\u001b[1;33m[\u001b[0m\u001b[1;36m0\u001b[0m\u001b[1;33m]\u001b[0m \u001b[1;33m=\u001b[0m \u001b[1;34m'karpuz'\u001b[0m\u001b[1;33m\u001b[0m\u001b[1;33m\u001b[0m\u001b[0m\n\u001b[0m",
      "\u001b[1;31mTypeError\u001b[0m: 'tuple' object does not support item assignment"
     ]
    }
   ],
   "source": [
    "demet = ('elma', 'armut', 'kiraz')\n",
    "demet[0] = 'karpuz'"
   ]
  },
  {
   "cell_type": "code",
   "execution_count": 95,
   "metadata": {},
   "outputs": [
    {
     "name": "stdout",
     "output_type": "stream",
     "text": [
      "('elma', 'armut', 'kiraz', 'karpuz')\n"
     ]
    }
   ],
   "source": [
    "#demetlere ekleme yapabilmek için yeni demet tanımlıyormuş gibi hareket edilmelidir\n",
    "\n",
    "demet = ('elma', 'armut', 'kiraz')\n",
    "demet = demet + ('karpuz',)\n",
    "\n",
    "print(demet)"
   ]
  },
  {
   "cell_type": "markdown",
   "metadata": {},
   "source": [
    "#### Liste ve Demet metodları"
   ]
  },
  {
   "cell_type": "markdown",
   "metadata": {},
   "source": [
    "#### 1-liste\n",
    "#### Append"
   ]
  },
  {
   "cell_type": "code",
   "execution_count": 46,
   "metadata": {},
   "outputs": [
    {
     "name": "stdout",
     "output_type": "stream",
     "text": [
      "['elma', 'armut', 'muz']\n",
      "['elma', 'armut', 'muz', 'karpuz']\n"
     ]
    }
   ],
   "source": [
    "#listeye yeni eleman eklememizi sağlar\n",
    "liste=['elma','armut','muz']\n",
    "print(liste)\n",
    "liste.append('karpuz')\n",
    "print(liste)"
   ]
  },
  {
   "cell_type": "code",
   "execution_count": 47,
   "metadata": {},
   "outputs": [
    {
     "name": "stdout",
     "output_type": "stream",
     "text": [
      "['elma', 'armut', 'muz', 'karpuz', ['kiraz', 'vişne']]\n"
     ]
    }
   ],
   "source": [
    "#append fonksiyonu tek bir parametre alabilir.Bir den çok değer eklersek liste içinde liste oluşur\n",
    "liste.append(['kiraz','vişne'])\n",
    "print(liste)"
   ]
  },
  {
   "cell_type": "markdown",
   "metadata": {},
   "source": [
    "#### extend ingilizce de genişletme anlamı vardır. Burda da ona benzer şekilde kullanılır. Listeleri birleştirmede kullanılır"
   ]
  },
  {
   "cell_type": "code",
   "execution_count": 49,
   "metadata": {},
   "outputs": [
    {
     "name": "stdout",
     "output_type": "stream",
     "text": [
      "[1, 2, 3, 4, 5, 6]\n"
     ]
    }
   ],
   "source": [
    "li1=[1,2,3]\n",
    "li2=[4,5,6]\n",
    "li1.extend(li2)\n",
    "print(li1)"
   ]
  },
  {
   "cell_type": "markdown",
   "metadata": {},
   "source": [
    "#### insert yukarıda ki fonksiyonlar değerleri sona ekliyordu. Eğer farklı bir indexe eklemek istersek insert kullanırız"
   ]
  },
  {
   "cell_type": "code",
   "execution_count": 50,
   "metadata": {},
   "outputs": [
    {
     "name": "stdout",
     "output_type": "stream",
     "text": [
      "['python', 'Onur', 'programlama', 'Yılmaz', 'İUC', 'Dsc']\n"
     ]
    }
   ],
   "source": [
    "l1=['Onur','Yılmaz','İUC','Dsc']\n",
    "l1.insert(0,'python')\n",
    "l1.insert(2,'programlama')\n",
    "print(l1)"
   ]
  },
  {
   "cell_type": "markdown",
   "metadata": {},
   "source": [
    "#### remove listeden istediğimiz veriyi silmemizi sağlar"
   ]
  },
  {
   "cell_type": "code",
   "execution_count": 51,
   "metadata": {},
   "outputs": [
    {
     "name": "stdout",
     "output_type": "stream",
     "text": [
      "['Onur', 'İUC', 'Dsc']\n"
     ]
    }
   ],
   "source": [
    "l1=['Onur','Yılmaz','İUC','Dsc']\n",
    "l1.remove('Yılmaz')\n",
    "print(l1)"
   ]
  },
  {
   "cell_type": "markdown",
   "metadata": {},
   "source": [
    "#### pop listedeki son elemanı silmemizi sağlar. Sildiği elemanı bize geri döndürür"
   ]
  },
  {
   "cell_type": "code",
   "execution_count": 16,
   "metadata": {},
   "outputs": [
    {
     "name": "stdout",
     "output_type": "stream",
     "text": [
      "Dsc\n",
      "['Onur', 'Yılmaz', 'İUC']\n"
     ]
    }
   ],
   "source": [
    "l1=['Onur','Yılmaz','İUC','Dsc']\n",
    "print(l1.pop()) \n",
    "print(l1)"
   ]
  },
  {
   "cell_type": "markdown",
   "metadata": {},
   "source": [
    "#### count listede o veriden kaç tane olduğunu söyler"
   ]
  },
  {
   "cell_type": "code",
   "execution_count": 54,
   "metadata": {},
   "outputs": [
    {
     "name": "stdout",
     "output_type": "stream",
     "text": [
      "2\n"
     ]
    }
   ],
   "source": [
    "meyveler=['elma','elma','armut','muz']\n",
    "print(meyveler.count('elma'))"
   ]
  },
  {
   "cell_type": "markdown",
   "metadata": {},
   "source": [
    "#### copy listeleri kopyalamamızı sağlar. Yukarıda bahsedilen sorun ortaya çıkmaz"
   ]
  },
  {
   "cell_type": "code",
   "execution_count": 56,
   "metadata": {},
   "outputs": [
    {
     "name": "stdout",
     "output_type": "stream",
     "text": [
      "['ahmet', 'mehmet', 'özlem']\n"
     ]
    }
   ],
   "source": [
    "liste1 = [\"ahmet\", \"mehmet\", \"özlem\"]\n",
    "liste2 = liste1.copy()\n",
    "print(liste2)"
   ]
  },
  {
   "cell_type": "markdown",
   "metadata": {},
   "source": [
    "### Demet Metodları\n",
    "#### index()"
   ]
  },
  {
   "cell_type": "code",
   "execution_count": 58,
   "metadata": {},
   "outputs": [
    {
     "name": "stdout",
     "output_type": "stream",
     "text": [
      "2\n"
     ]
    }
   ],
   "source": [
    "#verdiğimiz değerin hangi indexde olduğunu söyler\n",
    "l1=('Onur','Yılmaz','İUC','Dsc')\n",
    "print(l1.index('İUC'))\n"
   ]
  },
  {
   "cell_type": "code",
   "execution_count": 59,
   "metadata": {},
   "outputs": [],
   "source": [
    "#count fonksiyonu aynı listedekiler gibi kullanılır"
   ]
  },
  {
   "cell_type": "markdown",
   "metadata": {},
   "source": [
    "## Sözlükler (Dictionary)"
   ]
  },
  {
   "cell_type": "markdown",
   "metadata": {},
   "source": [
    "yeni bir veri tipiyle daha öğrenmenin vakti geldi. Şimdi de sözlükleri öğreneceğiz ve işimizi ne kadar kolaylaştırdığını fark edeceğiz\n",
    "#####  Sözlük Tanımlama"
   ]
  },
  {
   "cell_type": "code",
   "execution_count": 61,
   "metadata": {},
   "outputs": [
    {
     "name": "stdout",
     "output_type": "stream",
     "text": [
      "{'kitap': 'book', 'araba': 'car'}\n",
      "<class 'dict'>\n"
     ]
    }
   ],
   "source": [
    "kelimeler ={'kitap':'book',\n",
    "          'araba' : 'car'}\n",
    "print(kelimeler)\n",
    "print(type(kelimeler))"
   ]
  },
  {
   "cell_type": "code",
   "execution_count": 63,
   "metadata": {},
   "outputs": [
    {
     "data": {
      "text/plain": [
       "2"
      ]
     },
     "execution_count": 63,
     "metadata": {},
     "output_type": "execute_result"
    }
   ],
   "source": [
    "len(kelimeler)"
   ]
  },
  {
   "cell_type": "code",
   "execution_count": 64,
   "metadata": {},
   "outputs": [],
   "source": [
    "sözlük = {\"kitap\"      : \"book\",\n",
    "          \"bilgisayar\" : \"computer\",\n",
    "          \"programlama\": \"programming\",\n",
    "          \"dil\"        : \"language\",\n",
    "          \"defter\"     : \"notebook\"}"
   ]
  },
  {
   "cell_type": "code",
   "execution_count": 65,
   "metadata": {},
   "outputs": [
    {
     "name": "stdout",
     "output_type": "stream",
     "text": [
      "book\n"
     ]
    }
   ],
   "source": [
    "#istediğimiz elemana erişmek istersek\n",
    "print(sözlük[\"kitap\"])"
   ]
  },
  {
   "cell_type": "code",
   "execution_count": 68,
   "metadata": {},
   "outputs": [
    {
     "name": "stdout",
     "output_type": "stream",
     "text": [
      "book\n",
      "computer\n",
      "programming\n",
      "language\n",
      "notebook\n"
     ]
    }
   ],
   "source": [
    "for i in sözlük:    #sadece i yazdırırsak bize keyleri yani tanımlanan ifadeleri getirecektir\n",
    "    print(sözlük[i])"
   ]
  },
  {
   "cell_type": "code",
   "execution_count": 69,
   "metadata": {},
   "outputs": [
    {
     "name": "stdout",
     "output_type": "stream",
     "text": [
      "Telefon numarasını öğrenmek için bir kişi adı girin: mehmet su\n",
      "mehmet su adlı kişinin telefon numarası: 0543 543 42 42\n"
     ]
    }
   ],
   "source": [
    "#Örnek #telefon rehberinde istenilen kişinin numarasını getirme\n",
    "telefon_defteri = {\"ahmet öz\" : \"0532 532 32 32\",\n",
    "                   \"mehmet su\": \"0543 543 42 42\",\n",
    "                   \"seda naz\" : \"0533 533 33 33\",\n",
    "                   \"eda ala\"  : \"0212 212 12 12\"}\n",
    "\n",
    "kişi = input(\"Telefon numarasını öğrenmek için bir kişi adı girin: \")\n",
    "\n",
    "if kişi in telefon_defteri:\n",
    "    print(\"{} adlı kişinin telefon numarası: {}\".format(kişi, telefon_defteri[kişi]))\n",
    "else:\n",
    "    print(\"Aradığınız kişi telefon rehberinde yok!\")"
   ]
  },
  {
   "cell_type": "markdown",
   "metadata": {},
   "source": [
    "##### Teknik olarak, iki nokta üst üste işaretinin solundaki karakter dizisine ‘anahtar’ (key), sağındaki karakter dizisine ise ‘değer’ (value) adı verilir"
   ]
  },
  {
   "cell_type": "code",
   "execution_count": 72,
   "metadata": {},
   "outputs": [],
   "source": [
    "#sözlükler içersinde değerler liste veya yine sözlük olabilir\n",
    "kişiler = {\"Onur Yılmaz\": {\"Memleket\": \"İstanbul\",\n",
    "                               \"Meslek\"  : \"Öğrenci\",\n",
    "                               \"Yaş\"     : 20},\n",
    "\n",
    "           \"Mehmet Yağız\"   : {\"Memleket\": \"Adana\",\n",
    "                               \"Meslek\"  : \"Mühendis\",\n",
    "                               \"Yaş\"     : 40}}\n",
    "\n"
   ]
  },
  {
   "cell_type": "code",
   "execution_count": 73,
   "metadata": {},
   "outputs": [
    {
     "name": "stdout",
     "output_type": "stream",
     "text": [
      "İstanbul\n"
     ]
    }
   ],
   "source": [
    "print(kişiler[\"Onur Yılmaz\"][\"Memleket\"])\n"
   ]
  },
  {
   "cell_type": "code",
   "execution_count": 74,
   "metadata": {},
   "outputs": [
    {
     "name": "stdout",
     "output_type": "stream",
     "text": [
      "Bilgi edinmek istediğiniz kişinin ismiOnur Yılmaz\n",
      "Memleket/Meslek/Yaş? Yaş\n",
      "20\n"
     ]
    }
   ],
   "source": [
    "#yukarıdaki liste üzerinden bi uygulama yapalım\n",
    "\n",
    "isim = input(\"Bilgi edinmek istediğiniz kişinin ismi\")\n",
    "\n",
    "ayrıntı = input(\"Memleket/Meslek/Yaş? \")\n",
    "\n",
    "print(kişiler[isim][ayrıntı])"
   ]
  },
  {
   "cell_type": "markdown",
   "metadata": {},
   "source": [
    "#### sözlüklere öğre eklemek"
   ]
  },
  {
   "cell_type": "code",
   "execution_count": 80,
   "metadata": {},
   "outputs": [],
   "source": [
    "kelimeler ={'kitap':'book',\n",
    "          'araba' : 'car'}"
   ]
  },
  {
   "cell_type": "code",
   "execution_count": 81,
   "metadata": {},
   "outputs": [
    {
     "name": "stdout",
     "output_type": "stream",
     "text": [
      "{'kitap': 'book', 'araba': 'car', 'sayı': 'number'}\n"
     ]
    }
   ],
   "source": [
    "#yeni değer eklemek için sözlük[anahtar] = değer\n",
    "\n",
    "kelimeler['sayı']='number'\n",
    "print(kelimeler)\n"
   ]
  },
  {
   "cell_type": "markdown",
   "metadata": {},
   "source": [
    "Bir sözcüğe anahtar(key) olarak yani iki noktanın sol tarafına her değeri veremeyiz. Buraya sadece demetler,sayılar ve karakter dizileri yazılabilir"
   ]
  },
  {
   "cell_type": "markdown",
   "metadata": {},
   "source": [
    "#### Sözlük öğeleri üzerinde değişiklik yapmak"
   ]
  },
  {
   "cell_type": "code",
   "execution_count": 82,
   "metadata": {},
   "outputs": [],
   "source": [
    " notlar = {'Seda': 98,\n",
    "           'Ege': 95,\n",
    "           'Mehmet': 77,\n",
    "           'Zeynep': 100}"
   ]
  },
  {
   "cell_type": "code",
   "execution_count": 83,
   "metadata": {},
   "outputs": [
    {
     "name": "stdout",
     "output_type": "stream",
     "text": [
      "{'Seda': 45, 'Ege': 95, 'Mehmet': 77, 'Zeynep': 100}\n"
     ]
    }
   ],
   "source": [
    "notlar['Seda']=45\n",
    "print(notlar)"
   ]
  },
  {
   "cell_type": "code",
   "execution_count": 31,
   "metadata": {},
   "outputs": [
    {
     "name": "stdout",
     "output_type": "stream",
     "text": [
      "{'ecem': 4, 'buse': 4, 'fatma': 5, 'caner': 5, 'yasin': 5}\n"
     ]
    }
   ],
   "source": [
    "#### sözlük yaratma örnekleri  (Not olarak yolla)\n",
    "isimler = [\"ecem\",\"buse\",\"fatma\",\"caner\",\"yasin\"]\n",
    "sözlük = {i: len(i) for i in isimler}\n",
    "print(sözlük)"
   ]
  },
  {
   "cell_type": "markdown",
   "metadata": {},
   "source": [
    "### Sözlük metodları\n",
    "#### 1-keys()"
   ]
  },
  {
   "cell_type": "code",
   "execution_count": 88,
   "metadata": {},
   "outputs": [
    {
     "name": "stdout",
     "output_type": "stream",
     "text": [
      "dict_keys(['a', 'b', 'c', 'd'])\n"
     ]
    }
   ],
   "source": [
    "#sözlüğün sadece anahtar(key) değerlerine ulaşmak istiyorsak bunu kullanırız\n",
    "sözlük = {\"a\": 0,\n",
    "          \"b\": 1,\n",
    "          \"c\": 2,\n",
    "          \"d\": 3}\n",
    "print(sözlük.keys())    #dict_keys nesnesi döndürüyor. Bunu listeye veya demete çevirip kullanabiliriz\n"
   ]
  },
  {
   "cell_type": "markdown",
   "metadata": {},
   "source": [
    "#### 2-values"
   ]
  },
  {
   "cell_type": "code",
   "execution_count": 2,
   "metadata": {},
   "outputs": [
    {
     "name": "stdout",
     "output_type": "stream",
     "text": [
      "dict_values([0, 1, 2, 3])\n"
     ]
    }
   ],
   "source": [
    "#bu metodu kullanarak values(değer) ulaşabiliriz\n",
    "sözlük = {\"a\": 0,\n",
    "          \"b\": 1,\n",
    "          \"c\": 2,\n",
    "          \"d\": 3}\n",
    "print(sözlük.values())"
   ]
  },
  {
   "cell_type": "markdown",
   "metadata": {},
   "source": [
    "#### 3-get"
   ]
  },
  {
   "cell_type": "code",
   "execution_count": 90,
   "metadata": {},
   "outputs": [],
   "source": [
    "# Sözlük içersinde bir sorgulama yapmak istediğimizi varsayalım. Eğer sözlükte olmayan bir kelimeye ulaşmaya çalışırsak\n",
    "# hata alırız. Ancak bunu çözmek için if yapısı kullanabiliriz. Fakat bu da çok güzel bir yöntem sayılmaz. Onun yerine\n",
    "# get motudunu kullanabiliz. Gelin örnek üstünde inceleyelim"
   ]
  },
  {
   "cell_type": "code",
   "execution_count": 91,
   "metadata": {},
   "outputs": [
    {
     "name": "stdout",
     "output_type": "stream",
     "text": [
      "Lütfen anlamını öğrenmek istediğiniz kelimeyi yazınız:sayı\n"
     ]
    },
    {
     "ename": "KeyError",
     "evalue": "'sayı'",
     "output_type": "error",
     "traceback": [
      "\u001b[1;31m---------------------------------------------------------------------------\u001b[0m",
      "\u001b[1;31mKeyError\u001b[0m                                  Traceback (most recent call last)",
      "\u001b[1;32m<ipython-input-91-f5b35f67acf5>\u001b[0m in \u001b[0;36m<module>\u001b[1;34m\u001b[0m\n\u001b[0;32m      3\u001b[0m \u001b[0msorgu\u001b[0m \u001b[1;33m=\u001b[0m \u001b[0minput\u001b[0m\u001b[1;33m(\u001b[0m\u001b[1;34m\"Lütfen anlamını öğrenmek istediğiniz kelimeyi yazınız:\"\u001b[0m\u001b[1;33m)\u001b[0m\u001b[1;33m\u001b[0m\u001b[1;33m\u001b[0m\u001b[0m\n\u001b[0;32m      4\u001b[0m \u001b[1;33m\u001b[0m\u001b[0m\n\u001b[1;32m----> 5\u001b[1;33m \u001b[0mprint\u001b[0m\u001b[1;33m(\u001b[0m\u001b[0ming_sözlük\u001b[0m\u001b[1;33m[\u001b[0m\u001b[0msorgu\u001b[0m\u001b[1;33m]\u001b[0m\u001b[1;33m)\u001b[0m\u001b[1;33m\u001b[0m\u001b[1;33m\u001b[0m\u001b[0m\n\u001b[0m",
      "\u001b[1;31mKeyError\u001b[0m: 'sayı'"
     ]
    }
   ],
   "source": [
    "ing_sözlük = {\"dil\": \"language\", \"bilgisayar\": \"computer\", \"masa\": \"table\"}\n",
    "\n",
    "sorgu = input(\"Lütfen anlamını öğrenmek istediğiniz kelimeyi yazınız:\")\n",
    "\n",
    "print(ing_sözlük[sorgu])"
   ]
  },
  {
   "cell_type": "code",
   "execution_count": 93,
   "metadata": {},
   "outputs": [
    {
     "name": "stdout",
     "output_type": "stream",
     "text": [
      "Lütfen anlamını öğrenmek istediğiniz kelimeyi yazınız:sayı\n",
      "Bu kelime veritabanımızda yoktur!\n"
     ]
    }
   ],
   "source": [
    "ing_sözlük = {\"dil\": \"language\", \"bilgisayar\": \"computer\", \"masa\": \"table\"}\n",
    "\n",
    "sorgu = input(\"Lütfen anlamını öğrenmek istediğiniz kelimeyi yazınız:\")\n",
    "\n",
    "print(ing_sözlük.get(sorgu, \"Bu kelime veritabanımızda yoktur!\"))"
   ]
  },
  {
   "cell_type": "markdown",
   "metadata": {},
   "source": [
    "get() metodu, parantez içinde iki adet argüman alır. Birinci argüman sorgulamak istediğimiz sözlük öğesidir. İkinci argüman ise bu öğenin sözlükte bulunmadığı durumda kullanıcıya hangi mesajın gösterileceğini belirtir"
   ]
  },
  {
   "cell_type": "code",
   "execution_count": 32,
   "metadata": {},
   "outputs": [
    {
     "name": "stdout",
     "output_type": "stream",
     "text": [
      "Şehrinizin adını tamamı küçük harf olacak şekilde yazın:sdf\n",
      "Bu şehre ilişkin havadurumu bilgisi bulunmamaktadır.\n"
     ]
    }
   ],
   "source": [
    "#daha iyi anlaşılması adına bir örnek daha yapalım   (not olarak yolla)\n",
    "soru = input(\"Şehrinizin adını tamamı küçük harf olacak şekilde yazın:\")\n",
    "\n",
    "cevap = {\"istanbul\": \"gök gürültülü ve sağanak yağışlı\",\n",
    "         \"ankara\": \"açık ve güneşli\",\n",
    "         \"izmir\": \"bulutlu\"}\n",
    "\n",
    "print(cevap.get(soru, \"Bu şehre ilişkin havadurumu bilgisi bulunmamaktadır.\"))"
   ]
  },
  {
   "cell_type": "markdown",
   "metadata": {},
   "source": [
    "#### 4-clear()"
   ]
  },
  {
   "cell_type": "code",
   "execution_count": 96,
   "metadata": {},
   "outputs": [
    {
     "name": "stdout",
     "output_type": "stream",
     "text": [
      "{}\n"
     ]
    }
   ],
   "source": [
    "#sözlüğün içini tamamen boşaltmak için kullanırız\n",
    "sözlük = {\"a\": 0,\n",
    "          \"b\": 1,\n",
    "          \"c\": 2,\n",
    "          \"d\": 3}\n",
    "sözlük.clear()\n",
    "print(sözlük)"
   ]
  },
  {
   "cell_type": "markdown",
   "metadata": {},
   "source": [
    "#### 5-copy \n",
    "listelerde karşılaştığımız sorun burda da vardır. eğer direkt birbirlerine eşitlersek birinde meydana gelen değişiklik diğerinide etkileyecektir. o yüzden copy fonksiyonu kullanılır"
   ]
  },
  {
   "cell_type": "markdown",
   "metadata": {},
   "source": [
    "#### 6-setdefault   (not olarak yolla)"
   ]
  },
  {
   "cell_type": "code",
   "execution_count": 98,
   "metadata": {},
   "outputs": [
    {
     "name": "stdout",
     "output_type": "stream",
     "text": [
      "{'meyveler': ('elma', 'armut'), 'sebzeler': ('pırasa', 'fasulye'), 'içecekler': ('su', 'kola')}\n"
     ]
    }
   ],
   "source": [
    "sepet = {\"meyveler\": (\"elma\", \"armut\"),\n",
    "         \"sebzeler\": (\"pırasa\", \"fasulye\")}\n",
    "#böyle bir sözlüğümüz olsun\n",
    "\n",
    "sepet.setdefault(\"içecekler\", (\"su\", \"kola\"))\n",
    "print(sepet)\n",
    "\n",
    "#eklemek istediğimiz anahtar sözlükse yoksa o değerler sözlüğe eklenir"
   ]
  },
  {
   "cell_type": "code",
   "execution_count": 99,
   "metadata": {},
   "outputs": [
    {
     "name": "stdout",
     "output_type": "stream",
     "text": [
      "{'meyveler': ('elma', 'armut'), 'sebzeler': ('pırasa', 'fasulye'), 'içecekler': ('su', 'kola')}\n"
     ]
    }
   ],
   "source": [
    "sepet.setdefault(\"meyveler\", (\"erik\", \"çilek\"))\n",
    "print(sepet)"
   ]
  },
  {
   "cell_type": "markdown",
   "metadata": {},
   "source": [
    " bu metot yardımıyla bir sözlük içinde arama yapabiliyor, eğer aradığımız anahtar sözlükte yoksa, setdefault() metodu içinde belirttiğimiz özellikleri taşıyan yeni bir anahtar-değer çifti oluşturabiliyoruz."
   ]
  },
  {
   "cell_type": "markdown",
   "metadata": {},
   "source": [
    "## Kümeler ve Dondurulmuş Kümeler\n",
    "\n",
    "#### 1-Kümeler"
   ]
  },
  {
   "cell_type": "code",
   "execution_count": 120,
   "metadata": {},
   "outputs": [
    {
     "name": "stdout",
     "output_type": "stream",
     "text": [
      "<class 'set'>\n"
     ]
    }
   ],
   "source": [
    "#kümeleri oluştururken ayırt edici bir işareti yoktur. direkt set fonksiyonundan yararlanırırz\n",
    "#kümeler değişken veri tipidir. Yani üzerinde değişiklik yapabiliriz\n",
    "\n",
    "bos_kume=set()\n",
    "print(type(bos_kume))"
   ]
  },
  {
   "cell_type": "code",
   "execution_count": 102,
   "metadata": {},
   "outputs": [],
   "source": [
    "#küme oluştururken bir çok veri tipinden küme oluşturabiliriz\n",
    "liste = [\"elma\", \"armut\", \"kebap\"]\n",
    "küme = set(liste)\n",
    "\n",
    "demet = (\"elma\", \"armut\", \"kebap\")\n",
    "küme2 = set(demet)\n",
    "\n",
    "karakter = \"Python Programlama Dili için Türkçe Kaynak\"\n",
    "küme3= set(karakter)"
   ]
  },
  {
   "cell_type": "code",
   "execution_count": 104,
   "metadata": {},
   "outputs": [
    {
     "name": "stdout",
     "output_type": "stream",
     "text": [
      "<class 'set'>\n"
     ]
    }
   ],
   "source": [
    "# Kümeler için ayırt edici birişaret yok demiştik. Ancak sözlük oluştururken kullandığımız işareti kullanabiliriz\n",
    "küme = {'Python', 'C++', 'Ruby', 'PHP'}\n",
    "print(type(küme))\n",
    "\n",
    "#ancak bu şekilde boş kümeyi oluşturamazsın"
   ]
  },
  {
   "cell_type": "code",
   "execution_count": 106,
   "metadata": {},
   "outputs": [
    {
     "name": "stdout",
     "output_type": "stream",
     "text": [
      "{'d', 'c', 'a', 'b'}\n"
     ]
    }
   ],
   "source": [
    "#eğer sözlüğü kümeye çevirirsek sadece anahtarlar(key) kümeye eklenir\n",
    "sözlük = {\"a\": 0,\n",
    "          \"b\": 1,\n",
    "          \"c\": 2,\n",
    "          \"d\": 3}\n",
    "küme=set(sözlük)\n",
    "print(küme)"
   ]
  },
  {
   "cell_type": "code",
   "execution_count": 112,
   "metadata": {},
   "outputs": [
    {
     "name": "stdout",
     "output_type": "stream",
     "text": [
      "[('a', 0), ('b', 1), ('c', 2), ('d', 3)]\n"
     ]
    }
   ],
   "source": [
    "#değerleride saklamak istersek bir for döngüsü ile saklayabiliriz\n",
    "liste = [(anahtar, değer) for anahtar, değer in sözlük.items()]  #items sözlüğün anahtar ve değerini birlikte döndürür\n",
    "print(liste)"
   ]
  },
  {
   "cell_type": "markdown",
   "metadata": {},
   "source": [
    "#### Kümelerin Yapısı"
   ]
  },
  {
   "cell_type": "code",
   "execution_count": 115,
   "metadata": {},
   "outputs": [
    {
     "name": "stdout",
     "output_type": "stream",
     "text": [
      "{'şeker', 'kebap', 'elma', 'armut'}\n"
     ]
    }
   ],
   "source": [
    "# kümelerde bir değer birden çok yazılmaz\n",
    "liste = [\"elma\", \"armut\", \"elma\", \"kebap\", \"şeker\", \"armut\"]\n",
    "küme=set(liste)\n",
    "print(küme)\n",
    "\n",
    "#bu sayede listeleri eşsiz ve benzersiz değerler haline getirebiliriz\n",
    "#kümeler ekrana yazılırken sıraları karışıktır. Aynı sırada yazılmaz"
   ]
  },
  {
   "cell_type": "markdown",
   "metadata": {},
   "source": [
    "#### kümelerin metodları"
   ]
  },
  {
   "cell_type": "markdown",
   "metadata": {},
   "source": [
    "clear(), copy() önceki gördüklerimizle aynı şekilde kullanılır"
   ]
  },
  {
   "cell_type": "markdown",
   "metadata": {},
   "source": [
    "##### add"
   ]
  },
  {
   "cell_type": "code",
   "execution_count": 122,
   "metadata": {},
   "outputs": [
    {
     "name": "stdout",
     "output_type": "stream",
     "text": [
      "{'kebap', 'elma', 'armut'}\n",
      "{'kebap', 'çilek', 'elma', 'armut'}\n"
     ]
    }
   ],
   "source": [
    "#kümelere yeni elemanlar eklemek için kullanılır\n",
    "küme = set([\"elma\", \"armut\", \"kebap\"])\n",
    "print(küme)\n",
    "küme.add(\"çilek\")\n",
    "print(küme)"
   ]
  },
  {
   "cell_type": "markdown",
   "metadata": {},
   "source": [
    "#### difference"
   ]
  },
  {
   "cell_type": "code",
   "execution_count": 124,
   "metadata": {},
   "outputs": [
    {
     "name": "stdout",
     "output_type": "stream",
     "text": [
      "{1, 5}\n",
      "{10, 4}\n"
     ]
    }
   ],
   "source": [
    "#Bu metot iki kümenin farkını almamızı sağlar\n",
    "k1 = set([1, 2, 3, 5])\n",
    "k2 = set([3, 4, 2, 10])\n",
    "\n",
    "print(k1.difference(k2)) #k1’in k2’den farkı \n",
    "\n",
    "print(k2.difference(k1)) #k2 nin k1 den farkı"
   ]
  },
  {
   "cell_type": "markdown",
   "metadata": {},
   "source": [
    "#### discard"
   ]
  },
  {
   "cell_type": "code",
   "execution_count": 6,
   "metadata": {},
   "outputs": [
    {
     "name": "stdout",
     "output_type": "stream",
     "text": [
      "{'deve', 'inek', 'kuş', 'at', 'köpek'}\n"
     ]
    }
   ],
   "source": [
    "#kümeden veri silmemizi sağlar\n",
    "hayvanlar = set([\"kedi\", \"köpek\", \"at\", \"kuş\", \"inek\", \"deve\"])\n",
    "hayvanlar.discard(\"kedi\")\n",
    "print(hayvanlar)"
   ]
  },
  {
   "cell_type": "markdown",
   "metadata": {},
   "source": [
    "##### remove() yukarıdakiyle aynı işlevi yapar"
   ]
  },
  {
   "cell_type": "code",
   "execution_count": 129,
   "metadata": {},
   "outputs": [
    {
     "name": "stdout",
     "output_type": "stream",
     "text": [
      "{'inek', 'at', 'kuş', 'deve'}\n"
     ]
    }
   ],
   "source": [
    "hayvanlar.remove(\"köpek\")\n",
    "print(hayvanlar)"
   ]
  },
  {
   "cell_type": "code",
   "execution_count": 130,
   "metadata": {},
   "outputs": [],
   "source": [
    "#discardın remove dan farkı olmayan bi ögeyi silmeye kalktığımızda hata vermez"
   ]
  },
  {
   "cell_type": "markdown",
   "metadata": {},
   "source": [
    "##### intersection"
   ]
  },
  {
   "cell_type": "code",
   "execution_count": 1,
   "metadata": {},
   "outputs": [
    {
     "data": {
      "text/plain": [
       "{1, 3}"
      ]
     },
     "execution_count": 1,
     "metadata": {},
     "output_type": "execute_result"
    }
   ],
   "source": [
    "#türkçe anlamı kesişimdir. kümelerde de aynı anlamda kullanılır\n",
    "\n",
    "k1 = set([1, 2, 3, 4])\n",
    "k2 = set([1, 3, 5, 7])\n",
    "k1.intersection(k2)"
   ]
  },
  {
   "cell_type": "code",
   "execution_count": 2,
   "metadata": {},
   "outputs": [
    {
     "data": {
      "text/plain": [
       "{1, 3}"
      ]
     },
     "execution_count": 2,
     "metadata": {},
     "output_type": "execute_result"
    }
   ],
   "source": [
    "#iki kümenin kesişimini bulmak için bu fonksiyon yerine & kullanabiliriz\n",
    "k1 & k2\n"
   ]
  },
  {
   "cell_type": "code",
   "execution_count": 33,
   "metadata": {},
   "outputs": [
    {
     "name": "stdout",
     "output_type": "stream",
     "text": [
      "Sisteme giriş için bir parola belirleyin: sadsad\n",
      "Parolanız kabul edildi!\n"
     ]
    }
   ],
   "source": [
    "#Türkçe karakter kabul edilmeyen bir örnek yapalım   örnek olarak yolla\n",
    "\n",
    "tr = \"şçöğüıŞÇÖĞÜİ\"\n",
    "\n",
    "parola = input(\"Sisteme giriş için bir parola belirleyin: \")\n",
    "\n",
    "if set(tr) & set(parola):\n",
    "    print(\"Parolanızda Türkçe harfler kullanmayın!\")\n",
    "\n",
    "else:\n",
    "    print(\"Parolanız kabul edildi!\")"
   ]
  },
  {
   "cell_type": "markdown",
   "metadata": {},
   "source": [
    "#### issubset"
   ]
  },
  {
   "cell_type": "code",
   "execution_count": 5,
   "metadata": {},
   "outputs": [
    {
     "data": {
      "text/plain": [
       "True"
      ]
     },
     "execution_count": 5,
     "metadata": {},
     "output_type": "execute_result"
    }
   ],
   "source": [
    "#bir kümenin başka bir kümenin alt kümesi olup olmadığını bununla anlayabiliriz. Bir kümenin elemanları başka bir kümede varmı ona bakıyoruz\n",
    "\n",
    "a = set([1, 2, 3])\n",
    "b = set([0, 1, 2, 3, 4, 5])\n",
    "a.issubset(b)"
   ]
  },
  {
   "cell_type": "markdown",
   "metadata": {},
   "source": [
    "#### union()"
   ]
  },
  {
   "cell_type": "code",
   "execution_count": 6,
   "metadata": {},
   "outputs": [
    {
     "data": {
      "text/plain": [
       "{1, 2, 3, 4, 5, 6, 7, 8}"
      ]
     },
     "execution_count": 6,
     "metadata": {},
     "output_type": "execute_result"
    }
   ],
   "source": [
    "#iki kümenin birleşimini almamızı sağlar\n",
    "a = set([2, 4, 6, 8])\n",
    "b = set([1, 3, 5, 7])\n",
    "a.union(b)\n"
   ]
  },
  {
   "cell_type": "code",
   "execution_count": 7,
   "metadata": {},
   "outputs": [
    {
     "name": "stdout",
     "output_type": "stream",
     "text": [
      "{1, 2, 3, 4, 5, 6, 7, 8}\n"
     ]
    }
   ],
   "source": [
    "#bunun yerine | işaretinide kullanabiliriz\n",
    "\n",
    "print(a|b)"
   ]
  },
  {
   "cell_type": "markdown",
   "metadata": {},
   "source": [
    "#### pop "
   ]
  },
  {
   "cell_type": "code",
   "execution_count": 9,
   "metadata": {},
   "outputs": [
    {
     "data": {
      "text/plain": [
       "8"
      ]
     },
     "execution_count": 9,
     "metadata": {},
     "output_type": "execute_result"
    }
   ],
   "source": [
    "#kümeden bir eleman siliyor (parametre vermezsek sondaki değer) ve o sildiği değeri ekrana yazdırıyor\n",
    "\n",
    "a = set([2, 4, 6, 8])\n",
    "a.pop()"
   ]
  },
  {
   "cell_type": "markdown",
   "metadata": {},
   "source": [
    "### Dondurulmuş Kümeler"
   ]
  },
  {
   "cell_type": "code",
   "execution_count": 13,
   "metadata": {},
   "outputs": [
    {
     "data": {
      "text/plain": [
       "['__and__',\n",
       " '__class__',\n",
       " '__contains__',\n",
       " '__delattr__',\n",
       " '__dir__',\n",
       " '__doc__',\n",
       " '__eq__',\n",
       " '__format__',\n",
       " '__ge__',\n",
       " '__getattribute__',\n",
       " '__gt__',\n",
       " '__hash__',\n",
       " '__init__',\n",
       " '__init_subclass__',\n",
       " '__iter__',\n",
       " '__le__',\n",
       " '__len__',\n",
       " '__lt__',\n",
       " '__ne__',\n",
       " '__new__',\n",
       " '__or__',\n",
       " '__rand__',\n",
       " '__reduce__',\n",
       " '__reduce_ex__',\n",
       " '__repr__',\n",
       " '__ror__',\n",
       " '__rsub__',\n",
       " '__rxor__',\n",
       " '__setattr__',\n",
       " '__sizeof__',\n",
       " '__str__',\n",
       " '__sub__',\n",
       " '__subclasshook__',\n",
       " '__xor__',\n",
       " 'copy',\n",
       " 'difference',\n",
       " 'intersection',\n",
       " 'isdisjoint',\n",
       " 'issubset',\n",
       " 'issuperset',\n",
       " 'symmetric_difference',\n",
       " 'union']"
      ]
     },
     "execution_count": 13,
     "metadata": {},
     "output_type": "execute_result"
    }
   ],
   "source": [
    "#üzerinde değişim yapılmasını istemediğimiz kümelere dondurulmuş küme denir\n",
    "#set yerine frozenset kullanılır\n",
    "\n",
    "dondurulmus = frozenset([\"elma\", \"armut\", \"ayva\"])\n",
    "\n",
    "#değişiklik yapmaya yarayan metodlar bunlarda kullanılmaz\n",
    "dir(dondurulmus)"
   ]
  },
  {
   "cell_type": "markdown",
   "metadata": {},
   "source": [
    "### Aritmatik Fonksiyonlar"
   ]
  },
  {
   "cell_type": "markdown",
   "metadata": {},
   "source": [
    "#### 1-abs()"
   ]
  },
  {
   "cell_type": "code",
   "execution_count": 14,
   "metadata": {},
   "outputs": [
    {
     "data": {
      "text/plain": [
       "2"
      ]
     },
     "execution_count": 14,
     "metadata": {},
     "output_type": "execute_result"
    }
   ],
   "source": [
    "#bize mutlak değeri verir\n",
    "abs(-2)"
   ]
  },
  {
   "cell_type": "markdown",
   "metadata": {},
   "source": [
    "#### 2-divmod()"
   ]
  },
  {
   "cell_type": "code",
   "execution_count": 15,
   "metadata": {},
   "outputs": [
    {
     "data": {
      "text/plain": [
       "(4, 2)"
      ]
     },
     "execution_count": 15,
     "metadata": {},
     "output_type": "execute_result"
    }
   ],
   "source": [
    "#bir sayının bir sayıya bölünmesi işleminde bölümü ve kalanı verir\n",
    "divmod(14,3)"
   ]
  },
  {
   "cell_type": "markdown",
   "metadata": {},
   "source": [
    "#### 3-sum"
   ]
  },
  {
   "cell_type": "code",
   "execution_count": 16,
   "metadata": {},
   "outputs": [
    {
     "data": {
      "text/plain": [
       "198"
      ]
     },
     "execution_count": 16,
     "metadata": {},
     "output_type": "execute_result"
    }
   ],
   "source": [
    "#toplamı bulmak için kullanılır\n",
    "a = [10, 20, 43, 45 , 77, 2, 0, 1]\n",
    "sum(a)"
   ]
  },
  {
   "cell_type": "markdown",
   "metadata": {},
   "source": [
    "## Hata Yakalama"
   ]
  },
  {
   "cell_type": "markdown",
   "metadata": {},
   "source": [
    "şuana kadar yazdığımız tüm kodlarda her şeyi istediğimiz gibi gideceğini varsayarak yaptık.\n",
    "Ancak bazen her şey planlanan gibi gitmez. Örneğin kullanıcı yaş kısmına karakter dizisi girebilir\n",
    "Burada programımızın çökmemesi için hata yakalama işlemleri yapıyoruz\n",
    "\n"
   ]
  },
  {
   "cell_type": "markdown",
   "metadata": {},
   "source": [
    "### Try Except"
   ]
  },
  {
   "cell_type": "code",
   "execution_count": 2,
   "metadata": {},
   "outputs": [
    {
     "name": "stdout",
     "output_type": "stream",
     "text": [
      "ilk sayı: 21\n",
      "ikinci sayı: 0\n"
     ]
    },
    {
     "ename": "ZeroDivisionError",
     "evalue": "division by zero",
     "output_type": "error",
     "traceback": [
      "\u001b[1;31m---------------------------------------------------------------------------\u001b[0m",
      "\u001b[1;31mZeroDivisionError\u001b[0m                         Traceback (most recent call last)",
      "\u001b[1;32m<ipython-input-2-e51a862d4e68>\u001b[0m in \u001b[0;36m<module>\u001b[1;34m\u001b[0m\n\u001b[0;32m      4\u001b[0m \u001b[0mikinci_sayı\u001b[0m \u001b[1;33m=\u001b[0m \u001b[0minput\u001b[0m\u001b[1;33m(\u001b[0m\u001b[1;34m\"ikinci sayı: \"\u001b[0m\u001b[1;33m)\u001b[0m\u001b[1;33m\u001b[0m\u001b[1;33m\u001b[0m\u001b[0m\n\u001b[0;32m      5\u001b[0m \u001b[1;33m\u001b[0m\u001b[0m\n\u001b[1;32m----> 6\u001b[1;33m \u001b[0mprint\u001b[0m\u001b[1;33m(\u001b[0m\u001b[0mint\u001b[0m\u001b[1;33m(\u001b[0m\u001b[0milk_sayı\u001b[0m\u001b[1;33m)\u001b[0m\u001b[1;33m/\u001b[0m\u001b[0mint\u001b[0m\u001b[1;33m(\u001b[0m\u001b[0mikinci_sayı\u001b[0m\u001b[1;33m)\u001b[0m\u001b[1;33m)\u001b[0m\u001b[1;33m\u001b[0m\u001b[1;33m\u001b[0m\u001b[0m\n\u001b[0m",
      "\u001b[1;31mZeroDivisionError\u001b[0m: division by zero"
     ]
    }
   ],
   "source": [
    "#hata yakalamak için try except bloklarından yararlanılır. Öncelikle bir hata yaratalım ve ne olduğunu görelim\n",
    "\n",
    "ilk_sayı = input(\"ilk sayı: \")\n",
    "ikinci_sayı = input(\"ikinci sayı: \")\n",
    "\n",
    "print(int(ilk_sayı)/int(ikinci_sayı))"
   ]
  },
  {
   "cell_type": "code",
   "execution_count": 6,
   "metadata": {},
   "outputs": [
    {
     "name": "stdout",
     "output_type": "stream",
     "text": [
      "ilk sayı: 12\n",
      "ikinci sayı: 0\n",
      "Bir sayı sıfıra bölünemez\n"
     ]
    }
   ],
   "source": [
    "#Yukarıdaki gibi bir sayıyı sıfıra bölmeye çalışırsak hata alırız ve program çöker.\n",
    "#Bunun gibi hatalardan dolayı durmayı önlemek için try except bloklarını kullanacağız\n",
    "\n",
    "ilk_sayı    = input(\"ilk sayı: \")\n",
    "ikinci_sayı = input(\"ikinci sayı: \")\n",
    "\n",
    "try:     #try kısmına yapmak istediğimiz işlemi yazıyoruz\n",
    "    print(ilk_sayı, \"/\", ikinci_sayı, \"=\", int(ilk_sayı) / int(ikinci_sayı))\n",
    "except ZeroDivisionError:     #except kısmına gerçekleşmesi muhtemel(beklediğimiz) hataların sonucunda ne yapıcağımızı yazıyoruz\n",
    "    print(\"Bir sayı sıfıra bölünemez\")"
   ]
  },
  {
   "cell_type": "markdown",
   "metadata": {},
   "source": [
    "Try ... except çalışma prensibi :                                                                         \n",
    "try:                                                                                   \n",
    "     hata verebileceğini bildiğimiz kodlar                                                       \n",
    "except HataAdı:                                                                                             \n",
    "    hata durumunda yapılacak işlem"
   ]
  },
  {
   "cell_type": "code",
   "execution_count": 7,
   "metadata": {},
   "outputs": [
    {
     "name": "stdout",
     "output_type": "stream",
     "text": [
      "ilk sayı: 12\n",
      "ikinci sayı: sdad\n",
      "Lütfen sadece sayı giriniz\n"
     ]
    }
   ],
   "source": [
    "# Bir den çok hata gerçekleşme ihtimali olabilir. Bu yüzden birden çok except bloğu olabilir\n",
    "\n",
    "ilk_sayı    = input(\"ilk sayı: \")\n",
    "ikinci_sayı = input(\"ikinci sayı: \")\n",
    "\n",
    "try:     \n",
    "    print(ilk_sayı, \"/\", ikinci_sayı, \"=\", int(ilk_sayı) / int(ikinci_sayı))\n",
    "except ZeroDivisionError:    \n",
    "    print(\"Bir sayı sıfıra bölünemez\")\n",
    "except ValueError:\n",
    "    print(\"Lütfen sadece sayı giriniz\")\n"
   ]
  },
  {
   "cell_type": "code",
   "execution_count": 9,
   "metadata": {},
   "outputs": [
    {
     "name": "stdout",
     "output_type": "stream",
     "text": [
      "ilk sayı: 12\n",
      "ikinci sayı: ws\n",
      "Hata oluştu!\n"
     ]
    }
   ],
   "source": [
    "#en iyi yöntem her hataya göre ayrı mesaj göstermek olabilir. Ancak istersek ikisini tek bir blokta toplayabiliriz\n",
    "ilk_sayı    = input(\"ilk sayı: \")\n",
    "ikinci_sayı = input(\"ikinci sayı: \")\n",
    "\n",
    "try:     \n",
    "    print(ilk_sayı, \"/\", ikinci_sayı, \"=\", int(ilk_sayı) / int(ikinci_sayı))\n",
    "except (ZeroDivisionError,ValueError):    #parantez içine alıp virgülle ayırmamız gerekiyor\n",
    "    print(\"Hata oluştu!\")"
   ]
  },
  {
   "cell_type": "code",
   "execution_count": 20,
   "metadata": {},
   "outputs": [
    {
     "name": "stdout",
     "output_type": "stream",
     "text": [
      "ilk sayı: 12\n",
      "ikinci sayı: 0\n",
      "Hata oluştu!\n"
     ]
    }
   ],
   "source": [
    "#expectten sonra hiç bir hata yazmazsak tüm hatalarda o blok çalışır\n",
    "#Ancak bu yöntemle hatamızın ne olduğunu bulmakta zorlanırız. O yüzden çok kullanışlı değildir\n",
    "\n",
    "ilk_sayı    = input(\"ilk sayı: \")\n",
    "ikinci_sayı = input(\"ikinci sayı: \")\n",
    "\n",
    "try:     \n",
    "    print(ilk_sayı, \"/\", ikinci_sayı, \"=\", int(ilk_sayı) / int(ikinci_sayı))\n",
    "except:    \n",
    "    print(\"Hata oluştu!\")"
   ]
  },
  {
   "cell_type": "code",
   "execution_count": 24,
   "metadata": {},
   "outputs": [
    {
     "name": "stdout",
     "output_type": "stream",
     "text": [
      "ilk sayı: 12\n",
      "ikinci sayı: 0\n",
      "Hata oluştu!\n"
     ]
    }
   ],
   "source": [
    "#Python'da hatalar hep genel bir hata yapısının altındadır. Örneğin işletim sistemindeki hatalar OSerror altındadır.\n",
    "#Bizde try except ile hata yakalarken tüm hataları tek tek yakalamak yerine Genel hata sınıfını yazabiliriz\n",
    "\n",
    "ilk_sayı    = input(\"ilk sayı: \")\n",
    "ikinci_sayı = input(\"ikinci sayı: \")\n",
    "\n",
    "try:     \n",
    "    print(ilk_sayı, \"/\", ikinci_sayı, \"=\", int(ilk_sayı) / int(ikinci_sayı))\n",
    "except Exception:     #beklediğimiz hatalar Exception hata sınıfına ait hatalar\n",
    "    print(\"Hata oluştu!\")"
   ]
  },
  {
   "cell_type": "markdown",
   "metadata": {},
   "source": [
    "#### Try except - as kısaltması\n",
    "bunu kullanmamızın sebebi bazen hata mesajını direkt pythondaki hata durumundan alıp yazdırmamızdır. Örnekte görelim"
   ]
  },
  {
   "cell_type": "code",
   "execution_count": 11,
   "metadata": {},
   "outputs": [
    {
     "name": "stdout",
     "output_type": "stream",
     "text": [
      "ilk sayı: 12\n",
      "ikinci sayı: 0\n",
      "division by zero\n",
      "sayı sıfıra bölünemez\n"
     ]
    }
   ],
   "source": [
    "ilk_sayı    = input(\"ilk sayı: \")\n",
    "ikinci_sayı = input(\"ikinci sayı: \")\n",
    "\n",
    "try:     \n",
    "    print(ilk_sayı, \"/\", ikinci_sayı, \"=\", int(ilk_sayı) / int(ikinci_sayı))\n",
    "except ZeroDivisionError as hata :    \n",
    "    print(hata)   #programa özgün hata mesajı\n",
    "    print('sayı sıfıra bölünemez')   #bizim hata mesajımız"
   ]
  },
  {
   "cell_type": "markdown",
   "metadata": {},
   "source": [
    "#### Try Except Else"
   ]
  },
  {
   "cell_type": "code",
   "execution_count": 15,
   "metadata": {},
   "outputs": [
    {
     "name": "stdout",
     "output_type": "stream",
     "text": [
      "bölünecek sayı: 12\n",
      "bölen sayı: 2\n",
      "6.0\n"
     ]
    }
   ],
   "source": [
    "#koşullu ifadelerde gördüğümüz else ile aynı anlama gelmektedir. Hataları teker teker incelememizi sağlar\n",
    "\n",
    "try:\n",
    "    bölünen = int(input(\"bölünecek sayı: \"))\n",
    "    bölen = int(input(\"bölen sayı: \"))\n",
    "except ValueError:     #ilk girilen değerin sayı olma durumunu inceliyoruz\n",
    "    print(\"Lütfen sadece sayı girin!\")\n",
    "else:        #eğer sayı ise bu sefer sıfıra bölünme durumuna bakıyoruz\n",
    "    try:\n",
    "        print(bölünen/bölen)\n",
    "    except ZeroDivisionError:\n",
    "        print(\"Bir sayıyı 0'a bölemezsiniz!\")"
   ]
  },
  {
   "cell_type": "markdown",
   "metadata": {},
   "source": [
    "#### Try Except Finally "
   ]
  },
  {
   "cell_type": "code",
   "execution_count": 17,
   "metadata": {},
   "outputs": [
    {
     "name": "stdout",
     "output_type": "stream",
     "text": [
      "\n"
     ]
    }
   ],
   "source": [
    "#bu yapının mantığı işleyişi şu şekildedir\n",
    "\"\"\"try:\n",
    "    istediğimiz işlemler\n",
    "except birHata:\n",
    "    hata zamanı yapılan işlem\n",
    "finally:\n",
    "    hata olsa da olmasa da yapılacaklar\"\"\"\n",
    "print()"
   ]
  },
  {
   "cell_type": "code",
   "execution_count": 7,
   "metadata": {},
   "outputs": [
    {
     "name": "stdout",
     "output_type": "stream",
     "text": [
      "ilk sayı: 2\n",
      "ikinci sayı: 3\n",
      "2 / 3 = 0.6666666666666666\n",
      "hata yakalama işlemi tamamlandı\n"
     ]
    }
   ],
   "source": [
    "ilk_sayı    = input(\"ilk sayı: \")\n",
    "ikinci_sayı = input(\"ikinci sayı: \")\n",
    "\n",
    "try:     \n",
    "    print(ilk_sayı, \"/\", ikinci_sayı, \"=\", int(ilk_sayı) / int(ikinci_sayı))\n",
    "except (ZeroDivisionError,ValueError):  \n",
    "    print(\"Hata oluştu!\")\n",
    "finally:\n",
    "    print(\"hata yakalama işlemi tamamlandı\")"
   ]
  },
  {
   "cell_type": "markdown",
   "metadata": {},
   "source": [
    "### Hata nesnesi oluşturma\n",
    "bazen programlarımızda yapılan işlemlerin hata vermesini isteriz. Ancak python burada hata vermez. İşte bu noktada kendi hata nesnelerimizi oluşturabiliriz"
   ]
  },
  {
   "cell_type": "markdown",
   "metadata": {},
   "source": [
    "#### raise"
   ]
  },
  {
   "cell_type": "code",
   "execution_count": 26,
   "metadata": {},
   "outputs": [
    {
     "name": "stdout",
     "output_type": "stream",
     "text": [
      "bir şehir girinizistanbul\n"
     ]
    },
    {
     "ename": "ValueError",
     "evalue": "İstanbul şehrini çalıştıramam",
     "output_type": "error",
     "traceback": [
      "\u001b[1;31m---------------------------------------------------------------------------\u001b[0m",
      "\u001b[1;31mValueError\u001b[0m                                Traceback (most recent call last)",
      "\u001b[1;32m<ipython-input-26-b9f632e7c7b9>\u001b[0m in \u001b[0;36m<module>\u001b[1;34m\u001b[0m\n\u001b[0;32m      3\u001b[0m \u001b[1;33m\u001b[0m\u001b[0m\n\u001b[0;32m      4\u001b[0m \u001b[1;32mif\u001b[0m \u001b[0msehir\u001b[0m \u001b[1;33m==\u001b[0m \u001b[1;34m'istanbul'\u001b[0m\u001b[1;33m:\u001b[0m\u001b[1;33m\u001b[0m\u001b[1;33m\u001b[0m\u001b[0m\n\u001b[1;32m----> 5\u001b[1;33m     \u001b[1;32mraise\u001b[0m \u001b[0mValueError\u001b[0m\u001b[1;33m(\u001b[0m\u001b[1;34m\"İstanbul şehrini çalıştıramam\"\u001b[0m\u001b[1;33m)\u001b[0m\u001b[1;33m\u001b[0m\u001b[1;33m\u001b[0m\u001b[0m\n\u001b[0m",
      "\u001b[1;31mValueError\u001b[0m: İstanbul şehrini çalıştıramam"
     ]
    }
   ],
   "source": [
    "#hata nesnesiğ oluşturmamızı sağlayan deyim raise di\n",
    "sehir = input('bir şehir giriniz')\n",
    "\n",
    "if sehir == 'istanbul':\n",
    "    raise Exception(\"İstanbul şehrini çalıştıramam\")  #Exception bizim hata sınıfımız onu değiştirebiliriz (ValueError gibi)"
   ]
  },
  {
   "cell_type": "markdown",
   "metadata": {},
   "source": [
    "## Fonksiyonlar"
   ]
  },
  {
   "cell_type": "markdown",
   "metadata": {},
   "source": [
    "##### Fonksiyonların Özellikleri\n",
    "1- Her fonksiyonun bir ismi vardır ve fonksiyon_ismi() şeklinde kullanılırlar                                             \n",
    "2- Parantezlerin içerisine fonksiyonlara işlevsellik kazandıran parametreler yazılır.                                       \n",
    "3- Fonksiyonların bazı parametrelerinin varsayılan(default) değerleri vardır. Biz Değiştirmediğimiz sürece o değerler kullanılır => print(end=\\n) örnek print fonksiyonu çalıştıktan sonra alt satıra geçmesini sağlayan end parametresine sahiptir. \n"
   ]
  },
  {
   "cell_type": "markdown",
   "metadata": {},
   "source": [
    "##### Fonksiyon nedir ?\n",
    "Fonksiyonlar programımızda rutin olarak tekrar eden işlemleri veya prosedürleri tek bir ad altında toplayan ve o işlemleri uzunca tekrardan yazmamıza gerek kalmamasını sağlayan araçlardır. Fonksiyonların görevi karmaşık işlemleri bir araya toplayarak, tek seferde yapmamızı sağlamasıdır."
   ]
  },
  {
   "cell_type": "code",
   "execution_count": 1,
   "metadata": {},
   "outputs": [
    {
     "name": "stdout",
     "output_type": "stream",
     "text": [
      "istanbul Üniversites Python Programlama\n"
     ]
    }
   ],
   "source": [
    "# print fonksiyonunun yaptığı işi kısaca bi inceleyelim. Örneğin 4 farklı parametre alsın\n",
    "\n",
    "print(\"istanbul\",\"Üniversites\",\"Python\",\"Programlama\")"
   ]
  },
  {
   "cell_type": "markdown",
   "metadata": {},
   "source": [
    "çıktıda gördüğümüz üzere  print() fonksiyonu bizim için bazı işlemleri otomatik olarak gerçekleştirdi.                  \n",
    "1- İlk olarak kendisine verilen parametreleri(değerleri) ekrana bastırıyor\n",
    "2- Ekrana basarken sep=' ' parametresinin etkisiyle aralarına birer boşluk bırakıyor\n",
    "3- end='\\n' parametresi sayesinde ekrana yazdırdıktan sonra otomatik olarak bir alt satıra geçiyor"
   ]
  },
  {
   "cell_type": "code",
   "execution_count": 3,
   "metadata": {},
   "outputs": [
    {
     "name": "stdout",
     "output_type": "stream",
     "text": [
      "isim           :  Onur\n",
      "soyisim        :  Yılmaz\n",
      "yaş            :  20\n",
      "şehir          :  İstanbul\n"
     ]
    }
   ],
   "source": [
    "#Örneğin bi öğrenci kayıt sistemi yapmak isteyelim. Ve her kaydı ekrana tek tek bastırsın.\n",
    "#şuana kadar öğrendiklerimizle bunu şu şekilde yapardık\n",
    "    \n",
    "ogrenci_ad    = \"Onur\"\n",
    "ogrenci_soyad = \"Yılmaz\"\n",
    "ogrenci_yas  = \"20\"\n",
    "şehir  = \"İstanbul\"\n",
    "\n",
    "print(\"isim           : \", ogrenci_ad)\n",
    "print(\"soyisim        : \", ogrenci_soyad)\n",
    "print(\"yaş            : \", ogrenci_yas)\n",
    "print(\"şehir          : \", şehir)   "
   ]
  },
  {
   "cell_type": "markdown",
   "metadata": {},
   "source": [
    "Bir kayıt yapmak istediğimizde her kişi için bu işlemi yapmak zorundayız. Peki biz her seferinde böyle uzun işlem yapmak yerine bir fonksiyon yazsak, Örneğin kayıt(Onur,Yılmaz,20,İstanbul) ve aldığı bu parametrelere göre hızlıca kayıt yapıp ekrana yazsa daha kolay olmaz mı ? İşte bunun gibi tekrarlayan işlerde fonksiyonları kullanırız"
   ]
  },
  {
   "cell_type": "markdown",
   "metadata": {},
   "source": [
    "### Fonksiyon Tanımlama ve Çağırma\n",
    "\n",
    "Fonksiyonun yaşam döngüsü 2 aşamadan oluşur. Birincisi fonksiyonun tanımlanması ikincisi ise çağrılması"
   ]
  },
  {
   "cell_type": "code",
   "execution_count": 7,
   "metadata": {},
   "outputs": [],
   "source": [
    "# Fonksiyon tanımlarken dikkat etmemiz gereken husus aynı isimde başka bir fonksiyon olmamasıdır (input,print vs)\n",
    "# FONKSİYON TANIMLAMA \n",
    "\n",
    "def kayıt(ad,soyad,yas,sehir):     #def fonksiyon tanımlarken kullandığımız terimdir.\n",
    "    print(\"-\"*20)                 #Fonksiyonun içindeki işlemleri tanımlarken girintiye dikkat etmelisiniz.\n",
    "    \n",
    "    print(\"isim           : \", ad)\n",
    "    print(\"soyisim        : \", soyad)\n",
    "    print(\"yaş            : \", yas)\n",
    "    print(\"şehir          : \", sehir) \n",
    "    \n",
    "    print(\"-\"*20)"
   ]
  },
  {
   "cell_type": "code",
   "execution_count": 8,
   "metadata": {},
   "outputs": [
    {
     "name": "stdout",
     "output_type": "stream",
     "text": [
      "--------------------\n",
      "isim           :  Ayse\n",
      "soyisim        :  Aydemir\n",
      "yaş            :  21\n",
      "şehir          :  İstanbul\n",
      "--------------------\n"
     ]
    }
   ],
   "source": [
    "#yukarıda fonksiyonumuzu tanımladıktan sonra artık istediğimiz kadar kayıt yapabiliriz\n",
    "kayıt(\"Ayse\",\"Aydemir\",\"21\",\"İstanbul\")     #Fonksiyonumuzu çağırıyoruz"
   ]
  },
  {
   "cell_type": "code",
   "execution_count": 9,
   "metadata": {},
   "outputs": [
    {
     "name": "stdout",
     "output_type": "stream",
     "text": [
      "--------------------\n",
      "isim           :  Elon\n",
      "soyisim        :  Musk\n",
      "yaş            :  40\n",
      "şehir          :  Miami\n",
      "--------------------\n"
     ]
    }
   ],
   "source": [
    "kayıt(\"Elon\",\"Musk\",\"40\",\"Miami\")"
   ]
  },
  {
   "cell_type": "markdown",
   "metadata": {},
   "source": [
    "#### Fonksiyonların Yapısı\n",
    "Yukarıda bir fonksiyonu tanımladık. Şimdi daha detaylı olarak yapısını inceleyelim ve taşlar yerine otursun"
   ]
  },
  {
   "cell_type": "code",
   "execution_count": 11,
   "metadata": {},
   "outputs": [],
   "source": [
    "# def parçacığı, tanımladığımız şeyin bir fonksiyon olduğunu gösterir.(defination'dan gelir) \n",
    "# def'in yanına yazdığımız (yukarıda ki kayıt) ifade ise bizim fonksiyonumuzun ismi oluyor\n",
    "\n",
    "def welcome():\n",
    "    print(\"Hoşgeldiniz\")\n",
    "#Burada welcome isimli bir fonksiyon tanımlamış olduk ve bize çıktı olarak Hoşgeldiniz döndürüyor\n",
    "#Bu şekilde çalıştırdığımızda bir çıktı almayacağız. Bunun sebebi henüz fonksiyonu çağırmadık"
   ]
  },
  {
   "cell_type": "code",
   "execution_count": 12,
   "metadata": {},
   "outputs": [
    {
     "name": "stdout",
     "output_type": "stream",
     "text": [
      "Hoşgeldiniz\n"
     ]
    }
   ],
   "source": [
    "welcome()    #Fonksiyonumuzu çağırmış olduk"
   ]
  },
  {
   "cell_type": "markdown",
   "metadata": {},
   "source": [
    "welcome() fonksiyonu parametresiniz bir fonksiyondur"
   ]
  },
  {
   "cell_type": "code",
   "execution_count": 13,
   "metadata": {},
   "outputs": [],
   "source": [
    "#Bazen yazdığımız fonksiyonlarımızın ne işlem yaptığını unutabiliriz veya başka bir yazılımcı okuduğunda rahatlıkla\n",
    "#anlaması için fonksiyonun işlemleri öncesi bi açıklama dökümanı yazılabilir (mecbur değil ama iyi programlama için faydalı)\n",
    "\n",
    "def welcome():\n",
    "    \"\"\"\n",
    "    Bu fonksiyon bizim katılımcılara Hoşgeldin dememizi sağlar\n",
    "    \"\"\"\n",
    "    print(\"Hoşgeldiniz\")"
   ]
  },
  {
   "cell_type": "code",
   "execution_count": 14,
   "metadata": {},
   "outputs": [
    {
     "name": "stdout",
     "output_type": "stream",
     "text": [
      "Hoşgeldiniz\n"
     ]
    }
   ],
   "source": [
    "welcome()   #fonksiyonu çağırdığımızda açıklamasını göremeyiz. "
   ]
  },
  {
   "cell_type": "code",
   "execution_count": 15,
   "metadata": {},
   "outputs": [
    {
     "name": "stdout",
     "output_type": "stream",
     "text": [
      "\n",
      "    Bu fonksiyon bizim katılımcılara Hoşgeldin dememizi sağlar\n",
      "    \n"
     ]
    }
   ],
   "source": [
    "#Fonksiyonun açıklmasına ulaşmak için:\n",
    "print(welcome.__doc__)  #bu şekilde fonksiyonu yaratan kişinin fonksiyon için yazdığı nota ulaşabiliriz"
   ]
  },
  {
   "cell_type": "markdown",
   "metadata": {},
   "source": [
    "#### Parametre ve Argüman"
   ]
  },
  {
   "cell_type": "markdown",
   "metadata": {},
   "source": [
    "##### Fonksiyonları tanımlarken kullandığımız parametre nedir ve ne işe yarar ?"
   ]
  },
  {
   "cell_type": "code",
   "execution_count": 17,
   "metadata": {},
   "outputs": [
    {
     "name": "stdout",
     "output_type": "stream",
     "text": [
      "sayı : 4\n",
      "4 sayısının küpü 64\n"
     ]
    }
   ],
   "source": [
    "#Örneğin bi küp bulma işlemi olsun ve sonucu ekrana yazdırsın\n",
    "\n",
    "sayi=2\n",
    "print(f\"{sayi} sayısının küpü {sayi**3}\")"
   ]
  },
  {
   "cell_type": "code",
   "execution_count": 18,
   "metadata": {},
   "outputs": [],
   "source": [
    "#Her sayı için bunu tekrar tekrar yapmak yerine bunu bir fonksiyon haline getirip her çağrılmada istediğimiz sayıyı hesaplatabiliriz\n"
   ]
  },
  {
   "cell_type": "markdown",
   "metadata": {},
   "source": [
    "Parametreler fonksiyonlarımızın daha işlevsel hale gelmesini saplayan araçlardır"
   ]
  },
  {
   "cell_type": "code",
   "execution_count": 19,
   "metadata": {},
   "outputs": [],
   "source": [
    "def küp(number):\n",
    "    print(f\"{number} sayısının küpü {number**3}\")"
   ]
  },
  {
   "cell_type": "code",
   "execution_count": 20,
   "metadata": {},
   "outputs": [
    {
     "name": "stdout",
     "output_type": "stream",
     "text": [
      "2 sayısının küpü 8\n",
      "4 sayısının küpü 64\n",
      "3 sayısının küpü 27\n"
     ]
    }
   ],
   "source": [
    "küp(2)\n",
    "küp(4)\n",
    "küp(3)"
   ]
  },
  {
   "cell_type": "markdown",
   "metadata": {},
   "source": [
    "Gördüğünüz gibi fonksiyonumuz dışarıdan bir parametre alıyor ve bu değerin küpünü ekrana yazdırıyor.\n",
    "eğer fonksiyonumuz bir parametre almasaydı ya her çağırışta input almamız gerekicekti ya da tek bir değer için hesaplama yapmış olacaktık. Bu da fonksiyonun amaçlarından olan işlevselliği düşürmüş olacaktı"
   ]
  },
  {
   "cell_type": "markdown",
   "metadata": {},
   "source": [
    "#### Varsayılan Değerli Parametreler\n"
   ]
  },
  {
   "cell_type": "markdown",
   "metadata": {},
   "source": [
    "Dikkat etmemiz gereken bir diğer şey ise yazdığımız fonksiyonlardaki parametrelere varsayılan bir değer atamadık\n",
    "Bu yüzden eğer fonksiyonu çağırırken o parametreye karşılık bir değer girilmezse program hata verecektir"
   ]
  },
  {
   "cell_type": "code",
   "execution_count": 21,
   "metadata": {},
   "outputs": [
    {
     "ename": "TypeError",
     "evalue": "küp() missing 1 required positional argument: 'number'",
     "output_type": "error",
     "traceback": [
      "\u001b[1;31m---------------------------------------------------------------------------\u001b[0m",
      "\u001b[1;31mTypeError\u001b[0m                                 Traceback (most recent call last)",
      "\u001b[1;32m<ipython-input-21-6aee5b8e832a>\u001b[0m in \u001b[0;36m<module>\u001b[1;34m\u001b[0m\n\u001b[0;32m      1\u001b[0m \u001b[1;31m#Dikkat etmemiz gereken bir diğer şey ise yazdığımız fonksiyonlardaki parametrelere varsayılan bir değer atamadık\u001b[0m\u001b[1;33m\u001b[0m\u001b[1;33m\u001b[0m\u001b[1;33m\u001b[0m\u001b[0m\n\u001b[0;32m      2\u001b[0m \u001b[1;31m#Bu yüzden eğer fonksiyonu çağırırken o parametreye karşılık bir değer girilmezse program hata verecektir\u001b[0m\u001b[1;33m\u001b[0m\u001b[1;33m\u001b[0m\u001b[1;33m\u001b[0m\u001b[0m\n\u001b[1;32m----> 3\u001b[1;33m \u001b[0mküp\u001b[0m\u001b[1;33m(\u001b[0m\u001b[1;33m)\u001b[0m\u001b[1;33m\u001b[0m\u001b[1;33m\u001b[0m\u001b[0m\n\u001b[0m",
      "\u001b[1;31mTypeError\u001b[0m: küp() missing 1 required positional argument: 'number'"
     ]
    }
   ],
   "source": [
    "küp()"
   ]
  },
  {
   "cell_type": "code",
   "execution_count": 50,
   "metadata": {},
   "outputs": [],
   "source": [
    "#Hata almamak için varsayılan değerde bir parametre atayabiliriz\n",
    "def kur(kurulum_dizini=\"/Desktop\"):\n",
    "    print(f\"Program {kurulum_dizini} dizinine kuruluyor\")"
   ]
  },
  {
   "cell_type": "code",
   "execution_count": 49,
   "metadata": {},
   "outputs": [
    {
     "name": "stdout",
     "output_type": "stream",
     "text": [
      "Program /Desktop dizinine kuruluyor\n"
     ]
    }
   ],
   "source": [
    "kur()"
   ]
  },
  {
   "cell_type": "markdown",
   "metadata": {},
   "source": [
    "Yukarıda gördüğümüz üzere bu fonksiyonumuz indirdiğimiz dosyanın nereye kurulacağını ekrana yazdırıyor. Ancak kullanıcı bazen konumu seçmek istemez yani otomatik olarak kurulmasını isteyebilir. İşte bunun için bir parametre değeri vermezse program var sayılan konuma indirilecektir"
   ]
  },
  {
   "cell_type": "markdown",
   "metadata": {},
   "source": [
    "Parametreleri isimlendirirken istediğimiz ismi verebiliriz. Sadece Dikkat edilmesi gereken veren parametre ismi ile fonksiyon içinde ki kullanılan isim aynı olmalıdır"
   ]
  },
  {
   "cell_type": "markdown",
   "metadata": {},
   "source": [
    "Bir diğer kolaylık ise program ilerletildiğinde sadece fonksiyonda değişiklik yaparak diğer işlemleride otomatik olarak rahatlıkla değiştirmiş oluruz"
   ]
  },
  {
   "cell_type": "markdown",
   "metadata": {},
   "source": [
    "##### Parametreleri Sıralı ve İsimli Kullanma"
   ]
  },
  {
   "cell_type": "markdown",
   "metadata": {},
   "source": [
    "yazdığımız fonksiyonlara parametreleri yollarken hep tanımlanırken kullandığımız sıraya göre kullandık. Yani tanımlarken ilk sırada isim var ise fonksiyonu çağırırkende verilen ilk parametre isim olmalıydı. Çünkü python bizim için otomatik sıraya göre parametre ve argümanları birbirine eşleştiriyor."
   ]
  },
  {
   "cell_type": "code",
   "execution_count": 51,
   "metadata": {},
   "outputs": [
    {
     "name": "stdout",
     "output_type": "stream",
     "text": [
      "--------------------\n",
      "isim           :  Elon\n",
      "soyisim        :  Musk\n",
      "yaş            :  40\n",
      "şehir          :  Miami\n",
      "--------------------\n"
     ]
    }
   ],
   "source": [
    "def kayıt(ad,soyad,yas,sehir):    \n",
    "    print(\"-\"*20)                 \n",
    "    \n",
    "    print(\"isim           : \", ad)\n",
    "    print(\"soyisim        : \", soyad)\n",
    "    print(\"yaş            : \", yas)\n",
    "    print(\"şehir          : \", sehir) \n",
    "    \n",
    "    print(\"-\"*20)\n",
    "\n",
    "kayıt(\"Elon\",\"Musk\",\"40\",\"Miami\")"
   ]
  },
  {
   "cell_type": "markdown",
   "metadata": {},
   "source": [
    "#### parametre isimlerini kullanarak sırasız değer yollamak"
   ]
  },
  {
   "cell_type": "markdown",
   "metadata": {},
   "source": [
    "Bazı durumlarda parametreleri sırasız olarak vermek isteyebiliriz. Bunun sebebi belki bi parametreyi varsayılan değerinde bırakmak istiyor olabiliriz. Veya karışıklık çıkmasın diye hepsinin ismini kullanmak istiyor olabiliriz. Bunun içinde parametrenin isimlerine atayarak işlemi gerçekleştirebiliriz"
   ]
  },
  {
   "cell_type": "code",
   "execution_count": 6,
   "metadata": {},
   "outputs": [],
   "source": [
    "def yolculuk(gidilen_yer,saat,konum='ev',arac='araba'):\n",
    "    print(f\"{konum} konumundan {gidilen_yer}'ya {saat}'de {arac} ile gidilecektir\")"
   ]
  },
  {
   "cell_type": "markdown",
   "metadata": {},
   "source": [
    "Varsayılan değerli parametreleri ayarlarken dikkat edilmesi gereken bir nokta mevcut. Fonksiyonu tanımlarken varsayışan değerli parametreler sonda olmak zorundadır. Yani varsayılan değere sahip parametrelerden sonra değersiz parametreler gelemez. Python bu noktada hata veriyor."
   ]
  },
  {
   "cell_type": "code",
   "execution_count": 7,
   "metadata": {},
   "outputs": [
    {
     "name": "stdout",
     "output_type": "stream",
     "text": [
      "ev konumundan bolu'ya 3'de otobüs ile gidilecektir\n"
     ]
    }
   ],
   "source": [
    "yolculuk(saat=3,gidilen_yer='bolu',arac='otobüs')"
   ]
  },
  {
   "cell_type": "markdown",
   "metadata": {},
   "source": [
    "Görüdğünüz gibi parametre değerlerini yollarken sırası karışık olarak yolladık. Özellikle çok fazla parametre alan fonksiyonlarda sırasını bilmek çok zor olacağı için bu şekilde isimli olarak atayabiliriz"
   ]
  },
  {
   "cell_type": "markdown",
   "metadata": {},
   "source": [
    "##### Bir örnek yapalım. Pythonda len() fonksiyonu olmadığını varsayalım ve bunu kendimiz yazmaya çalışalım"
   ]
  },
  {
   "cell_type": "code",
   "execution_count": 36,
   "metadata": {},
   "outputs": [],
   "source": [
    "def uzunluk(kelime):\n",
    "    try:\n",
    "        x=0\n",
    "        for i in kelime:\n",
    "            x +=1\n",
    "        print(x)\n",
    "    except TypeError:\n",
    "        print('Sayının uzunluğu hesaplanamaz')"
   ]
  },
  {
   "cell_type": "code",
   "execution_count": 37,
   "metadata": {},
   "outputs": [
    {
     "name": "stdout",
     "output_type": "stream",
     "text": [
      "9\n"
     ]
    }
   ],
   "source": [
    "uzunluk(\"Eskişehir\")"
   ]
  },
  {
   "cell_type": "code",
   "execution_count": 38,
   "metadata": {},
   "outputs": [
    {
     "name": "stdout",
     "output_type": "stream",
     "text": [
      "Sayının uzunluğu hesaplanamaz\n"
     ]
    }
   ],
   "source": [
    "uzunluk(6)"
   ]
  },
  {
   "cell_type": "code",
   "execution_count": 40,
   "metadata": {},
   "outputs": [
    {
     "name": "stdout",
     "output_type": "stream",
     "text": [
      "3\n"
     ]
    }
   ],
   "source": [
    "sehirler=['İstanbul','ankara','bolu']\n",
    "uzunluk(sehirler)"
   ]
  },
  {
   "cell_type": "markdown",
   "metadata": {},
   "source": [
    "#### Rastgele sayıda isimsiz parametre yollama   (Demet)"
   ]
  },
  {
   "cell_type": "markdown",
   "metadata": {},
   "source": [
    "Şimdiye kadar öğrendiğimiz çoğu fonksiyonun alabileceği max parametre sayısı belliydi. Daha fazlasını vermeye çalışırsak Python bize hata mesajı üretecekti. Ancak İstersek sınırsız sayıda parametre alabilen fonksiyon tanımlamamız mümkün. Gelin örnek üzerinde inceleyelim"
   ]
  },
  {
   "cell_type": "code",
   "execution_count": 9,
   "metadata": {},
   "outputs": [],
   "source": [
    "def sınırsız(*parametreler):\n",
    "    print(parametreler)"
   ]
  },
  {
   "cell_type": "code",
   "execution_count": 10,
   "metadata": {},
   "outputs": [
    {
     "name": "stdout",
     "output_type": "stream",
     "text": [
      "(1, 2, 3, 4, 5, 6, 7, 8)\n"
     ]
    }
   ],
   "source": [
    "sınırsız(1,2,3,4,5,6,7,8)"
   ]
  },
  {
   "cell_type": "markdown",
   "metadata": {},
   "source": [
    "\\* işareti bizim fonksiyonmuzun sınırsız sayıda parametre almasını sağlıyor\n",
    "NOT = pratikte sınırsız desekte teknik olarak alınabilecek parametre sayısı 256'dır\n",
    "\n",
    "Dikkat edilmesi gereken bir nokta iste fonksiyonun bize cevap olarak döndürdüğü sonuç demettir. Bu yüzden bir işlem yapmak istediğimizde demetlerde öğrendiğimiz konular geçerlidir"
   ]
  },
  {
   "cell_type": "code",
   "execution_count": 11,
   "metadata": {},
   "outputs": [],
   "source": [
    "def çarp(*sayılar):\n",
    "    sonuç = 1\n",
    "    for i in sayılar:\n",
    "        sonuç *= i\n",
    "    print(sonuç)"
   ]
  },
  {
   "cell_type": "code",
   "execution_count": 12,
   "metadata": {},
   "outputs": [
    {
     "name": "stdout",
     "output_type": "stream",
     "text": [
      "29400\n"
     ]
    }
   ],
   "source": [
    "çarp(2,5,7,4,3,5,7)"
   ]
  },
  {
   "cell_type": "markdown",
   "metadata": {},
   "source": [
    "\\* işaretini daha öncede öğrenmiştik. Orda yaptığı işlem karakterleri,listeleri birbirinden ayırmaktı. Fonksiyonlarda ise bu tam tersi. Örneklerde de görüldüğü üzere * tüm parametreleri birleştirip bir demet haline getiriyor"
   ]
  },
  {
   "cell_type": "markdown",
   "metadata": {},
   "source": [
    "\\* işaretinin yanındaki ismi istediğimiz gibi verebiliriz. Ancak genellikle *args kullanılır"
   ]
  },
  {
   "cell_type": "markdown",
   "metadata": {},
   "source": [
    "### Rastgele Sayıda isimli parametre belirleme  (Sözlük)"
   ]
  },
  {
   "cell_type": "markdown",
   "metadata": {},
   "source": [
    "bir önceki başlıkta fonksiyon tanımlarken rastgele sayıda isimsiz parametreleri belirledik. Şimdi de parametreleri yine sınırsız sayıda ancak isimli olarak belirleyebiliriz. Örnek üzerinde inceleyelim"
   ]
  },
  {
   "cell_type": "code",
   "execution_count": 14,
   "metadata": {},
   "outputs": [],
   "source": [
    "def fonksiyon(**bilgiler):\n",
    "    print(bilgiler)"
   ]
  },
  {
   "cell_type": "code",
   "execution_count": 15,
   "metadata": {},
   "outputs": [
    {
     "name": "stdout",
     "output_type": "stream",
     "text": [
      "{'isim': 'Onur', 'meslek': 'öğrenci', 'konu': 'Python'}\n"
     ]
    }
   ],
   "source": [
    "fonksiyon(isim='Onur',meslek='öğrenci',konu='Python')"
   ]
  },
  {
   "cell_type": "markdown",
   "metadata": {},
   "source": [
    "Gördüğümüz gibi fonksiyonu çağırırken isimlendirdiğimiz parametreleri ve değerlerini sözlük yapısına getirdi. İşte bizde işlem yaparken sözlük tipinde geçerli olan kurallara uyarak işlem yapabiliriz"
   ]
  },
  {
   "cell_type": "code",
   "execution_count": 17,
   "metadata": {},
   "outputs": [],
   "source": [
    "def kayıt(**bilgiler):\n",
    "    print(\"-\"*20)\n",
    "\n",
    "    for key, value in bilgiler.items():\n",
    "        print(\"{}: {}\".format(key, value))\n",
    "\n",
    "    print(\"-\"*20)"
   ]
  },
  {
   "cell_type": "code",
   "execution_count": 18,
   "metadata": {},
   "outputs": [
    {
     "name": "stdout",
     "output_type": "stream",
     "text": [
      "--------------------\n",
      "isim: onur\n",
      "soyad: yılmaz\n",
      "yas: 20\n",
      "meslek: öğrenci\n",
      "--------------------\n"
     ]
    }
   ],
   "source": [
    "kayıt(isim='onur',soyad='yılmaz',yas=20,meslek='öğrenci')"
   ]
  },
  {
   "cell_type": "markdown",
   "metadata": {},
   "source": [
    "\\** işaretinin yanındaki ismi istediğimiz gibi verebiliriz. Ancak genellikle *kwargs kullanılır"
   ]
  },
  {
   "cell_type": "markdown",
   "metadata": {},
   "source": [
    "##### * ve ** işaretlerini bir çok şekilde kullanabiliriz. "
   ]
  },
  {
   "cell_type": "markdown",
   "metadata": {},
   "source": [
    "Örnek olarak bir sözlük oluşturalım. Bunda türkçe kelimelerin karşılıkları olsun. Bizde istediğimiz kelimlerin sözlükte karşılığı olup olmadığını kontrol edelim"
   ]
  },
  {
   "cell_type": "code",
   "execution_count": 24,
   "metadata": {},
   "outputs": [
    {
     "name": "stdout",
     "output_type": "stream",
     "text": [
      "araba kelimesi sözlükte yok\n",
      "okul kelimesi sözlükte yok\n",
      "bilgisayar : computer\n"
     ]
    }
   ],
   "source": [
    "def ceviri(*args,**kwargs):\n",
    "    for kelime in args:\n",
    "        if kelime in kwargs:\n",
    "            print(f\"{kelime} : {kwargs[kelime]}\")\n",
    "        else:\n",
    "            print(f\"{kelime} kelimesi sözlükte yok\")\n",
    "sözlük={\"kitap\"      : \"book\",\n",
    "        \"bilgisayar\" : \"computer\",\n",
    "        \"sayı\": \"number\"}\n",
    "    \n",
    "ceviri('araba','okul','bilgisayar',**sözlük)"
   ]
  },
  {
   "cell_type": "markdown",
   "metadata": {},
   "source": [
    "Dikkat edilmesi gereken bir noktada, ikisini birbiriyle kullanırken sırasının önemidir. args(\\*) her zaman kwargs(\\**) önce gelmelidir. Yoksa Python hata üretecektir"
   ]
  },
  {
   "cell_type": "markdown",
   "metadata": {},
   "source": [
    "### Return Deyimi"
   ]
  },
  {
   "cell_type": "code",
   "execution_count": 25,
   "metadata": {},
   "outputs": [
    {
     "name": "stdout",
     "output_type": "stream",
     "text": [
      "isim : onur\n",
      "onur\n"
     ]
    }
   ],
   "source": [
    "#Return deyimini anlamak için örnekler üzerinden gidelim. ilk önce basit bir fonksiyon yazalım\n",
    "\n",
    "def isim():\n",
    "    isim=input(\"isim : \")\n",
    "    print(isim)\n",
    "isim()"
   ]
  },
  {
   "cell_type": "markdown",
   "metadata": {},
   "source": [
    "Bu fonksiyonumuzu çağırdığımız zaman bizim için girilen ismi ekrana basacaktır. Ancak bu bilgiyi başka yerde kullanamayız. Yani bu fonksiyonumuzun tek görevi girilen ismi ekrana basmaktır. Bazen biz fonksiyonumuzun tek görevinin ekrana yazı yazdırma olmasını istemeyebiliriz. Örneğin yukarıda ki ismi başka bir yerde kullanmak isteyebiliriz"
   ]
  },
  {
   "cell_type": "code",
   "execution_count": 26,
   "metadata": {},
   "outputs": [
    {
     "name": "stdout",
     "output_type": "stream",
     "text": [
      "isim : onur\n",
      "onur\n",
      "Merhaba None, nasılsın\n"
     ]
    }
   ],
   "source": [
    "print(f\"Merhaba {isim()}, nasılsın\")"
   ]
  },
  {
   "cell_type": "markdown",
   "metadata": {},
   "source": [
    "Görüldüğü üzere fonksiyon yine kendi işlemi olan ekrana yazdırmayı yaptı (2.satır). Ancak başka bir karakter dizisinde kullanmay kalktığımızda beklemediğimiz bir sonuç aldık(None). Şimdi fonksiyonumuzda biraz değişiklik yapalım"
   ]
  },
  {
   "cell_type": "code",
   "execution_count": 28,
   "metadata": {},
   "outputs": [
    {
     "name": "stdout",
     "output_type": "stream",
     "text": [
      "isim : onur\n",
      "\n"
     ]
    }
   ],
   "source": [
    "def isim():\n",
    "    isim=input(\"isim : \")\n",
    "    return isim\n",
    "isim()\n",
    "print()"
   ]
  },
  {
   "cell_type": "markdown",
   "metadata": {},
   "source": [
    "Gördüğünüz gibi fonksiyonu çağırdığımızda yalnızca input kısmı çalıştı daha sonra hiç bir değer ekrana yazılmadı. Bunun sebebi biz isim değişkenini ekrana yazdırmak yerine 'döndürdük'\n",
    "\n",
    "Yani yukarıda yaptığımız işlem şudur; return deyiminin yaptığı iş sayesinde fonksiyonumuz bize bir değer döndürdü. Yani biz bu sayede fonksiyondan dönen değeri istediğimiz her yerde kullanabiliriz"
   ]
  },
  {
   "cell_type": "code",
   "execution_count": 29,
   "metadata": {},
   "outputs": [
    {
     "name": "stdout",
     "output_type": "stream",
     "text": [
      "isim : onur\n",
      "Merhaba onur, nasılsın\n"
     ]
    }
   ],
   "source": [
    "print(f\"Merhaba {isim()}, nasılsın\")"
   ]
  },
  {
   "cell_type": "markdown",
   "metadata": {},
   "source": [
    "Gördüğünüz üzere burada None gibi bir ifadeyle karşılaşmadık. Yukarıda None olmasının sebebi python fonksiyonundan bir değer dönmediği halde biz onu başka yerde kullanmaya çalışırsak Python kendisi None değer yolluyor ve o fonksiyonun geriye bir değer döndürmediğini anlamamızı sağlıyor"
   ]
  },
  {
   "cell_type": "code",
   "execution_count": 30,
   "metadata": {},
   "outputs": [
    {
     "name": "stdout",
     "output_type": "stream",
     "text": [
      "isim : onur\n",
      "onur\n"
     ]
    }
   ],
   "source": [
    "#return deyimini kullandığımız fonksiyonları bir değişkene atayabiliriz. Bu şekilde fonksiyondan dönen değeri değişken olarak kullanabiliriz\n",
    "\n",
    "ad=isim()\n",
    "print(ad)"
   ]
  },
  {
   "cell_type": "markdown",
   "metadata": {},
   "source": [
    "Dikkat edilmesi gereken bir diğer noktada fonksiyon tanımlanırken return deyiminden sonra o fonksiyonun çalışması sona erer. Bir örnek ile açıklayalım"
   ]
  },
  {
   "cell_type": "code",
   "execution_count": 32,
   "metadata": {},
   "outputs": [
    {
     "name": "stdout",
     "output_type": "stream",
     "text": [
      "pozitif\n"
     ]
    }
   ],
   "source": [
    "def kontrol(n):\n",
    "    if n<0:\n",
    "        return 'negatif'\n",
    "    else:\n",
    "        return 'pozitif'\n",
    "s=kontrol(12)\n",
    "print(s)"
   ]
  },
  {
   "cell_type": "code",
   "execution_count": 46,
   "metadata": {},
   "outputs": [
    {
     "name": "stdout",
     "output_type": "stream",
     "text": [
      "['araba', 'ev', 'istanbul', 'dsc']\n",
      "[1, 3, 5, 2.5]\n"
     ]
    }
   ],
   "source": [
    "#verilen listedeki değerleri harfler ve sayılar olarak döndüren bir fonksiyon yazalım\n",
    "\n",
    "def ayrac(*args):\n",
    "    kelimeler=[]\n",
    "    sayılar=[]\n",
    "    \n",
    "    for i in args:\n",
    "        if type(i)==int or type(i)==float:\n",
    "            sayılar.append(i)\n",
    "        else:\n",
    "            kelimeler.append(i)\n",
    "            \n",
    "    return kelimeler,sayılar\n",
    "\n",
    "kelimeler,sayılar=ayrac(1,'araba','ev',3,5,'istanbul','dsc',2.5)\n",
    "print(kelimeler)\n",
    "print(sayılar)\n"
   ]
  },
  {
   "cell_type": "markdown",
   "metadata": {},
   "source": [
    "### Fonksiyonların Kapsamı ve global deyimi"
   ]
  },
  {
   "cell_type": "code",
   "execution_count": 47,
   "metadata": {},
   "outputs": [],
   "source": [
    "x = 0\n",
    "\n",
    "def fonk():\n",
    "    x = 1\n",
    "    return x\n",
    "\n",
    "#elimizde böyle bir kod var. fonksiyon içindeki x fonksiyon dışındaki ni etkiler mi ? "
   ]
  },
  {
   "cell_type": "code",
   "execution_count": 48,
   "metadata": {},
   "outputs": [
    {
     "name": "stdout",
     "output_type": "stream",
     "text": [
      "fonksiyon içindeki x:  1\n",
      "fonksiyon dışındaki x:  0\n"
     ]
    }
   ],
   "source": [
    "print('fonksiyon içindeki x: ', fonk())\n",
    "print('fonksiyon dışındaki x: ', x)"
   ]
  },
  {
   "cell_type": "markdown",
   "metadata": {},
   "source": [
    "Görüldüğü üzere fonksiyon içindeki x dışarıyı etkilemedi. Bunun sebebi Python'daki namespace(isim alanı) kavramıdır.\n",
    "Peki isim alanı nedir. Değişkenlerin, fonksiyonların ve sonraki konularda göreceğimiz sınıfların birer kapsama alanı vardır. Buna namespace denir. Dolayısıyla Pythonda her nesnenin geçerli ve etkin olduğu bir alan vardır. Mesela yukarıda ki fonksiyonumuzun dışındaki x ana namespace alanında yer alan global bir değişkendir. Fonksiyonun içinde ki x ise fonk() isim alanı içinde yer alan local bir değişkendir. isimleri aynı olsada isim alanları farklı olduğunda farklı birer değişkenlerdir"
   ]
  },
  {
   "cell_type": "code",
   "execution_count": 49,
   "metadata": {},
   "outputs": [
    {
     "name": "stdout",
     "output_type": "stream",
     "text": [
      "x'in ilk hali: []\n",
      "x'i değiştiriyoruz...\n",
      "x'in son hali:  [1]\n"
     ]
    }
   ],
   "source": [
    "x = []\n",
    "print('x\\'in ilk hali:', x)\n",
    "\n",
    "def değiştir():\n",
    "    print('x\\'i değiştiriyoruz...')\n",
    "    x.append(1)\n",
    "    return x\n",
    "\n",
    "değiştir()\n",
    "print('x\\'in son hali: ', x)"
   ]
  },
  {
   "cell_type": "markdown",
   "metadata": {},
   "source": [
    "fonksiyon içinde ki x'e yapılan değişiklik genel olarak bir değişime sebep oldu. Yukarda bunun tam tersini söylemiştik bunun sebebi nedir acaba ? Pythonda herhangi bir nesneye gönderme yaptığımızda öncelikle nesneyi mevcut isim alanında arar. Eğer aranan nesne mevcut isim alanında yok ise yukarı doğru tüm isim alanlarını kontrol eder"
   ]
  },
  {
   "cell_type": "markdown",
   "metadata": {},
   "source": [
    "Karakter dizileri gibi değiştirilemeyen dizileri, local isim alanlarında değiştiremiceğiniz gibi yeniden tanımlayamazsınızda. Aynı kural değiştirilebilir nesneler içinde geçerlidir. Bunu Örnek üzerinde inceleyelim\n",
    "Not : Tanımlamak ve yeniden tanımlamak farklı şeylerdir"
   ]
  },
  {
   "cell_type": "code",
   "execution_count": 52,
   "metadata": {},
   "outputs": [
    {
     "ename": "UnboundLocalError",
     "evalue": "local variable 'isim_listesi' referenced before assignment",
     "output_type": "error",
     "traceback": [
      "\u001b[1;31m---------------------------------------------------------------------------\u001b[0m",
      "\u001b[1;31mUnboundLocalError\u001b[0m                         Traceback (most recent call last)",
      "\u001b[1;32m<ipython-input-52-1e88edc438d6>\u001b[0m in \u001b[0;36m<module>\u001b[1;34m\u001b[0m\n\u001b[0;32m      5\u001b[0m     \u001b[1;32mreturn\u001b[0m \u001b[0misim_listesi\u001b[0m\u001b[1;33m\u001b[0m\u001b[1;33m\u001b[0m\u001b[0m\n\u001b[0;32m      6\u001b[0m \u001b[1;33m\u001b[0m\u001b[0m\n\u001b[1;32m----> 7\u001b[1;33m \u001b[0mprint\u001b[0m\u001b[1;33m(\u001b[0m\u001b[0mfonk\u001b[0m\u001b[1;33m(\u001b[0m\u001b[1;33m)\u001b[0m\u001b[1;33m)\u001b[0m\u001b[1;33m\u001b[0m\u001b[1;33m\u001b[0m\u001b[0m\n\u001b[0m",
      "\u001b[1;32m<ipython-input-52-1e88edc438d6>\u001b[0m in \u001b[0;36mfonk\u001b[1;34m()\u001b[0m\n\u001b[0;32m      2\u001b[0m \u001b[1;33m\u001b[0m\u001b[0m\n\u001b[0;32m      3\u001b[0m \u001b[1;32mdef\u001b[0m \u001b[0mfonk\u001b[0m\u001b[1;33m(\u001b[0m\u001b[1;33m)\u001b[0m\u001b[1;33m:\u001b[0m\u001b[1;33m\u001b[0m\u001b[1;33m\u001b[0m\u001b[0m\n\u001b[1;32m----> 4\u001b[1;33m     \u001b[0misim_listesi\u001b[0m \u001b[1;33m+=\u001b[0m \u001b[1;33m[\u001b[0m\u001b[1;34m'Fırat Özgül'\u001b[0m\u001b[1;33m,\u001b[0m \u001b[1;34m'Orçun Kunek'\u001b[0m\u001b[1;33m]\u001b[0m   \u001b[1;31m#+= yerinde sadece = koyarsak hata vermez\u001b[0m\u001b[1;33m\u001b[0m\u001b[1;33m\u001b[0m\u001b[0m\n\u001b[0m\u001b[0;32m      5\u001b[0m     \u001b[1;32mreturn\u001b[0m \u001b[0misim_listesi\u001b[0m\u001b[1;33m\u001b[0m\u001b[1;33m\u001b[0m\u001b[0m\n\u001b[0;32m      6\u001b[0m \u001b[1;33m\u001b[0m\u001b[0m\n",
      "\u001b[1;31mUnboundLocalError\u001b[0m: local variable 'isim_listesi' referenced before assignment"
     ]
    }
   ],
   "source": [
    "isim_listesi = []\n",
    "\n",
    "def fonk():\n",
    "    isim_listesi += ['Fırat Özgül', 'Orçun Kunek']   #+= yerinde sadece = koyarsak hata vermez\n",
    "    return isim_listesi\n",
    "\n",
    "print(fonk())"
   ]
  },
  {
   "cell_type": "markdown",
   "metadata": {},
   "source": [
    "Yukarıda bahsettiğimiz kural burda geçerli. İsim listesi daha önceden global isim alanında tanımlanmıştı. Ancak local isim alanında aynı değişken tekrar tanımlanmaya çalıştığı için hata verdi. isim_listesi = ['Fırat Özgül', 'Orçun Kunek'] şeklinde bir tanımlama yapmış olsaydık hata almayacaktık. Çünkü local isim alanında hiç var olmayan bir değişken tanımlamış oluyoruz"
   ]
  },
  {
   "cell_type": "markdown",
   "metadata": {},
   "source": [
    "##### Bu bahsettiğimiz hatayı çözmenin bir yolu mevcut. o da global deyimi. Örnek üstünde görelim"
   ]
  },
  {
   "cell_type": "code",
   "execution_count": 53,
   "metadata": {},
   "outputs": [
    {
     "name": "stdout",
     "output_type": "stream",
     "text": [
      "['Fırat Özgül', 'Orçun Kunek']\n"
     ]
    }
   ],
   "source": [
    "isim_listesi = []\n",
    "\n",
    "def fonk():\n",
    "    global isim_listesi\n",
    "    isim_listesi += ['Fırat Özgül', 'Orçun Kunek']   \n",
    "    return isim_listesi\n",
    "\n",
    "print(fonk())"
   ]
  },
  {
   "cell_type": "markdown",
   "metadata": {},
   "source": [
    "Burada kullandığımız global değimi isim_listesi değişkeninin global alana taşınmasını sağlıyor. Bu sayede üzerinde değişiklik yapabiliyoruz. Ancak bu deyimi kullanırken dikkatli olmalıyız. Eğer dikkatsiz kullanırsak programımızın hatalı çalışmasına yol açabilir"
   ]
  },
  {
   "cell_type": "markdown",
   "metadata": {},
   "source": [
    "#### Pythondaki bazı gömülü fonksiyonlar  (bunları not olarak yolla)"
   ]
  },
  {
   "cell_type": "code",
   "execution_count": 3,
   "metadata": {},
   "outputs": [
    {
     "name": "stdout",
     "output_type": "stream",
     "text": [
      "True\n",
      "False\n"
     ]
    }
   ],
   "source": [
    "# 1- all()\n",
    "'''Türkçede hepsi anlamına gelir. Bu fonksiyonun görevi bir dizi içindeki bütün değerler True ise true, eğer bir tane bile\n",
    "false değeri varsa false değeri döndürür'''\n",
    "\n",
    "sayılar=[1,2,3,4,5]\n",
    "print(all(sayılar))\n",
    "\n",
    "#NOT : 0 hariç tüm sayıların boolen karşılığı True\n",
    "\n",
    "sayılar2=[0,1,2,3]\n",
    "print(all(sayılar2))"
   ]
  },
  {
   "cell_type": "code",
   "execution_count": 6,
   "metadata": {},
   "outputs": [
    {
     "name": "stdout",
     "output_type": "stream",
     "text": [
      "True\n",
      "False\n"
     ]
    }
   ],
   "source": [
    "isimler=['Onur','yılmaz']\n",
    "print(all(isimler))\n",
    "\n",
    "isimler2=['onur','']   #hiç bir şey yazmazsak False olur. Ancak boşluk karakteri True değerlidir\n",
    "print(all(isimler2))"
   ]
  },
  {
   "cell_type": "code",
   "execution_count": 8,
   "metadata": {},
   "outputs": [
    {
     "name": "stdout",
     "output_type": "stream",
     "text": [
      "True\n"
     ]
    }
   ],
   "source": [
    "#2- any()\n",
    "\"\"\"Dizideki tüm değerler False ise false değeri döner. Her hangi biri True ise true döner\"\"\"\n",
    "sayılar=[1,'']\n",
    "print(any(sayılar))"
   ]
  },
  {
   "cell_type": "code",
   "execution_count": 9,
   "metadata": {},
   "outputs": [
    {
     "data": {
      "text/plain": [
       "False"
      ]
     },
     "execution_count": 9,
     "metadata": {},
     "output_type": "execute_result"
    }
   ],
   "source": [
    "x = ['', 0, [], (), dict()]  #içi boş veri tiplerinin bool değeri false dır\n",
    "any(x)"
   ]
  },
  {
   "cell_type": "code",
   "execution_count": 12,
   "metadata": {},
   "outputs": [
    {
     "name": "stdout",
     "output_type": "stream",
     "text": [
      "213 455 23 875 23 67\n",
      "[213, 455, 23, 875, 23, 67]\n"
     ]
    }
   ],
   "source": [
    "#3- filter()\n",
    "'''Dizi niteliğindeki nesneler içerisinde filtreleme işlemi uygulayabiliriz.'''\n",
    "\n",
    "sayılar=[10,24,654,213,455,23,875,23,67,34,12,76,342]\n",
    "#tek sayıları bu listeden ayırmak istiyoruz\n",
    "\n",
    "def tek(sayı):\n",
    "    return sayı %2 == 1\n",
    "print(*filter(tek,sayılar))      #bu iki işlemini yapmamızın sebebi filter bize bir nesne döndürüyor. \n",
    "print(list(filter(tek,sayılar)))   #ama sayıları ekrana yazdırmak için bu iki yöntemden birini yapmalıyız"
   ]
  },
  {
   "cell_type": "markdown",
   "metadata": {},
   "source": [
    "Filter fonksiyonu iki parametre alır. Bunlardan birincisi filtreleme işlemini belirleyen fonksiyondur. İkinciside filtreleme işleminin yapılacağı ögedir."
   ]
  },
  {
   "cell_type": "code",
   "execution_count": 11,
   "metadata": {},
   "outputs": [
    {
     "name": "stdout",
     "output_type": "stream",
     "text": [
      "<filter object at 0x00000131AEC5F160>\n"
     ]
    }
   ],
   "source": [
    "#Filter fonksiyonunu kullanırken * koymasaydık bize bir nesne döndürecekti. Biz ekrana yazdırmak istediğimiz için\n",
    "#* kullanıdk\n",
    "\n",
    "print(filter(tek,sayılar))"
   ]
  },
  {
   "cell_type": "code",
   "execution_count": 15,
   "metadata": {},
   "outputs": [
    {
     "name": "stdout",
     "output_type": "stream",
     "text": [
      "75 100\n"
     ]
    }
   ],
   "source": [
    "notlar ={'Onur':50,\n",
    "        'ahmet':25,\n",
    "        'beyza':75,\n",
    "        'ayşe':100}\n",
    "\n",
    "def filtre(n):\n",
    "    return n>=70\n",
    "\n",
    "print(*filter(filtre,notlar.values()))\n",
    "    "
   ]
  },
  {
   "cell_type": "code",
   "execution_count": 17,
   "metadata": {},
   "outputs": [
    {
     "name": "stdout",
     "output_type": "stream",
     "text": [
      "[1, 4, 9, 16, 25, 36, 64]\n"
     ]
    }
   ],
   "source": [
    "#4- map()\n",
    "'''map fonksiyonunu istediğimiz verileri belirli bir işlem yaptırmak istediğimizde kullanırız'''\n",
    "\n",
    "sayılar=[1,2,3,4,5,6,8]\n",
    "\n",
    "def kare(n):\n",
    "    return n**2\n",
    "print(list(map(kare,sayılar)))"
   ]
  },
  {
   "cell_type": "code",
   "execution_count": 18,
   "metadata": {},
   "outputs": [
    {
     "name": "stdout",
     "output_type": "stream",
     "text": [
      "('a', 'd') ('b', 'e') ('c', 'f')\n"
     ]
    }
   ],
   "source": [
    "#5- zip()\n",
    "\n",
    "list1=['a','b','c']\n",
    "list2=['d','e','f']\n",
    "\n",
    "#listelerin elemanlarını birbirleriyle eşleştirmek istiyorsak zip fonksiyonu kullanırız.\n",
    "print(*zip(list1,list2))"
   ]
  },
  {
   "cell_type": "code",
   "execution_count": 19,
   "metadata": {},
   "outputs": [
    {
     "name": "stdout",
     "output_type": "stream",
     "text": [
      "Onur 20 yasında\n",
      "Yılmaz 24 yasında\n",
      "Ebru 27 yasında\n"
     ]
    }
   ],
   "source": [
    "isimler=['Onur','Yılmaz','Ebru']\n",
    "yaslar=['20','24','27']\n",
    "\n",
    "for i,y in zip(isimler,yaslar):\n",
    "    print(f'{i} {y} yasında')"
   ]
  },
  {
   "cell_type": "markdown",
   "metadata": {},
   "source": [
    "### Lambda fonksiyonları"
   ]
  },
  {
   "cell_type": "markdown",
   "metadata": {},
   "source": [
    "işlevsellik açısından daha kullanışlı olan, def gibi daha çok alan kaplamayan tek satırda kolayca fonksiyon tanımlamamıza yarayan fonksiyonlardır. Örnek üzerinde inceleyelim"
   ]
  },
  {
   "cell_type": "code",
   "execution_count": 7,
   "metadata": {},
   "outputs": [
    {
     "name": "stdout",
     "output_type": "stream",
     "text": [
      "[1, 9, 25, 49, 81]\n"
     ]
    }
   ],
   "source": [
    "#Örneğin kare alma fonksiyonundan ilerleyelim\n",
    "\n",
    "def kareAl(n):\n",
    "    return n**2\n",
    "\n",
    "liste=[1,3,5,7,9]\n",
    "\n",
    "print(list(map(kareAl,liste)))"
   ]
  },
  {
   "cell_type": "code",
   "execution_count": 8,
   "metadata": {},
   "outputs": [],
   "source": [
    "#Ancak biz kare alma işlemini bir kez gerçekleştireceksek eğer ismi olman fonksiyon tanımlayabilirz\n",
    "# Bu fonksiyonlara lambda fonksiyonları denilmektedir"
   ]
  },
  {
   "cell_type": "code",
   "execution_count": 10,
   "metadata": {},
   "outputs": [
    {
     "name": "stdout",
     "output_type": "stream",
     "text": [
      "[1, 9, 25, 49, 81]\n"
     ]
    }
   ],
   "source": [
    "result= list(map(lambda n : n**2,liste))\n",
    "print(result)"
   ]
  },
  {
   "cell_type": "code",
   "execution_count": 11,
   "metadata": {},
   "outputs": [],
   "source": [
    "#lambda fonksiyonunu normal fonksiyon gibi kullanmak istersek eğer bir isim verip aynı şekilde kullanabiliriz\n",
    "\n",
    "squared=lambda n : n**2\n"
   ]
  },
  {
   "cell_type": "code",
   "execution_count": 13,
   "metadata": {
    "scrolled": true
   },
   "outputs": [
    {
     "name": "stdout",
     "output_type": "stream",
     "text": [
      "9\n"
     ]
    }
   ],
   "source": [
    "print(squared(3))"
   ]
  },
  {
   "cell_type": "code",
   "execution_count": 14,
   "metadata": {},
   "outputs": [],
   "source": [
    "#lambda fonksiyonlarına fonksiyonda yollayabiliriz\n",
    "\n",
    "fonk= lambda x, func : x + func(x)"
   ]
  },
  {
   "cell_type": "code",
   "execution_count": 15,
   "metadata": {},
   "outputs": [
    {
     "name": "stdout",
     "output_type": "stream",
     "text": [
      "30\n"
     ]
    }
   ],
   "source": [
    "print(fonk(3,lambda x : x**3))"
   ]
  },
  {
   "cell_type": "code",
   "execution_count": 17,
   "metadata": {},
   "outputs": [
    {
     "name": "stdout",
     "output_type": "stream",
     "text": [
      "74\n"
     ]
    }
   ],
   "source": [
    "#Matematikteki denklemleri lambda fonksiyonları ile yazabilirsiniz\n",
    "\n",
    "a = lambda x,y : x**2 + 3*x*y + 4*y\n",
    "print(a(2,7))"
   ]
  },
  {
   "cell_type": "markdown",
   "metadata": {},
   "source": [
    "### Özyinelemeli (Recursive Fonksiyonlar)"
   ]
  },
  {
   "cell_type": "markdown",
   "metadata": {},
   "source": [
    "Kendini çağıran fonksiyonlardır. Döngüler gibi çalışırlar"
   ]
  },
  {
   "cell_type": "code",
   "execution_count": 2,
   "metadata": {},
   "outputs": [
    {
     "ename": "RecursionError",
     "evalue": "maximum recursion depth exceeded",
     "output_type": "error",
     "traceback": [
      "\u001b[1;31m---------------------------------------------------------------------------\u001b[0m",
      "\u001b[1;31mRecursionError\u001b[0m                            Traceback (most recent call last)",
      "\u001b[1;32m<ipython-input-2-e0339df567c7>\u001b[0m in \u001b[0;36m<module>\u001b[1;34m\u001b[0m\n\u001b[0;32m      2\u001b[0m     \u001b[1;32mreturn\u001b[0m \u001b[0mrecursive_fonksiyon\u001b[0m\u001b[1;33m(\u001b[0m\u001b[0msayi\u001b[0m\u001b[1;33m/\u001b[0m\u001b[1;36m2\u001b[0m\u001b[1;33m)\u001b[0m\u001b[1;33m\u001b[0m\u001b[1;33m\u001b[0m\u001b[0m\n\u001b[0;32m      3\u001b[0m \u001b[1;33m\u001b[0m\u001b[0m\n\u001b[1;32m----> 4\u001b[1;33m \u001b[0mrecursive_fonksiyon\u001b[0m\u001b[1;33m(\u001b[0m\u001b[1;36m5\u001b[0m\u001b[1;33m)\u001b[0m\u001b[1;33m\u001b[0m\u001b[1;33m\u001b[0m\u001b[0m\n\u001b[0m\u001b[0;32m      5\u001b[0m \u001b[1;33m\u001b[0m\u001b[0m\n\u001b[0;32m      6\u001b[0m \u001b[1;31m#dikkat etmemiz gereken bir nokta var. Bu fonksiyonların bir dip noktası olmak zorunda\u001b[0m\u001b[1;33m\u001b[0m\u001b[1;33m\u001b[0m\u001b[1;33m\u001b[0m\u001b[0m\n",
      "\u001b[1;32m<ipython-input-2-e0339df567c7>\u001b[0m in \u001b[0;36mrecursive_fonksiyon\u001b[1;34m(sayi)\u001b[0m\n\u001b[0;32m      1\u001b[0m \u001b[1;32mdef\u001b[0m \u001b[0mrecursive_fonksiyon\u001b[0m\u001b[1;33m(\u001b[0m\u001b[0msayi\u001b[0m\u001b[1;33m)\u001b[0m\u001b[1;33m:\u001b[0m\u001b[1;33m\u001b[0m\u001b[1;33m\u001b[0m\u001b[0m\n\u001b[1;32m----> 2\u001b[1;33m     \u001b[1;32mreturn\u001b[0m \u001b[0mrecursive_fonksiyon\u001b[0m\u001b[1;33m(\u001b[0m\u001b[0msayi\u001b[0m\u001b[1;33m/\u001b[0m\u001b[1;36m2\u001b[0m\u001b[1;33m)\u001b[0m\u001b[1;33m\u001b[0m\u001b[1;33m\u001b[0m\u001b[0m\n\u001b[0m\u001b[0;32m      3\u001b[0m \u001b[1;33m\u001b[0m\u001b[0m\n\u001b[0;32m      4\u001b[0m \u001b[0mrecursive_fonksiyon\u001b[0m\u001b[1;33m(\u001b[0m\u001b[1;36m5\u001b[0m\u001b[1;33m)\u001b[0m\u001b[1;33m\u001b[0m\u001b[1;33m\u001b[0m\u001b[0m\n\u001b[0;32m      5\u001b[0m \u001b[1;33m\u001b[0m\u001b[0m\n",
      "... last 1 frames repeated, from the frame below ...\n",
      "\u001b[1;32m<ipython-input-2-e0339df567c7>\u001b[0m in \u001b[0;36mrecursive_fonksiyon\u001b[1;34m(sayi)\u001b[0m\n\u001b[0;32m      1\u001b[0m \u001b[1;32mdef\u001b[0m \u001b[0mrecursive_fonksiyon\u001b[0m\u001b[1;33m(\u001b[0m\u001b[0msayi\u001b[0m\u001b[1;33m)\u001b[0m\u001b[1;33m:\u001b[0m\u001b[1;33m\u001b[0m\u001b[1;33m\u001b[0m\u001b[0m\n\u001b[1;32m----> 2\u001b[1;33m     \u001b[1;32mreturn\u001b[0m \u001b[0mrecursive_fonksiyon\u001b[0m\u001b[1;33m(\u001b[0m\u001b[0msayi\u001b[0m\u001b[1;33m/\u001b[0m\u001b[1;36m2\u001b[0m\u001b[1;33m)\u001b[0m\u001b[1;33m\u001b[0m\u001b[1;33m\u001b[0m\u001b[0m\n\u001b[0m\u001b[0;32m      3\u001b[0m \u001b[1;33m\u001b[0m\u001b[0m\n\u001b[0;32m      4\u001b[0m \u001b[0mrecursive_fonksiyon\u001b[0m\u001b[1;33m(\u001b[0m\u001b[1;36m5\u001b[0m\u001b[1;33m)\u001b[0m\u001b[1;33m\u001b[0m\u001b[1;33m\u001b[0m\u001b[0m\n\u001b[0;32m      5\u001b[0m \u001b[1;33m\u001b[0m\u001b[0m\n",
      "\u001b[1;31mRecursionError\u001b[0m: maximum recursion depth exceeded"
     ]
    }
   ],
   "source": [
    "def recursive_fonksiyon(sayi):\n",
    "    return recursive_fonksiyon(sayi/2)\n",
    " \n",
    "recursive_fonksiyon(5)\n",
    "\n",
    "#dikkat etmemiz gereken bir nokta var. Bu fonksiyonların bir dip noktası olmak zorunda\n",
    "#Yani bu örnekteki gibi sonsuza kadar sürecek bir işlem yaparsak Python bize hata verecektir."
   ]
  },
  {
   "cell_type": "code",
   "execution_count": 3,
   "metadata": {},
   "outputs": [],
   "source": [
    "#sıfırdan n e kadar olan sayıların toplamını hesaplayalım\n",
    "def toplam(sayı):\n",
    "    if sayı == 1:   #bu fonksiyonun temel kısmıdır.Yani fonksiyonun sınır noktasıdır\n",
    "        return 1 \n",
    "    else:    #bu kısım yenilenen kısımdır\n",
    "        return sayı + toplam(sayı-1)"
   ]
  },
  {
   "cell_type": "code",
   "execution_count": 6,
   "metadata": {},
   "outputs": [
    {
     "data": {
      "text/plain": [
       "15"
      ]
     },
     "execution_count": 6,
     "metadata": {},
     "output_type": "execute_result"
    }
   ],
   "source": [
    "toplam(5)"
   ]
  },
  {
   "cell_type": "markdown",
   "metadata": {},
   "source": [
    "Fonksiyon şu şekilde çalışıyor                                                                             \n",
    "return 5 + toplam(4)                              return 5 + 10                                             \n",
    "    return 4 + toplam(3)                     return 4 + 6                                                      \n",
    "        return 3 + toplam(2)                return 3+3                                                           \n",
    "            return 2 + toplam(1)         return 2+1                                                                  \n",
    "                return 1"
   ]
  },
  {
   "cell_type": "code",
   "execution_count": 12,
   "metadata": {},
   "outputs": [],
   "source": [
    "#Aldığı sayının kaç basamaklı olduğunu yazdıran bir recursive fonksiyon\n",
    "def basamak_sayisi(sayi):\n",
    "    if sayi%10 < 1:\n",
    "        return 0\n",
    "    else:\n",
    "        return 1 + basamak_sayisi(sayi/10)"
   ]
  },
  {
   "cell_type": "code",
   "execution_count": 15,
   "metadata": {},
   "outputs": [
    {
     "data": {
      "text/plain": [
       "18"
      ]
     },
     "execution_count": 15,
     "metadata": {},
     "output_type": "execute_result"
    }
   ],
   "source": [
    "basamak_sayisi(123456789123456789)"
   ]
  },
  {
   "cell_type": "markdown",
   "metadata": {},
   "source": [
    "#### iç içe fonksiyonlar"
   ]
  },
  {
   "cell_type": "code",
   "execution_count": 21,
   "metadata": {},
   "outputs": [],
   "source": [
    "def merhaba(isim):\n",
    "    def yazdır():\n",
    "        print('merhaba',isim)\n",
    "    return yazdır()"
   ]
  },
  {
   "cell_type": "code",
   "execution_count": 22,
   "metadata": {},
   "outputs": [
    {
     "name": "stdout",
     "output_type": "stream",
     "text": [
      "merhaba onur\n"
     ]
    }
   ],
   "source": [
    "merhaba('onur')"
   ]
  },
  {
   "cell_type": "code",
   "execution_count": null,
   "metadata": {},
   "outputs": [],
   "source": []
  }
 ],
 "metadata": {
  "kernelspec": {
   "display_name": "Python 3",
   "language": "python",
   "name": "python3"
  },
  "language_info": {
   "codemirror_mode": {
    "name": "ipython",
    "version": 3
   },
   "file_extension": ".py",
   "mimetype": "text/x-python",
   "name": "python",
   "nbconvert_exporter": "python",
   "pygments_lexer": "ipython3",
   "version": "3.8.3"
  }
 },
 "nbformat": 4,
 "nbformat_minor": 4
}
